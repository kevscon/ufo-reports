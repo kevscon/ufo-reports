{
 "cells": [
  {
   "cell_type": "code",
   "execution_count": 1,
   "metadata": {},
   "outputs": [],
   "source": [
    "import numpy as np\n",
    "import pandas as pd"
   ]
  },
  {
   "cell_type": "code",
   "execution_count": 2,
   "metadata": {},
   "outputs": [],
   "source": [
    "import re\n",
    "import datetime\n",
    "import calendar"
   ]
  },
  {
   "cell_type": "markdown",
   "metadata": {},
   "source": [
    "# Report Data"
   ]
  },
  {
   "cell_type": "code",
   "execution_count": 3,
   "metadata": {},
   "outputs": [
    {
     "data": {
      "text/html": [
       "<div>\n",
       "<style scoped>\n",
       "    .dataframe tbody tr th:only-of-type {\n",
       "        vertical-align: middle;\n",
       "    }\n",
       "\n",
       "    .dataframe tbody tr th {\n",
       "        vertical-align: top;\n",
       "    }\n",
       "\n",
       "    .dataframe thead th {\n",
       "        text-align: right;\n",
       "    }\n",
       "</style>\n",
       "<table border=\"1\" class=\"dataframe\">\n",
       "  <thead>\n",
       "    <tr style=\"text-align: right;\">\n",
       "      <th></th>\n",
       "      <th>datetime</th>\n",
       "      <th>city</th>\n",
       "      <th>state</th>\n",
       "      <th>shape</th>\n",
       "      <th>duration</th>\n",
       "      <th>post_date</th>\n",
       "      <th>report_text</th>\n",
       "    </tr>\n",
       "    <tr>\n",
       "      <th>report_id</th>\n",
       "      <th></th>\n",
       "      <th></th>\n",
       "      <th></th>\n",
       "      <th></th>\n",
       "      <th></th>\n",
       "      <th></th>\n",
       "      <th></th>\n",
       "    </tr>\n",
       "  </thead>\n",
       "  <tbody>\n",
       "    <tr>\n",
       "      <th>073/S73909</th>\n",
       "      <td>1/1/10 00:00</td>\n",
       "      <td>Park City</td>\n",
       "      <td>KY</td>\n",
       "      <td>Light</td>\n",
       "      <td>2-3 seconds</td>\n",
       "      <td>2/14/10</td>\n",
       "      <td>Lights orbiting the moon,I am 10,and i was wit...</td>\n",
       "    </tr>\n",
       "    <tr>\n",
       "      <th>073/S73977</th>\n",
       "      <td>1/1/10</td>\n",
       "      <td>Glasgow (UK/Scotland)</td>\n",
       "      <td>NaN</td>\n",
       "      <td>Fireball</td>\n",
       "      <td>2 minutes</td>\n",
       "      <td>2/14/10</td>\n",
       "      <td>Bright orange, glowing orb came towards us.  I...</td>\n",
       "    </tr>\n",
       "    <tr>\n",
       "      <th>073/S73915</th>\n",
       "      <td>1/1/10 00:00</td>\n",
       "      <td>La Mesa</td>\n",
       "      <td>CA</td>\n",
       "      <td>Light</td>\n",
       "      <td>10 min</td>\n",
       "      <td>2/14/10</td>\n",
       "      <td>Three red lights over southern California that...</td>\n",
       "    </tr>\n",
       "    <tr>\n",
       "      <th>078/S78231</th>\n",
       "      <td>1/1/10 00:00</td>\n",
       "      <td>Benton</td>\n",
       "      <td>AR</td>\n",
       "      <td>Circle</td>\n",
       "      <td>5 mins.</td>\n",
       "      <td>11/21/10</td>\n",
       "      <td>4 bright green circles high in the sky going i...</td>\n",
       "    </tr>\n",
       "    <tr>\n",
       "      <th>073/S73918</th>\n",
       "      <td>1/1/10 00:00</td>\n",
       "      <td>El Cajon</td>\n",
       "      <td>CA</td>\n",
       "      <td>Triangle</td>\n",
       "      <td>12 minutes</td>\n",
       "      <td>2/14/10</td>\n",
       "      <td>3 Red objects hovering over El Cajon CA  ,Exit...</td>\n",
       "    </tr>\n",
       "  </tbody>\n",
       "</table>\n",
       "</div>"
      ],
      "text/plain": [
       "                datetime                   city state     shape     duration  \\\n",
       "report_id                                                                      \n",
       "073/S73909  1/1/10 00:00              Park City    KY     Light  2-3 seconds   \n",
       "073/S73977        1/1/10  Glasgow (UK/Scotland)   NaN  Fireball    2 minutes   \n",
       "073/S73915  1/1/10 00:00                La Mesa    CA     Light       10 min   \n",
       "078/S78231  1/1/10 00:00                 Benton    AR    Circle      5 mins.   \n",
       "073/S73918  1/1/10 00:00               El Cajon    CA  Triangle   12 minutes   \n",
       "\n",
       "           post_date                                        report_text  \n",
       "report_id                                                                \n",
       "073/S73909   2/14/10  Lights orbiting the moon,I am 10,and i was wit...  \n",
       "073/S73977   2/14/10  Bright orange, glowing orb came towards us.  I...  \n",
       "073/S73915   2/14/10  Three red lights over southern California that...  \n",
       "078/S78231  11/21/10  4 bright green circles high in the sky going i...  \n",
       "073/S73918   2/14/10  3 Red objects hovering over El Cajon CA  ,Exit...  "
      ]
     },
     "execution_count": 3,
     "metadata": {},
     "output_type": "execute_result"
    }
   ],
   "source": [
    "raw_df = pd.read_csv('data/report_scrape/report_text.csv')\n",
    "raw_df.set_index('report_id', inplace=True)\n",
    "raw_df.head()"
   ]
  },
  {
   "cell_type": "markdown",
   "metadata": {},
   "source": [
    "# Duplicate Reports"
   ]
  },
  {
   "cell_type": "code",
   "execution_count": 4,
   "metadata": {},
   "outputs": [
    {
     "data": {
      "text/plain": [
       "7841"
      ]
     },
     "execution_count": 4,
     "metadata": {},
     "output_type": "execute_result"
    }
   ],
   "source": [
    "# number of duplicate reports\n",
    "raw_df.duplicated().sum()"
   ]
  },
  {
   "cell_type": "code",
   "execution_count": 5,
   "metadata": {},
   "outputs": [],
   "source": [
    "# remove duplicates\n",
    "raw_df.drop_duplicates(inplace=True)"
   ]
  },
  {
   "cell_type": "code",
   "execution_count": 6,
   "metadata": {},
   "outputs": [
    {
     "data": {
      "text/plain": [
       "61891"
      ]
     },
     "execution_count": 6,
     "metadata": {},
     "output_type": "execute_result"
    }
   ],
   "source": [
    "len(raw_df)"
   ]
  },
  {
   "cell_type": "code",
   "execution_count": 7,
   "metadata": {},
   "outputs": [],
   "source": [
    "ufo_df = raw_df.copy()"
   ]
  },
  {
   "cell_type": "code",
   "execution_count": 8,
   "metadata": {},
   "outputs": [
    {
     "data": {
      "text/plain": [
       "61891"
      ]
     },
     "execution_count": 8,
     "metadata": {},
     "output_type": "execute_result"
    }
   ],
   "source": [
    "len(ufo_df)"
   ]
  },
  {
   "cell_type": "markdown",
   "metadata": {},
   "source": [
    "# Report Text\n",
    "- Missing Text\n",
    "- MADAR"
   ]
  },
  {
   "cell_type": "markdown",
   "metadata": {},
   "source": [
    "## Missing Text"
   ]
  },
  {
   "cell_type": "code",
   "execution_count": 9,
   "metadata": {
    "scrolled": true
   },
   "outputs": [
    {
     "data": {
      "text/plain": [
       "51"
      ]
     },
     "execution_count": 9,
     "metadata": {},
     "output_type": "execute_result"
    }
   ],
   "source": [
    "# number of reports missing text\n",
    "ufo_df['report_text'].isna().sum()"
   ]
  },
  {
   "cell_type": "code",
   "execution_count": 10,
   "metadata": {},
   "outputs": [],
   "source": [
    "# drop reports missing text\n",
    "ufo_df.dropna(subset=['report_text'], inplace=True)"
   ]
  },
  {
   "cell_type": "markdown",
   "metadata": {},
   "source": [
    "## MADAR\n",
    "Remove \"MADAR Node\" reports"
   ]
  },
  {
   "cell_type": "code",
   "execution_count": 11,
   "metadata": {},
   "outputs": [
    {
     "data": {
      "text/plain": [
       "710"
      ]
     },
     "execution_count": 11,
     "metadata": {},
     "output_type": "execute_result"
    }
   ],
   "source": [
    "# number of MADAR reports\n",
    "ufo_df['report_text'].str.startswith('MADAR').sum()"
   ]
  },
  {
   "cell_type": "code",
   "execution_count": 12,
   "metadata": {},
   "outputs": [],
   "source": [
    "# filter out MADAR reports\n",
    "ufo_df = ufo_df[~ufo_df['report_text'].str.startswith('MADAR')]"
   ]
  },
  {
   "cell_type": "markdown",
   "metadata": {},
   "source": [
    "# Shape"
   ]
  },
  {
   "cell_type": "markdown",
   "metadata": {},
   "source": [
    "## nans\n",
    "fill NaNs with \"Unknown\""
   ]
  },
  {
   "cell_type": "code",
   "execution_count": 13,
   "metadata": {},
   "outputs": [
    {
     "data": {
      "text/plain": [
       "array(['Light', 'Fireball', 'Circle', 'Triangle', 'Unknown', 'Formation',\n",
       "       'Other', 'Sphere', 'Diamond', 'Oval', 'Disk', 'Chevron', nan,\n",
       "       'Changing', 'Rectangle', 'Cross', 'Flash', 'Cigar', 'Teardrop',\n",
       "       'Cylinder', 'Egg', 'Cone', 'TRIANGULAR'], dtype=object)"
      ]
     },
     "execution_count": 13,
     "metadata": {},
     "output_type": "execute_result"
    }
   ],
   "source": [
    "# shape types\n",
    "ufo_df['shape'].unique()"
   ]
  },
  {
   "cell_type": "code",
   "execution_count": 14,
   "metadata": {},
   "outputs": [
    {
     "data": {
      "text/plain": [
       "1163"
      ]
     },
     "execution_count": 14,
     "metadata": {},
     "output_type": "execute_result"
    }
   ],
   "source": [
    "# number of reports missing shape\n",
    "ufo_df['shape'].isna().sum()"
   ]
  },
  {
   "cell_type": "code",
   "execution_count": 15,
   "metadata": {},
   "outputs": [],
   "source": [
    "# replace nans with unknown\n",
    "ufo_df['shape'] = ufo_df['shape'].replace(float('NaN'), 'Unknown')"
   ]
  },
  {
   "cell_type": "markdown",
   "metadata": {},
   "source": [
    "# Location \n",
    "- Drop Missing\n",
    "- Geolocation Filtering\n",
    "- Assign Regions"
   ]
  },
  {
   "cell_type": "markdown",
   "metadata": {},
   "source": [
    "## Drop Missing"
   ]
  },
  {
   "cell_type": "code",
   "execution_count": 16,
   "metadata": {},
   "outputs": [
    {
     "data": {
      "text/plain": [
       "113"
      ]
     },
     "execution_count": 16,
     "metadata": {},
     "output_type": "execute_result"
    }
   ],
   "source": [
    "# number of reports missing city locations\n",
    "ufo_df['city'].isna().sum()"
   ]
  },
  {
   "cell_type": "code",
   "execution_count": 17,
   "metadata": {},
   "outputs": [],
   "source": [
    "# drop reports without city location\n",
    "ufo_df.dropna(subset=['city'], inplace=True)"
   ]
  },
  {
   "cell_type": "markdown",
   "metadata": {},
   "source": [
    "## Geolocation Filter\n",
    "- Retrieve US geolocations from simplemaps using coordinates:\n",
    "https://simplemaps.com/data/us-cities\n",
    "- Filter only incorporated, US communities"
   ]
  },
  {
   "cell_type": "code",
   "execution_count": 18,
   "metadata": {},
   "outputs": [],
   "source": [
    "# add geolocation\n",
    "ufo_df['geolocation'] = ufo_df['city'] + ', ' + ufo_df['state']"
   ]
  },
  {
   "cell_type": "code",
   "execution_count": 19,
   "metadata": {},
   "outputs": [],
   "source": [
    "# read in city coordinates dataframe\n",
    "geo_cities = pd.read_csv('data/simplemaps_uscities_basicv1.6/uscities_2019-09.csv', \n",
    "                         usecols=['city', 'state_id'])\n",
    "# list of cities\n",
    "geo_locs = geo_cities['city'] + ', ' + geo_cities['state_id']"
   ]
  },
  {
   "cell_type": "code",
   "execution_count": 20,
   "metadata": {},
   "outputs": [
    {
     "data": {
      "text/plain": [
       "15025"
      ]
     },
     "execution_count": 20,
     "metadata": {},
     "output_type": "execute_result"
    }
   ],
   "source": [
    "# number of reports in unincorporated communities\n",
    "len(ufo_df) - ufo_df['geolocation'].isin(geo_locs).sum()"
   ]
  },
  {
   "cell_type": "code",
   "execution_count": 21,
   "metadata": {},
   "outputs": [],
   "source": [
    "# filter only incorporated communities\n",
    "ufo_df = ufo_df[ufo_df['geolocation'].isin(geo_locs)]"
   ]
  },
  {
   "cell_type": "markdown",
   "metadata": {},
   "source": [
    "## Assign Regions"
   ]
  },
  {
   "cell_type": "code",
   "execution_count": 22,
   "metadata": {},
   "outputs": [],
   "source": [
    "# dictinonary of US regions by state abbreviation\n",
    "us_divisions = {\n",
    "    'CT': 'New England', 'ME': 'New England', 'MA': 'New England', \n",
    "    'NH': 'New England', 'RI': 'New England', 'VT': 'New England',\n",
    "    'NJ': 'Mid-Atlantic', 'NY': 'Mid-Atlantic', 'PA': 'Mid-Atlantic',\n",
    "    'IL': 'East North Central', 'IN': 'East North Central', 'MI': 'East North Central', \n",
    "    'OH': 'East North Central', 'WI': 'East North Central',\n",
    "    'IA': 'West North Central', 'KS': 'West North Central', 'MN': 'West North Central', \n",
    "    'MO': 'West North Central', 'NE': 'West North Central', 'ND': 'West North Central', \n",
    "    'SD': 'West North Central',\n",
    "    'DE': 'South Atlantic', 'FL': 'South Atlantic', 'GA': 'South Atlantic', 'MD': 'South Atlantic', \n",
    "    'NC': 'South Atlantic', 'SC': 'South Atlantic', 'VA': 'South Atlantic', 'DC': 'South Atlantic', \n",
    "    'WV': 'South Atlantic',\n",
    "    'AL': 'East South Central', 'KY': 'East South Central', 'MS': 'East South Central', \n",
    "    'TN': 'East South Central',\n",
    "    'AR': 'West South Central', 'LA': 'West South Central', 'OK': 'West South Central', \n",
    "    'TX': 'West South Central',\n",
    "    'AZ': 'Mountain', 'CO': 'Mountain', 'ID': 'Mountain', 'MT': 'Mountain', 'NV': 'Mountain', \n",
    "    'NM': 'Mountain', 'UT': 'Mountain', 'WY': 'Mountain',\n",
    "    'AK': 'Pacific', 'CA': 'Pacific', 'HI': 'Pacific', 'OR': 'Pacific', 'WA': 'Pacific'\n",
    "}"
   ]
  },
  {
   "cell_type": "code",
   "execution_count": 23,
   "metadata": {},
   "outputs": [],
   "source": [
    "ufo_df['region'] = ufo_df['state'].apply(lambda x: us_divisions[x])"
   ]
  },
  {
   "cell_type": "code",
   "execution_count": 24,
   "metadata": {},
   "outputs": [
    {
     "data": {
      "text/html": [
       "<div>\n",
       "<style scoped>\n",
       "    .dataframe tbody tr th:only-of-type {\n",
       "        vertical-align: middle;\n",
       "    }\n",
       "\n",
       "    .dataframe tbody tr th {\n",
       "        vertical-align: top;\n",
       "    }\n",
       "\n",
       "    .dataframe thead th {\n",
       "        text-align: right;\n",
       "    }\n",
       "</style>\n",
       "<table border=\"1\" class=\"dataframe\">\n",
       "  <thead>\n",
       "    <tr style=\"text-align: right;\">\n",
       "      <th></th>\n",
       "      <th>datetime</th>\n",
       "      <th>city</th>\n",
       "      <th>state</th>\n",
       "      <th>shape</th>\n",
       "      <th>duration</th>\n",
       "      <th>post_date</th>\n",
       "      <th>report_text</th>\n",
       "      <th>geolocation</th>\n",
       "      <th>region</th>\n",
       "    </tr>\n",
       "    <tr>\n",
       "      <th>report_id</th>\n",
       "      <th></th>\n",
       "      <th></th>\n",
       "      <th></th>\n",
       "      <th></th>\n",
       "      <th></th>\n",
       "      <th></th>\n",
       "      <th></th>\n",
       "      <th></th>\n",
       "      <th></th>\n",
       "    </tr>\n",
       "  </thead>\n",
       "  <tbody>\n",
       "    <tr>\n",
       "      <th>073/S73909</th>\n",
       "      <td>1/1/10 00:00</td>\n",
       "      <td>Park City</td>\n",
       "      <td>KY</td>\n",
       "      <td>Light</td>\n",
       "      <td>2-3 seconds</td>\n",
       "      <td>2/14/10</td>\n",
       "      <td>Lights orbiting the moon,I am 10,and i was wit...</td>\n",
       "      <td>Park City, KY</td>\n",
       "      <td>East South Central</td>\n",
       "    </tr>\n",
       "    <tr>\n",
       "      <th>073/S73915</th>\n",
       "      <td>1/1/10 00:00</td>\n",
       "      <td>La Mesa</td>\n",
       "      <td>CA</td>\n",
       "      <td>Light</td>\n",
       "      <td>10 min</td>\n",
       "      <td>2/14/10</td>\n",
       "      <td>Three red lights over southern California that...</td>\n",
       "      <td>La Mesa, CA</td>\n",
       "      <td>Pacific</td>\n",
       "    </tr>\n",
       "    <tr>\n",
       "      <th>078/S78231</th>\n",
       "      <td>1/1/10 00:00</td>\n",
       "      <td>Benton</td>\n",
       "      <td>AR</td>\n",
       "      <td>Circle</td>\n",
       "      <td>5 mins.</td>\n",
       "      <td>11/21/10</td>\n",
       "      <td>4 bright green circles high in the sky going i...</td>\n",
       "      <td>Benton, AR</td>\n",
       "      <td>West South Central</td>\n",
       "    </tr>\n",
       "    <tr>\n",
       "      <th>073/S73918</th>\n",
       "      <td>1/1/10 00:00</td>\n",
       "      <td>El Cajon</td>\n",
       "      <td>CA</td>\n",
       "      <td>Triangle</td>\n",
       "      <td>12 minutes</td>\n",
       "      <td>2/14/10</td>\n",
       "      <td>3 Red objects hovering over El Cajon CA  ,Exit...</td>\n",
       "      <td>El Cajon, CA</td>\n",
       "      <td>Pacific</td>\n",
       "    </tr>\n",
       "    <tr>\n",
       "      <th>073/S73916</th>\n",
       "      <td>1/1/10 00:00</td>\n",
       "      <td>Lemon Grove</td>\n",
       "      <td>CA</td>\n",
       "      <td>Light</td>\n",
       "      <td>about 15 minutes</td>\n",
       "      <td>2/14/10</td>\n",
       "      <td>3 Red lights in line pattern above El Cajon/ E...</td>\n",
       "      <td>Lemon Grove, CA</td>\n",
       "      <td>Pacific</td>\n",
       "    </tr>\n",
       "  </tbody>\n",
       "</table>\n",
       "</div>"
      ],
      "text/plain": [
       "                datetime         city state     shape          duration  \\\n",
       "report_id                                                                 \n",
       "073/S73909  1/1/10 00:00    Park City    KY     Light       2-3 seconds   \n",
       "073/S73915  1/1/10 00:00      La Mesa    CA     Light            10 min   \n",
       "078/S78231  1/1/10 00:00       Benton    AR    Circle           5 mins.   \n",
       "073/S73918  1/1/10 00:00     El Cajon    CA  Triangle        12 minutes   \n",
       "073/S73916  1/1/10 00:00  Lemon Grove    CA     Light  about 15 minutes   \n",
       "\n",
       "           post_date                                        report_text  \\\n",
       "report_id                                                                 \n",
       "073/S73909   2/14/10  Lights orbiting the moon,I am 10,and i was wit...   \n",
       "073/S73915   2/14/10  Three red lights over southern California that...   \n",
       "078/S78231  11/21/10  4 bright green circles high in the sky going i...   \n",
       "073/S73918   2/14/10  3 Red objects hovering over El Cajon CA  ,Exit...   \n",
       "073/S73916   2/14/10  3 Red lights in line pattern above El Cajon/ E...   \n",
       "\n",
       "                geolocation              region  \n",
       "report_id                                        \n",
       "073/S73909    Park City, KY  East South Central  \n",
       "073/S73915      La Mesa, CA             Pacific  \n",
       "078/S78231       Benton, AR  West South Central  \n",
       "073/S73918     El Cajon, CA             Pacific  \n",
       "073/S73916  Lemon Grove, CA             Pacific  "
      ]
     },
     "execution_count": 24,
     "metadata": {},
     "output_type": "execute_result"
    }
   ],
   "source": [
    "ufo_df.head()"
   ]
  },
  {
   "cell_type": "markdown",
   "metadata": {},
   "source": [
    "# Timestamps\n",
    "- Drop Missing\n",
    "- Format\n",
    "- Time-based Features"
   ]
  },
  {
   "cell_type": "markdown",
   "metadata": {},
   "source": [
    "## Drop Missing"
   ]
  },
  {
   "cell_type": "code",
   "execution_count": 25,
   "metadata": {},
   "outputs": [
    {
     "data": {
      "text/plain": [
       "0"
      ]
     },
     "execution_count": 25,
     "metadata": {},
     "output_type": "execute_result"
    }
   ],
   "source": [
    "# number of reports missing timestamp\n",
    "ufo_df['datetime'].isna().sum()"
   ]
  },
  {
   "cell_type": "code",
   "execution_count": 26,
   "metadata": {},
   "outputs": [],
   "source": [
    "# drop reports without timestamp\n",
    "ufo_df.dropna(subset=['datetime'], inplace=True)"
   ]
  },
  {
   "cell_type": "code",
   "execution_count": 27,
   "metadata": {},
   "outputs": [],
   "source": [
    "# function to parse out time in timestamp\n",
    "def return_time(date_time):\n",
    "    try:\n",
    "        return(date_time.split(' ')[1])\n",
    "    except:\n",
    "        return(None)"
   ]
  },
  {
   "cell_type": "code",
   "execution_count": 28,
   "metadata": {},
   "outputs": [
    {
     "data": {
      "text/plain": [
       "312"
      ]
     },
     "execution_count": 28,
     "metadata": {},
     "output_type": "execute_result"
    }
   ],
   "source": [
    "# number of reports missing time\n",
    "ufo_df['datetime'].apply(lambda x: return_time(x)).isnull().sum()"
   ]
  },
  {
   "cell_type": "code",
   "execution_count": 29,
   "metadata": {},
   "outputs": [],
   "source": [
    "# filter out reports without time\n",
    "ufo_df = ufo_df[~ufo_df['datetime'].apply(lambda x: return_time(x)).isnull()]"
   ]
  },
  {
   "cell_type": "markdown",
   "metadata": {},
   "source": [
    "## Format"
   ]
  },
  {
   "cell_type": "code",
   "execution_count": 30,
   "metadata": {},
   "outputs": [
    {
     "data": {
      "text/plain": [
       "array(['X/X/XX XX:XX', 'X/XX/XX XX:XX', 'XX/X/XX XX:XX', 'XX/XX/XX XX:XX'],\n",
       "      dtype=object)"
      ]
     },
     "execution_count": 30,
     "metadata": {},
     "output_type": "execute_result"
    }
   ],
   "source": [
    "# datetime formats\n",
    "ufo_df['datetime'].apply(lambda x: re.sub('\\d', 'X', x)).unique()"
   ]
  },
  {
   "cell_type": "code",
   "execution_count": 31,
   "metadata": {},
   "outputs": [],
   "source": [
    "# convert to datetime objects\n",
    "ufo_df['datetime'] = pd.to_datetime(ufo_df['datetime'])"
   ]
  },
  {
   "cell_type": "markdown",
   "metadata": {},
   "source": [
    "## Time-based Features"
   ]
  },
  {
   "cell_type": "code",
   "execution_count": 32,
   "metadata": {},
   "outputs": [],
   "source": [
    "# extract season of timestamp\n",
    "Y = 2000 # dummy leap year to allow input X-02-29 (leap day)\n",
    "seasons = [('Winter', (datetime.date(Y,  1,  1),  datetime.date(Y,  3, 20))),\n",
    "           ('Spring', (datetime.date(Y,  3, 21),  datetime.date(Y,  6, 20))),\n",
    "           ('Summer', (datetime.date(Y,  6, 21),  datetime.date(Y,  9, 22))),\n",
    "           ('Fall', (datetime.date(Y,  9, 23),  datetime.date(Y, 12, 20))),\n",
    "           ('Winter', (datetime.date(Y, 12, 21),  datetime.date(Y, 12, 31)))]\n",
    "\n",
    "def get_season(timestamp):\n",
    "    timestamp_date = timestamp.date()\n",
    "    timestamp_date = timestamp_date.replace(year=Y)\n",
    "    return next(season for season, (start, end) in seasons\n",
    "                if start <= timestamp_date <= end)"
   ]
  },
  {
   "cell_type": "code",
   "execution_count": 33,
   "metadata": {},
   "outputs": [],
   "source": [
    "# seasons\n",
    "ufo_df['season'] = ufo_df['datetime'].apply(get_season)"
   ]
  },
  {
   "cell_type": "code",
   "execution_count": 34,
   "metadata": {},
   "outputs": [],
   "source": [
    "# extract timestamp month\n",
    "ufo_df['month'] = ufo_df['datetime'].apply(lambda x: calendar.month_name[x.month])"
   ]
  },
  {
   "cell_type": "code",
   "execution_count": 35,
   "metadata": {},
   "outputs": [],
   "source": [
    "# extract timestamp day of week\n",
    "ufo_df['day'] = ufo_df['datetime'].apply(lambda x: calendar.day_name[x.weekday()])"
   ]
  },
  {
   "cell_type": "code",
   "execution_count": 36,
   "metadata": {},
   "outputs": [],
   "source": [
    "# extract timestamp time of day category\n",
    "daytimes = [('Morning', (datetime.time(6),  datetime.time(11, 59, 59))),\n",
    "           ('Afternoon', (datetime.time(12),  datetime.time(17, 59, 59))),\n",
    "           ('Evening', (datetime.time(18),  datetime.time(23, 59, 59))),\n",
    "           ('Night', (datetime.time(0),  datetime.time(5, 59, 59)))]\n",
    "\n",
    "def get_daytime(timestamp):\n",
    "    timestamp_time = timestamp.strftime('%H:%M:%S')\n",
    "    return next(daytime for daytime, (start, end) in daytimes\n",
    "                if str(start) <= timestamp_time <= str(end))"
   ]
  },
  {
   "cell_type": "code",
   "execution_count": 37,
   "metadata": {},
   "outputs": [],
   "source": [
    "# extract timestamp time of day\n",
    "ufo_df['time_of_day'] = ufo_df['datetime'].apply(get_daytime)"
   ]
  },
  {
   "cell_type": "code",
   "execution_count": 38,
   "metadata": {},
   "outputs": [
    {
     "data": {
      "text/html": [
       "<div>\n",
       "<style scoped>\n",
       "    .dataframe tbody tr th:only-of-type {\n",
       "        vertical-align: middle;\n",
       "    }\n",
       "\n",
       "    .dataframe tbody tr th {\n",
       "        vertical-align: top;\n",
       "    }\n",
       "\n",
       "    .dataframe thead th {\n",
       "        text-align: right;\n",
       "    }\n",
       "</style>\n",
       "<table border=\"1\" class=\"dataframe\">\n",
       "  <thead>\n",
       "    <tr style=\"text-align: right;\">\n",
       "      <th></th>\n",
       "      <th>datetime</th>\n",
       "      <th>city</th>\n",
       "      <th>state</th>\n",
       "      <th>shape</th>\n",
       "      <th>duration</th>\n",
       "      <th>post_date</th>\n",
       "      <th>report_text</th>\n",
       "      <th>geolocation</th>\n",
       "      <th>region</th>\n",
       "      <th>season</th>\n",
       "      <th>month</th>\n",
       "      <th>day</th>\n",
       "      <th>time_of_day</th>\n",
       "    </tr>\n",
       "    <tr>\n",
       "      <th>report_id</th>\n",
       "      <th></th>\n",
       "      <th></th>\n",
       "      <th></th>\n",
       "      <th></th>\n",
       "      <th></th>\n",
       "      <th></th>\n",
       "      <th></th>\n",
       "      <th></th>\n",
       "      <th></th>\n",
       "      <th></th>\n",
       "      <th></th>\n",
       "      <th></th>\n",
       "      <th></th>\n",
       "    </tr>\n",
       "  </thead>\n",
       "  <tbody>\n",
       "    <tr>\n",
       "      <th>073/S73909</th>\n",
       "      <td>2010-01-01</td>\n",
       "      <td>Park City</td>\n",
       "      <td>KY</td>\n",
       "      <td>Light</td>\n",
       "      <td>2-3 seconds</td>\n",
       "      <td>2/14/10</td>\n",
       "      <td>Lights orbiting the moon,I am 10,and i was wit...</td>\n",
       "      <td>Park City, KY</td>\n",
       "      <td>East South Central</td>\n",
       "      <td>Winter</td>\n",
       "      <td>January</td>\n",
       "      <td>Friday</td>\n",
       "      <td>Night</td>\n",
       "    </tr>\n",
       "    <tr>\n",
       "      <th>073/S73915</th>\n",
       "      <td>2010-01-01</td>\n",
       "      <td>La Mesa</td>\n",
       "      <td>CA</td>\n",
       "      <td>Light</td>\n",
       "      <td>10 min</td>\n",
       "      <td>2/14/10</td>\n",
       "      <td>Three red lights over southern California that...</td>\n",
       "      <td>La Mesa, CA</td>\n",
       "      <td>Pacific</td>\n",
       "      <td>Winter</td>\n",
       "      <td>January</td>\n",
       "      <td>Friday</td>\n",
       "      <td>Night</td>\n",
       "    </tr>\n",
       "    <tr>\n",
       "      <th>078/S78231</th>\n",
       "      <td>2010-01-01</td>\n",
       "      <td>Benton</td>\n",
       "      <td>AR</td>\n",
       "      <td>Circle</td>\n",
       "      <td>5 mins.</td>\n",
       "      <td>11/21/10</td>\n",
       "      <td>4 bright green circles high in the sky going i...</td>\n",
       "      <td>Benton, AR</td>\n",
       "      <td>West South Central</td>\n",
       "      <td>Winter</td>\n",
       "      <td>January</td>\n",
       "      <td>Friday</td>\n",
       "      <td>Night</td>\n",
       "    </tr>\n",
       "    <tr>\n",
       "      <th>073/S73918</th>\n",
       "      <td>2010-01-01</td>\n",
       "      <td>El Cajon</td>\n",
       "      <td>CA</td>\n",
       "      <td>Triangle</td>\n",
       "      <td>12 minutes</td>\n",
       "      <td>2/14/10</td>\n",
       "      <td>3 Red objects hovering over El Cajon CA  ,Exit...</td>\n",
       "      <td>El Cajon, CA</td>\n",
       "      <td>Pacific</td>\n",
       "      <td>Winter</td>\n",
       "      <td>January</td>\n",
       "      <td>Friday</td>\n",
       "      <td>Night</td>\n",
       "    </tr>\n",
       "    <tr>\n",
       "      <th>073/S73916</th>\n",
       "      <td>2010-01-01</td>\n",
       "      <td>Lemon Grove</td>\n",
       "      <td>CA</td>\n",
       "      <td>Light</td>\n",
       "      <td>about 15 minutes</td>\n",
       "      <td>2/14/10</td>\n",
       "      <td>3 Red lights in line pattern above El Cajon/ E...</td>\n",
       "      <td>Lemon Grove, CA</td>\n",
       "      <td>Pacific</td>\n",
       "      <td>Winter</td>\n",
       "      <td>January</td>\n",
       "      <td>Friday</td>\n",
       "      <td>Night</td>\n",
       "    </tr>\n",
       "  </tbody>\n",
       "</table>\n",
       "</div>"
      ],
      "text/plain": [
       "             datetime         city state     shape          duration  \\\n",
       "report_id                                                              \n",
       "073/S73909 2010-01-01    Park City    KY     Light       2-3 seconds   \n",
       "073/S73915 2010-01-01      La Mesa    CA     Light            10 min   \n",
       "078/S78231 2010-01-01       Benton    AR    Circle           5 mins.   \n",
       "073/S73918 2010-01-01     El Cajon    CA  Triangle        12 minutes   \n",
       "073/S73916 2010-01-01  Lemon Grove    CA     Light  about 15 minutes   \n",
       "\n",
       "           post_date                                        report_text  \\\n",
       "report_id                                                                 \n",
       "073/S73909   2/14/10  Lights orbiting the moon,I am 10,and i was wit...   \n",
       "073/S73915   2/14/10  Three red lights over southern California that...   \n",
       "078/S78231  11/21/10  4 bright green circles high in the sky going i...   \n",
       "073/S73918   2/14/10  3 Red objects hovering over El Cajon CA  ,Exit...   \n",
       "073/S73916   2/14/10  3 Red lights in line pattern above El Cajon/ E...   \n",
       "\n",
       "                geolocation              region  season    month     day  \\\n",
       "report_id                                                                  \n",
       "073/S73909    Park City, KY  East South Central  Winter  January  Friday   \n",
       "073/S73915      La Mesa, CA             Pacific  Winter  January  Friday   \n",
       "078/S78231       Benton, AR  West South Central  Winter  January  Friday   \n",
       "073/S73918     El Cajon, CA             Pacific  Winter  January  Friday   \n",
       "073/S73916  Lemon Grove, CA             Pacific  Winter  January  Friday   \n",
       "\n",
       "           time_of_day  \n",
       "report_id               \n",
       "073/S73909       Night  \n",
       "073/S73915       Night  \n",
       "078/S78231       Night  \n",
       "073/S73918       Night  \n",
       "073/S73916       Night  "
      ]
     },
     "execution_count": 38,
     "metadata": {},
     "output_type": "execute_result"
    }
   ],
   "source": [
    "ufo_df.head()"
   ]
  },
  {
   "cell_type": "markdown",
   "metadata": {},
   "source": [
    "# Duration\n",
    "Reformat to total seconds"
   ]
  },
  {
   "cell_type": "code",
   "execution_count": 39,
   "metadata": {},
   "outputs": [
    {
     "data": {
      "text/plain": [
       "2306"
      ]
     },
     "execution_count": 39,
     "metadata": {},
     "output_type": "execute_result"
    }
   ],
   "source": [
    "# number of unique duration formats\n",
    "ufo_df['duration'].apply(lambda x: re.sub('\\d', 'X', str(x))).nunique()"
   ]
  },
  {
   "cell_type": "code",
   "execution_count": 40,
   "metadata": {},
   "outputs": [],
   "source": [
    "# clear colon digits\n",
    "ufo_df['duration'] = ufo_df['duration'].apply(lambda x: re.sub('\\:\\d+', '', str(x)))"
   ]
  },
  {
   "cell_type": "code",
   "execution_count": 41,
   "metadata": {},
   "outputs": [],
   "source": [
    "# function to convert duration strings to numerical values\n",
    "time_dict = {'h': 3600, 'm': 60, 's': 1}\n",
    "\n",
    "def comp_dur(rep_dur):\n",
    "    # extract number-unit tuples\n",
    "    prs_dur = re.findall(r'(\\d+\\.?\\d*)+(\\s*[smh])', str(rep_dur).lower())\n",
    "    duration = 0\n",
    "    try:\n",
    "        # sum duration for all pairs\n",
    "        for dur in prs_dur:\n",
    "            duration += float(dur[0]) * time_dict[dur[1].strip()]\n",
    "            if duration == 0:\n",
    "                duration = None\n",
    "            return(duration)\n",
    "    except:\n",
    "        return(None)"
   ]
  },
  {
   "cell_type": "code",
   "execution_count": 42,
   "metadata": {},
   "outputs": [],
   "source": [
    "# run function for observations\n",
    "ufo_df['duration'] = ufo_df['duration'].apply(comp_dur)"
   ]
  },
  {
   "cell_type": "code",
   "execution_count": 43,
   "metadata": {},
   "outputs": [
    {
     "data": {
      "text/plain": [
       "5399"
      ]
     },
     "execution_count": 43,
     "metadata": {},
     "output_type": "execute_result"
    }
   ],
   "source": [
    "# number of reports with null duration\n",
    "ufo_df['duration'].isnull().sum()"
   ]
  },
  {
   "cell_type": "code",
   "execution_count": 44,
   "metadata": {},
   "outputs": [],
   "source": [
    "# fill nulls with average duration\n",
    "ufo_df['duration'].fillna(ufo_df['duration'].mean(), inplace=True)"
   ]
  },
  {
   "cell_type": "code",
   "execution_count": 45,
   "metadata": {},
   "outputs": [
    {
     "data": {
      "text/html": [
       "<div>\n",
       "<style scoped>\n",
       "    .dataframe tbody tr th:only-of-type {\n",
       "        vertical-align: middle;\n",
       "    }\n",
       "\n",
       "    .dataframe tbody tr th {\n",
       "        vertical-align: top;\n",
       "    }\n",
       "\n",
       "    .dataframe thead th {\n",
       "        text-align: right;\n",
       "    }\n",
       "</style>\n",
       "<table border=\"1\" class=\"dataframe\">\n",
       "  <thead>\n",
       "    <tr style=\"text-align: right;\">\n",
       "      <th></th>\n",
       "      <th>datetime</th>\n",
       "      <th>city</th>\n",
       "      <th>state</th>\n",
       "      <th>shape</th>\n",
       "      <th>duration</th>\n",
       "      <th>post_date</th>\n",
       "      <th>report_text</th>\n",
       "      <th>geolocation</th>\n",
       "      <th>region</th>\n",
       "      <th>season</th>\n",
       "      <th>month</th>\n",
       "      <th>day</th>\n",
       "      <th>time_of_day</th>\n",
       "    </tr>\n",
       "    <tr>\n",
       "      <th>report_id</th>\n",
       "      <th></th>\n",
       "      <th></th>\n",
       "      <th></th>\n",
       "      <th></th>\n",
       "      <th></th>\n",
       "      <th></th>\n",
       "      <th></th>\n",
       "      <th></th>\n",
       "      <th></th>\n",
       "      <th></th>\n",
       "      <th></th>\n",
       "      <th></th>\n",
       "      <th></th>\n",
       "    </tr>\n",
       "  </thead>\n",
       "  <tbody>\n",
       "    <tr>\n",
       "      <th>073/S73909</th>\n",
       "      <td>2010-01-01</td>\n",
       "      <td>Park City</td>\n",
       "      <td>KY</td>\n",
       "      <td>Light</td>\n",
       "      <td>3.0</td>\n",
       "      <td>2/14/10</td>\n",
       "      <td>Lights orbiting the moon,I am 10,and i was wit...</td>\n",
       "      <td>Park City, KY</td>\n",
       "      <td>East South Central</td>\n",
       "      <td>Winter</td>\n",
       "      <td>January</td>\n",
       "      <td>Friday</td>\n",
       "      <td>Night</td>\n",
       "    </tr>\n",
       "    <tr>\n",
       "      <th>073/S73915</th>\n",
       "      <td>2010-01-01</td>\n",
       "      <td>La Mesa</td>\n",
       "      <td>CA</td>\n",
       "      <td>Light</td>\n",
       "      <td>600.0</td>\n",
       "      <td>2/14/10</td>\n",
       "      <td>Three red lights over southern California that...</td>\n",
       "      <td>La Mesa, CA</td>\n",
       "      <td>Pacific</td>\n",
       "      <td>Winter</td>\n",
       "      <td>January</td>\n",
       "      <td>Friday</td>\n",
       "      <td>Night</td>\n",
       "    </tr>\n",
       "    <tr>\n",
       "      <th>078/S78231</th>\n",
       "      <td>2010-01-01</td>\n",
       "      <td>Benton</td>\n",
       "      <td>AR</td>\n",
       "      <td>Circle</td>\n",
       "      <td>300.0</td>\n",
       "      <td>11/21/10</td>\n",
       "      <td>4 bright green circles high in the sky going i...</td>\n",
       "      <td>Benton, AR</td>\n",
       "      <td>West South Central</td>\n",
       "      <td>Winter</td>\n",
       "      <td>January</td>\n",
       "      <td>Friday</td>\n",
       "      <td>Night</td>\n",
       "    </tr>\n",
       "    <tr>\n",
       "      <th>073/S73918</th>\n",
       "      <td>2010-01-01</td>\n",
       "      <td>El Cajon</td>\n",
       "      <td>CA</td>\n",
       "      <td>Triangle</td>\n",
       "      <td>720.0</td>\n",
       "      <td>2/14/10</td>\n",
       "      <td>3 Red objects hovering over El Cajon CA  ,Exit...</td>\n",
       "      <td>El Cajon, CA</td>\n",
       "      <td>Pacific</td>\n",
       "      <td>Winter</td>\n",
       "      <td>January</td>\n",
       "      <td>Friday</td>\n",
       "      <td>Night</td>\n",
       "    </tr>\n",
       "    <tr>\n",
       "      <th>073/S73916</th>\n",
       "      <td>2010-01-01</td>\n",
       "      <td>Lemon Grove</td>\n",
       "      <td>CA</td>\n",
       "      <td>Light</td>\n",
       "      <td>900.0</td>\n",
       "      <td>2/14/10</td>\n",
       "      <td>3 Red lights in line pattern above El Cajon/ E...</td>\n",
       "      <td>Lemon Grove, CA</td>\n",
       "      <td>Pacific</td>\n",
       "      <td>Winter</td>\n",
       "      <td>January</td>\n",
       "      <td>Friday</td>\n",
       "      <td>Night</td>\n",
       "    </tr>\n",
       "  </tbody>\n",
       "</table>\n",
       "</div>"
      ],
      "text/plain": [
       "             datetime         city state     shape  duration post_date  \\\n",
       "report_id                                                                \n",
       "073/S73909 2010-01-01    Park City    KY     Light       3.0   2/14/10   \n",
       "073/S73915 2010-01-01      La Mesa    CA     Light     600.0   2/14/10   \n",
       "078/S78231 2010-01-01       Benton    AR    Circle     300.0  11/21/10   \n",
       "073/S73918 2010-01-01     El Cajon    CA  Triangle     720.0   2/14/10   \n",
       "073/S73916 2010-01-01  Lemon Grove    CA     Light     900.0   2/14/10   \n",
       "\n",
       "                                                  report_text  \\\n",
       "report_id                                                       \n",
       "073/S73909  Lights orbiting the moon,I am 10,and i was wit...   \n",
       "073/S73915  Three red lights over southern California that...   \n",
       "078/S78231  4 bright green circles high in the sky going i...   \n",
       "073/S73918  3 Red objects hovering over El Cajon CA  ,Exit...   \n",
       "073/S73916  3 Red lights in line pattern above El Cajon/ E...   \n",
       "\n",
       "                geolocation              region  season    month     day  \\\n",
       "report_id                                                                  \n",
       "073/S73909    Park City, KY  East South Central  Winter  January  Friday   \n",
       "073/S73915      La Mesa, CA             Pacific  Winter  January  Friday   \n",
       "078/S78231       Benton, AR  West South Central  Winter  January  Friday   \n",
       "073/S73918     El Cajon, CA             Pacific  Winter  January  Friday   \n",
       "073/S73916  Lemon Grove, CA             Pacific  Winter  January  Friday   \n",
       "\n",
       "           time_of_day  \n",
       "report_id               \n",
       "073/S73909       Night  \n",
       "073/S73915       Night  \n",
       "078/S78231       Night  \n",
       "073/S73918       Night  \n",
       "073/S73916       Night  "
      ]
     },
     "execution_count": 45,
     "metadata": {},
     "output_type": "execute_result"
    }
   ],
   "source": [
    "ufo_df.head()"
   ]
  },
  {
   "cell_type": "markdown",
   "metadata": {},
   "source": [
    "# Final DF\n",
    "- Drop Columns\n",
    "- Export DF"
   ]
  },
  {
   "cell_type": "markdown",
   "metadata": {},
   "source": [
    "## Order Columns\n",
    "Reorder columns and drop unneeded ones"
   ]
  },
  {
   "cell_type": "code",
   "execution_count": 46,
   "metadata": {},
   "outputs": [],
   "source": [
    "# reorder columns\n",
    "ufo_df = ufo_df[['datetime', 'geolocation', 'season', 'month', 'day', \n",
    "                 'time_of_day', 'region', 'shape', 'duration', 'report_text']]"
   ]
  },
  {
   "cell_type": "code",
   "execution_count": 47,
   "metadata": {},
   "outputs": [
    {
     "data": {
      "text/html": [
       "<div>\n",
       "<style scoped>\n",
       "    .dataframe tbody tr th:only-of-type {\n",
       "        vertical-align: middle;\n",
       "    }\n",
       "\n",
       "    .dataframe tbody tr th {\n",
       "        vertical-align: top;\n",
       "    }\n",
       "\n",
       "    .dataframe thead th {\n",
       "        text-align: right;\n",
       "    }\n",
       "</style>\n",
       "<table border=\"1\" class=\"dataframe\">\n",
       "  <thead>\n",
       "    <tr style=\"text-align: right;\">\n",
       "      <th></th>\n",
       "      <th>datetime</th>\n",
       "      <th>geolocation</th>\n",
       "      <th>season</th>\n",
       "      <th>month</th>\n",
       "      <th>day</th>\n",
       "      <th>time_of_day</th>\n",
       "      <th>region</th>\n",
       "      <th>shape</th>\n",
       "      <th>duration</th>\n",
       "      <th>report_text</th>\n",
       "    </tr>\n",
       "    <tr>\n",
       "      <th>report_id</th>\n",
       "      <th></th>\n",
       "      <th></th>\n",
       "      <th></th>\n",
       "      <th></th>\n",
       "      <th></th>\n",
       "      <th></th>\n",
       "      <th></th>\n",
       "      <th></th>\n",
       "      <th></th>\n",
       "      <th></th>\n",
       "    </tr>\n",
       "  </thead>\n",
       "  <tbody>\n",
       "    <tr>\n",
       "      <th>073/S73909</th>\n",
       "      <td>2010-01-01</td>\n",
       "      <td>Park City, KY</td>\n",
       "      <td>Winter</td>\n",
       "      <td>January</td>\n",
       "      <td>Friday</td>\n",
       "      <td>Night</td>\n",
       "      <td>East South Central</td>\n",
       "      <td>Light</td>\n",
       "      <td>3.0</td>\n",
       "      <td>Lights orbiting the moon,I am 10,and i was wit...</td>\n",
       "    </tr>\n",
       "    <tr>\n",
       "      <th>073/S73915</th>\n",
       "      <td>2010-01-01</td>\n",
       "      <td>La Mesa, CA</td>\n",
       "      <td>Winter</td>\n",
       "      <td>January</td>\n",
       "      <td>Friday</td>\n",
       "      <td>Night</td>\n",
       "      <td>Pacific</td>\n",
       "      <td>Light</td>\n",
       "      <td>600.0</td>\n",
       "      <td>Three red lights over southern California that...</td>\n",
       "    </tr>\n",
       "    <tr>\n",
       "      <th>078/S78231</th>\n",
       "      <td>2010-01-01</td>\n",
       "      <td>Benton, AR</td>\n",
       "      <td>Winter</td>\n",
       "      <td>January</td>\n",
       "      <td>Friday</td>\n",
       "      <td>Night</td>\n",
       "      <td>West South Central</td>\n",
       "      <td>Circle</td>\n",
       "      <td>300.0</td>\n",
       "      <td>4 bright green circles high in the sky going i...</td>\n",
       "    </tr>\n",
       "    <tr>\n",
       "      <th>073/S73918</th>\n",
       "      <td>2010-01-01</td>\n",
       "      <td>El Cajon, CA</td>\n",
       "      <td>Winter</td>\n",
       "      <td>January</td>\n",
       "      <td>Friday</td>\n",
       "      <td>Night</td>\n",
       "      <td>Pacific</td>\n",
       "      <td>Triangle</td>\n",
       "      <td>720.0</td>\n",
       "      <td>3 Red objects hovering over El Cajon CA  ,Exit...</td>\n",
       "    </tr>\n",
       "    <tr>\n",
       "      <th>073/S73916</th>\n",
       "      <td>2010-01-01</td>\n",
       "      <td>Lemon Grove, CA</td>\n",
       "      <td>Winter</td>\n",
       "      <td>January</td>\n",
       "      <td>Friday</td>\n",
       "      <td>Night</td>\n",
       "      <td>Pacific</td>\n",
       "      <td>Light</td>\n",
       "      <td>900.0</td>\n",
       "      <td>3 Red lights in line pattern above El Cajon/ E...</td>\n",
       "    </tr>\n",
       "  </tbody>\n",
       "</table>\n",
       "</div>"
      ],
      "text/plain": [
       "             datetime      geolocation  season    month     day time_of_day  \\\n",
       "report_id                                                                     \n",
       "073/S73909 2010-01-01    Park City, KY  Winter  January  Friday       Night   \n",
       "073/S73915 2010-01-01      La Mesa, CA  Winter  January  Friday       Night   \n",
       "078/S78231 2010-01-01       Benton, AR  Winter  January  Friday       Night   \n",
       "073/S73918 2010-01-01     El Cajon, CA  Winter  January  Friday       Night   \n",
       "073/S73916 2010-01-01  Lemon Grove, CA  Winter  January  Friday       Night   \n",
       "\n",
       "                        region     shape  duration  \\\n",
       "report_id                                            \n",
       "073/S73909  East South Central     Light       3.0   \n",
       "073/S73915             Pacific     Light     600.0   \n",
       "078/S78231  West South Central    Circle     300.0   \n",
       "073/S73918             Pacific  Triangle     720.0   \n",
       "073/S73916             Pacific     Light     900.0   \n",
       "\n",
       "                                                  report_text  \n",
       "report_id                                                      \n",
       "073/S73909  Lights orbiting the moon,I am 10,and i was wit...  \n",
       "073/S73915  Three red lights over southern California that...  \n",
       "078/S78231  4 bright green circles high in the sky going i...  \n",
       "073/S73918  3 Red objects hovering over El Cajon CA  ,Exit...  \n",
       "073/S73916  3 Red lights in line pattern above El Cajon/ E...  "
      ]
     },
     "execution_count": 47,
     "metadata": {},
     "output_type": "execute_result"
    }
   ],
   "source": [
    "ufo_df.head()"
   ]
  },
  {
   "cell_type": "markdown",
   "metadata": {},
   "source": [
    "## Export DF"
   ]
  },
  {
   "cell_type": "code",
   "execution_count": 48,
   "metadata": {},
   "outputs": [],
   "source": [
    "# ufo_df.to_csv('data/ufo_df.csv')"
   ]
  },
  {
   "cell_type": "code",
   "execution_count": null,
   "metadata": {},
   "outputs": [],
   "source": []
  },
  {
   "cell_type": "code",
   "execution_count": null,
   "metadata": {},
   "outputs": [],
   "source": []
  },
  {
   "cell_type": "code",
   "execution_count": null,
   "metadata": {},
   "outputs": [],
   "source": []
  },
  {
   "cell_type": "code",
   "execution_count": null,
   "metadata": {},
   "outputs": [],
   "source": []
  },
  {
   "cell_type": "code",
   "execution_count": null,
   "metadata": {},
   "outputs": [],
   "source": []
  },
  {
   "cell_type": "markdown",
   "metadata": {},
   "source": [
    "# OLD"
   ]
  },
  {
   "cell_type": "markdown",
   "metadata": {},
   "source": [
    "# EDA"
   ]
  },
  {
   "cell_type": "code",
   "execution_count": 9,
   "metadata": {},
   "outputs": [],
   "source": [
    "import plotly.express as px"
   ]
  },
  {
   "cell_type": "code",
   "execution_count": 13,
   "metadata": {},
   "outputs": [
    {
     "data": {
      "text/html": [
       "<div>\n",
       "<style scoped>\n",
       "    .dataframe tbody tr th:only-of-type {\n",
       "        vertical-align: middle;\n",
       "    }\n",
       "\n",
       "    .dataframe tbody tr th {\n",
       "        vertical-align: top;\n",
       "    }\n",
       "\n",
       "    .dataframe thead th {\n",
       "        text-align: right;\n",
       "    }\n",
       "</style>\n",
       "<table border=\"1\" class=\"dataframe\">\n",
       "  <thead>\n",
       "    <tr style=\"text-align: right;\">\n",
       "      <th></th>\n",
       "      <th>datetime</th>\n",
       "      <th>city</th>\n",
       "      <th>state</th>\n",
       "      <th>shape</th>\n",
       "      <th>duration</th>\n",
       "      <th>post_date</th>\n",
       "      <th>report_text</th>\n",
       "    </tr>\n",
       "    <tr>\n",
       "      <th>report_id</th>\n",
       "      <th></th>\n",
       "      <th></th>\n",
       "      <th></th>\n",
       "      <th></th>\n",
       "      <th></th>\n",
       "      <th></th>\n",
       "      <th></th>\n",
       "    </tr>\n",
       "  </thead>\n",
       "  <tbody>\n",
       "    <tr>\n",
       "      <th>073/S73909</th>\n",
       "      <td>1/1/10 00:00</td>\n",
       "      <td>Park City</td>\n",
       "      <td>KY</td>\n",
       "      <td>Light</td>\n",
       "      <td>2-3 seconds</td>\n",
       "      <td>2/14/10</td>\n",
       "      <td>Lights orbiting the moon,I am 10,and i was wit...</td>\n",
       "    </tr>\n",
       "    <tr>\n",
       "      <th>073/S73977</th>\n",
       "      <td>1/1/10</td>\n",
       "      <td>Glasgow (UK/Scotland)</td>\n",
       "      <td>NaN</td>\n",
       "      <td>Fireball</td>\n",
       "      <td>2 minutes</td>\n",
       "      <td>2/14/10</td>\n",
       "      <td>Bright orange, glowing orb came towards us.  I...</td>\n",
       "    </tr>\n",
       "    <tr>\n",
       "      <th>073/S73915</th>\n",
       "      <td>1/1/10 00:00</td>\n",
       "      <td>La Mesa</td>\n",
       "      <td>CA</td>\n",
       "      <td>Light</td>\n",
       "      <td>10 min</td>\n",
       "      <td>2/14/10</td>\n",
       "      <td>Three red lights over southern California that...</td>\n",
       "    </tr>\n",
       "    <tr>\n",
       "      <th>078/S78231</th>\n",
       "      <td>1/1/10 00:00</td>\n",
       "      <td>Benton</td>\n",
       "      <td>AR</td>\n",
       "      <td>Circle</td>\n",
       "      <td>5 mins.</td>\n",
       "      <td>11/21/10</td>\n",
       "      <td>4 bright green circles high in the sky going i...</td>\n",
       "    </tr>\n",
       "    <tr>\n",
       "      <th>073/S73918</th>\n",
       "      <td>1/1/10 00:00</td>\n",
       "      <td>El Cajon</td>\n",
       "      <td>CA</td>\n",
       "      <td>Triangle</td>\n",
       "      <td>12 minutes</td>\n",
       "      <td>2/14/10</td>\n",
       "      <td>3 Red objects hovering over El Cajon CA  ,Exit...</td>\n",
       "    </tr>\n",
       "  </tbody>\n",
       "</table>\n",
       "</div>"
      ],
      "text/plain": [
       "                datetime                   city state     shape     duration  \\\n",
       "report_id                                                                      \n",
       "073/S73909  1/1/10 00:00              Park City    KY     Light  2-3 seconds   \n",
       "073/S73977        1/1/10  Glasgow (UK/Scotland)   NaN  Fireball    2 minutes   \n",
       "073/S73915  1/1/10 00:00                La Mesa    CA     Light       10 min   \n",
       "078/S78231  1/1/10 00:00                 Benton    AR    Circle      5 mins.   \n",
       "073/S73918  1/1/10 00:00               El Cajon    CA  Triangle   12 minutes   \n",
       "\n",
       "           post_date                                        report_text  \n",
       "report_id                                                                \n",
       "073/S73909   2/14/10  Lights orbiting the moon,I am 10,and i was wit...  \n",
       "073/S73977   2/14/10  Bright orange, glowing orb came towards us.  I...  \n",
       "073/S73915   2/14/10  Three red lights over southern California that...  \n",
       "078/S78231  11/21/10  4 bright green circles high in the sky going i...  \n",
       "073/S73918   2/14/10  3 Red objects hovering over El Cajon CA  ,Exit...  "
      ]
     },
     "execution_count": 13,
     "metadata": {},
     "output_type": "execute_result"
    }
   ],
   "source": [
    "raw_df.head()"
   ]
  },
  {
   "cell_type": "code",
   "execution_count": 24,
   "metadata": {},
   "outputs": [],
   "source": [
    "raw_df['datetime'] = pd.to_datetime(raw_df['datetime'])"
   ]
  },
  {
   "cell_type": "code",
   "execution_count": 28,
   "metadata": {},
   "outputs": [
    {
     "data": {
      "text/html": [
       "<div>\n",
       "<style scoped>\n",
       "    .dataframe tbody tr th:only-of-type {\n",
       "        vertical-align: middle;\n",
       "    }\n",
       "\n",
       "    .dataframe tbody tr th {\n",
       "        vertical-align: top;\n",
       "    }\n",
       "\n",
       "    .dataframe thead th {\n",
       "        text-align: right;\n",
       "    }\n",
       "</style>\n",
       "<table border=\"1\" class=\"dataframe\">\n",
       "  <thead>\n",
       "    <tr style=\"text-align: right;\">\n",
       "      <th></th>\n",
       "      <th></th>\n",
       "      <th>datetime</th>\n",
       "      <th>city</th>\n",
       "      <th>state</th>\n",
       "      <th>shape</th>\n",
       "      <th>duration</th>\n",
       "      <th>post_date</th>\n",
       "      <th>report_text</th>\n",
       "    </tr>\n",
       "    <tr>\n",
       "      <th>datetime</th>\n",
       "      <th>datetime</th>\n",
       "      <th></th>\n",
       "      <th></th>\n",
       "      <th></th>\n",
       "      <th></th>\n",
       "      <th></th>\n",
       "      <th></th>\n",
       "      <th></th>\n",
       "    </tr>\n",
       "  </thead>\n",
       "  <tbody>\n",
       "    <tr>\n",
       "      <th rowspan=\"5\" valign=\"top\">2010</th>\n",
       "      <th>1</th>\n",
       "      <td>296</td>\n",
       "      <td>296</td>\n",
       "      <td>250</td>\n",
       "      <td>289</td>\n",
       "      <td>286</td>\n",
       "      <td>296</td>\n",
       "      <td>296</td>\n",
       "    </tr>\n",
       "    <tr>\n",
       "      <th>2</th>\n",
       "      <td>193</td>\n",
       "      <td>193</td>\n",
       "      <td>170</td>\n",
       "      <td>188</td>\n",
       "      <td>187</td>\n",
       "      <td>193</td>\n",
       "      <td>193</td>\n",
       "    </tr>\n",
       "    <tr>\n",
       "      <th>3</th>\n",
       "      <td>265</td>\n",
       "      <td>263</td>\n",
       "      <td>236</td>\n",
       "      <td>258</td>\n",
       "      <td>255</td>\n",
       "      <td>265</td>\n",
       "      <td>265</td>\n",
       "    </tr>\n",
       "    <tr>\n",
       "      <th>4</th>\n",
       "      <td>296</td>\n",
       "      <td>295</td>\n",
       "      <td>264</td>\n",
       "      <td>290</td>\n",
       "      <td>284</td>\n",
       "      <td>296</td>\n",
       "      <td>293</td>\n",
       "    </tr>\n",
       "    <tr>\n",
       "      <th>5</th>\n",
       "      <td>334</td>\n",
       "      <td>334</td>\n",
       "      <td>308</td>\n",
       "      <td>327</td>\n",
       "      <td>327</td>\n",
       "      <td>334</td>\n",
       "      <td>334</td>\n",
       "    </tr>\n",
       "    <tr>\n",
       "      <th>...</th>\n",
       "      <th>...</th>\n",
       "      <td>...</td>\n",
       "      <td>...</td>\n",
       "      <td>...</td>\n",
       "      <td>...</td>\n",
       "      <td>...</td>\n",
       "      <td>...</td>\n",
       "      <td>...</td>\n",
       "    </tr>\n",
       "    <tr>\n",
       "      <th rowspan=\"5\" valign=\"top\">2019</th>\n",
       "      <th>8</th>\n",
       "      <td>467</td>\n",
       "      <td>467</td>\n",
       "      <td>456</td>\n",
       "      <td>419</td>\n",
       "      <td>411</td>\n",
       "      <td>467</td>\n",
       "      <td>467</td>\n",
       "    </tr>\n",
       "    <tr>\n",
       "      <th>9</th>\n",
       "      <td>646</td>\n",
       "      <td>640</td>\n",
       "      <td>627</td>\n",
       "      <td>565</td>\n",
       "      <td>562</td>\n",
       "      <td>646</td>\n",
       "      <td>646</td>\n",
       "    </tr>\n",
       "    <tr>\n",
       "      <th>10</th>\n",
       "      <td>706</td>\n",
       "      <td>702</td>\n",
       "      <td>694</td>\n",
       "      <td>630</td>\n",
       "      <td>622</td>\n",
       "      <td>706</td>\n",
       "      <td>696</td>\n",
       "    </tr>\n",
       "    <tr>\n",
       "      <th>11</th>\n",
       "      <td>680</td>\n",
       "      <td>674</td>\n",
       "      <td>649</td>\n",
       "      <td>596</td>\n",
       "      <td>601</td>\n",
       "      <td>680</td>\n",
       "      <td>673</td>\n",
       "    </tr>\n",
       "    <tr>\n",
       "      <th>12</th>\n",
       "      <td>588</td>\n",
       "      <td>586</td>\n",
       "      <td>562</td>\n",
       "      <td>495</td>\n",
       "      <td>502</td>\n",
       "      <td>588</td>\n",
       "      <td>588</td>\n",
       "    </tr>\n",
       "  </tbody>\n",
       "</table>\n",
       "<p>120 rows × 7 columns</p>\n",
       "</div>"
      ],
      "text/plain": [
       "                   datetime  city  state  shape  duration  post_date  \\\n",
       "datetime datetime                                                      \n",
       "2010     1              296   296    250    289       286        296   \n",
       "         2              193   193    170    188       187        193   \n",
       "         3              265   263    236    258       255        265   \n",
       "         4              296   295    264    290       284        296   \n",
       "         5              334   334    308    327       327        334   \n",
       "...                     ...   ...    ...    ...       ...        ...   \n",
       "2019     8              467   467    456    419       411        467   \n",
       "         9              646   640    627    565       562        646   \n",
       "         10             706   702    694    630       622        706   \n",
       "         11             680   674    649    596       601        680   \n",
       "         12             588   586    562    495       502        588   \n",
       "\n",
       "                   report_text  \n",
       "datetime datetime               \n",
       "2010     1                 296  \n",
       "         2                 193  \n",
       "         3                 265  \n",
       "         4                 293  \n",
       "         5                 334  \n",
       "...                        ...  \n",
       "2019     8                 467  \n",
       "         9                 646  \n",
       "         10                696  \n",
       "         11                673  \n",
       "         12                588  \n",
       "\n",
       "[120 rows x 7 columns]"
      ]
     },
     "execution_count": 28,
     "metadata": {},
     "output_type": "execute_result"
    }
   ],
   "source": [
    "raw_df.groupby([(raw_df['datetime'].dt.year),(raw_df['datetime'].dt.month)]).count()"
   ]
  },
  {
   "cell_type": "code",
   "execution_count": 11,
   "metadata": {},
   "outputs": [],
   "source": [
    "fig = px.scatter(x=[0, 1, 2, 3, 4], y=[0, 1, 4, 9, 16])\n",
    "fig.show()"
   ]
  },
  {
   "cell_type": "code",
   "execution_count": null,
   "metadata": {},
   "outputs": [],
   "source": []
  },
  {
   "cell_type": "code",
   "execution_count": null,
   "metadata": {},
   "outputs": [],
   "source": []
  },
  {
   "cell_type": "markdown",
   "metadata": {},
   "source": [
    "# Report Overview Data"
   ]
  },
  {
   "cell_type": "code",
   "execution_count": 51,
   "metadata": {},
   "outputs": [
    {
     "data": {
      "text/html": [
       "<div>\n",
       "<style scoped>\n",
       "    .dataframe tbody tr th:only-of-type {\n",
       "        vertical-align: middle;\n",
       "    }\n",
       "\n",
       "    .dataframe tbody tr th {\n",
       "        vertical-align: top;\n",
       "    }\n",
       "\n",
       "    .dataframe thead th {\n",
       "        text-align: right;\n",
       "    }\n",
       "</style>\n",
       "<table border=\"1\" class=\"dataframe\">\n",
       "  <thead>\n",
       "    <tr style=\"text-align: right;\">\n",
       "      <th></th>\n",
       "      <th>Reports</th>\n",
       "      <th>Count</th>\n",
       "      <th>Link</th>\n",
       "    </tr>\n",
       "  </thead>\n",
       "  <tbody>\n",
       "    <tr>\n",
       "      <th>0</th>\n",
       "      <td>09/2019</td>\n",
       "      <td>257</td>\n",
       "      <td>http://www.nuforc.org/webreports/ndxe201909.html</td>\n",
       "    </tr>\n",
       "    <tr>\n",
       "      <th>1</th>\n",
       "      <td>08/2019</td>\n",
       "      <td>442</td>\n",
       "      <td>http://www.nuforc.org/webreports/ndxe201908.html</td>\n",
       "    </tr>\n",
       "    <tr>\n",
       "      <th>2</th>\n",
       "      <td>07/2019</td>\n",
       "      <td>582</td>\n",
       "      <td>http://www.nuforc.org/webreports/ndxe201907.html</td>\n",
       "    </tr>\n",
       "    <tr>\n",
       "      <th>3</th>\n",
       "      <td>06/2019</td>\n",
       "      <td>463</td>\n",
       "      <td>http://www.nuforc.org/webreports/ndxe201906.html</td>\n",
       "    </tr>\n",
       "    <tr>\n",
       "      <th>4</th>\n",
       "      <td>05/2019</td>\n",
       "      <td>526</td>\n",
       "      <td>http://www.nuforc.org/webreports/ndxe201905.html</td>\n",
       "    </tr>\n",
       "  </tbody>\n",
       "</table>\n",
       "</div>"
      ],
      "text/plain": [
       "   Reports  Count                                              Link\n",
       "0  09/2019    257  http://www.nuforc.org/webreports/ndxe201909.html\n",
       "1  08/2019    442  http://www.nuforc.org/webreports/ndxe201908.html\n",
       "2  07/2019    582  http://www.nuforc.org/webreports/ndxe201907.html\n",
       "3  06/2019    463  http://www.nuforc.org/webreports/ndxe201906.html\n",
       "4  05/2019    526  http://www.nuforc.org/webreports/ndxe201905.html"
      ]
     },
     "execution_count": 51,
     "metadata": {},
     "output_type": "execute_result"
    }
   ],
   "source": [
    "counts_df = pd.read_csv('data/report_counts.csv', index_col=0)\n",
    "# drop last row\n",
    "counts_df.drop(counts_df.tail(1).index,inplace=True)\n",
    "counts_df.head()"
   ]
  },
  {
   "cell_type": "code",
   "execution_count": 56,
   "metadata": {},
   "outputs": [],
   "source": [
    "# only records from 1900 onward\n",
    "counts_df = counts_df[counts_df['Reports'].str[-4:].astype('int') >= 1900]"
   ]
  },
  {
   "cell_type": "code",
   "execution_count": 58,
   "metadata": {},
   "outputs": [
    {
     "data": {
      "text/html": [
       "<div>\n",
       "<style scoped>\n",
       "    .dataframe tbody tr th:only-of-type {\n",
       "        vertical-align: middle;\n",
       "    }\n",
       "\n",
       "    .dataframe tbody tr th {\n",
       "        vertical-align: top;\n",
       "    }\n",
       "\n",
       "    .dataframe thead th {\n",
       "        text-align: right;\n",
       "    }\n",
       "</style>\n",
       "<table border=\"1\" class=\"dataframe\">\n",
       "  <thead>\n",
       "    <tr style=\"text-align: right;\">\n",
       "      <th></th>\n",
       "      <th>Reports</th>\n",
       "      <th>Count</th>\n",
       "      <th>Link</th>\n",
       "    </tr>\n",
       "  </thead>\n",
       "  <tbody>\n",
       "    <tr>\n",
       "      <th>0</th>\n",
       "      <td>2019-09-01</td>\n",
       "      <td>257</td>\n",
       "      <td>http://www.nuforc.org/webreports/ndxe201909.html</td>\n",
       "    </tr>\n",
       "    <tr>\n",
       "      <th>1</th>\n",
       "      <td>2019-08-01</td>\n",
       "      <td>442</td>\n",
       "      <td>http://www.nuforc.org/webreports/ndxe201908.html</td>\n",
       "    </tr>\n",
       "    <tr>\n",
       "      <th>2</th>\n",
       "      <td>2019-07-01</td>\n",
       "      <td>582</td>\n",
       "      <td>http://www.nuforc.org/webreports/ndxe201907.html</td>\n",
       "    </tr>\n",
       "    <tr>\n",
       "      <th>3</th>\n",
       "      <td>2019-06-01</td>\n",
       "      <td>463</td>\n",
       "      <td>http://www.nuforc.org/webreports/ndxe201906.html</td>\n",
       "    </tr>\n",
       "    <tr>\n",
       "      <th>4</th>\n",
       "      <td>2019-05-01</td>\n",
       "      <td>526</td>\n",
       "      <td>http://www.nuforc.org/webreports/ndxe201905.html</td>\n",
       "    </tr>\n",
       "  </tbody>\n",
       "</table>\n",
       "</div>"
      ],
      "text/plain": [
       "     Reports  Count                                              Link\n",
       "0 2019-09-01    257  http://www.nuforc.org/webreports/ndxe201909.html\n",
       "1 2019-08-01    442  http://www.nuforc.org/webreports/ndxe201908.html\n",
       "2 2019-07-01    582  http://www.nuforc.org/webreports/ndxe201907.html\n",
       "3 2019-06-01    463  http://www.nuforc.org/webreports/ndxe201906.html\n",
       "4 2019-05-01    526  http://www.nuforc.org/webreports/ndxe201905.html"
      ]
     },
     "execution_count": 58,
     "metadata": {},
     "output_type": "execute_result"
    }
   ],
   "source": [
    "# convert to datetime\n",
    "counts_df['Reports'] = pd.to_datetime(counts_df['Reports'])\n",
    "counts_df.head()"
   ]
  },
  {
   "cell_type": "code",
   "execution_count": null,
   "metadata": {},
   "outputs": [],
   "source": [
    "from pandas.plotting import register_matplotlib_converters"
   ]
  },
  {
   "cell_type": "code",
   "execution_count": 64,
   "metadata": {},
   "outputs": [
    {
     "data": {
      "text/plain": [
       "<matplotlib.collections.PathCollection at 0x7fa586c0cef0>"
      ]
     },
     "execution_count": 64,
     "metadata": {},
     "output_type": "execute_result"
    },
    {
     "data": {
      "image/png": "[encoded data removed]",
      "text/plain": [
       "<Figure size 432x288 with 1 Axes>"
      ]
     },
     "metadata": {},
     "output_type": "display_data"
    }
   ],
   "source": [
    "register_matplotlib_converters()\n",
    "plt.scatter(counts_df['Reports'], counts_df['Count'])"
   ]
  },
  {
   "cell_type": "code",
   "execution_count": null,
   "metadata": {},
   "outputs": [],
   "source": []
  },
  {
   "cell_type": "code",
   "execution_count": null,
   "metadata": {},
   "outputs": [],
   "source": []
  },
  {
   "cell_type": "code",
   "execution_count": null,
   "metadata": {},
   "outputs": [],
   "source": []
  },
  {
   "cell_type": "code",
   "execution_count": null,
   "metadata": {},
   "outputs": [],
   "source": []
  },
  {
   "cell_type": "code",
   "execution_count": null,
   "metadata": {},
   "outputs": [],
   "source": []
  },
  {
   "cell_type": "code",
   "execution_count": null,
   "metadata": {},
   "outputs": [],
   "source": []
  },
  {
   "cell_type": "code",
   "execution_count": null,
   "metadata": {},
   "outputs": [],
   "source": []
  },
  {
   "cell_type": "code",
   "execution_count": null,
   "metadata": {},
   "outputs": [],
   "source": []
  },
  {
   "cell_type": "code",
   "execution_count": null,
   "metadata": {},
   "outputs": [],
   "source": []
  },
  {
   "cell_type": "code",
   "execution_count": null,
   "metadata": {},
   "outputs": [],
   "source": []
  },
  {
   "cell_type": "code",
   "execution_count": null,
   "metadata": {},
   "outputs": [],
   "source": []
  }
 ],
 "metadata": {
  "kernelspec": {
   "display_name": "Python 3",
   "language": "python",
   "name": "python3"
  },
  "language_info": {
   "codemirror_mode": {
    "name": "ipython",
    "version": 3
   },
   "file_extension": ".py",
   "mimetype": "text/x-python",
   "name": "python",
   "nbconvert_exporter": "python",
   "pygments_lexer": "ipython3",
   "version": "3.6.5"
  }
 },
 "nbformat": 4,
 "nbformat_minor": 2
}
