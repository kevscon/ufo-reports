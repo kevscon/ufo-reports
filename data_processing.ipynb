{
 "cells": [
  {
   "cell_type": "code",
   "execution_count": 1,
   "metadata": {},
   "outputs": [],
   "source": [
    "import pandas as pd"
   ]
  },
  {
   "cell_type": "markdown",
   "metadata": {},
   "source": [
    "# Filter Month Reports\n",
    "Select report month records to be scraped"
   ]
  },
  {
   "cell_type": "code",
   "execution_count": 2,
   "metadata": {},
   "outputs": [
    {
     "data": {
      "text/html": [
       "<div>\n",
       "<style scoped>\n",
       "    .dataframe tbody tr th:only-of-type {\n",
       "        vertical-align: middle;\n",
       "    }\n",
       "\n",
       "    .dataframe tbody tr th {\n",
       "        vertical-align: top;\n",
       "    }\n",
       "\n",
       "    .dataframe thead th {\n",
       "        text-align: right;\n",
       "    }\n",
       "</style>\n",
       "<table border=\"1\" class=\"dataframe\">\n",
       "  <thead>\n",
       "    <tr style=\"text-align: right;\">\n",
       "      <th></th>\n",
       "      <th>Month</th>\n",
       "      <th>Count</th>\n",
       "      <th>Link</th>\n",
       "    </tr>\n",
       "  </thead>\n",
       "  <tbody>\n",
       "    <tr>\n",
       "      <th>0</th>\n",
       "      <td>09/2019</td>\n",
       "      <td>257</td>\n",
       "      <td>http://www.nuforc.org/webreports/ndxe201909.html</td>\n",
       "    </tr>\n",
       "    <tr>\n",
       "      <th>1</th>\n",
       "      <td>08/2019</td>\n",
       "      <td>442</td>\n",
       "      <td>http://www.nuforc.org/webreports/ndxe201908.html</td>\n",
       "    </tr>\n",
       "    <tr>\n",
       "      <th>2</th>\n",
       "      <td>07/2019</td>\n",
       "      <td>582</td>\n",
       "      <td>http://www.nuforc.org/webreports/ndxe201907.html</td>\n",
       "    </tr>\n",
       "    <tr>\n",
       "      <th>3</th>\n",
       "      <td>06/2019</td>\n",
       "      <td>463</td>\n",
       "      <td>http://www.nuforc.org/webreports/ndxe201906.html</td>\n",
       "    </tr>\n",
       "    <tr>\n",
       "      <th>4</th>\n",
       "      <td>05/2019</td>\n",
       "      <td>526</td>\n",
       "      <td>http://www.nuforc.org/webreports/ndxe201905.html</td>\n",
       "    </tr>\n",
       "  </tbody>\n",
       "</table>\n",
       "</div>"
      ],
      "text/plain": [
       "     Month  Count                                              Link\n",
       "0  09/2019    257  http://www.nuforc.org/webreports/ndxe201909.html\n",
       "1  08/2019    442  http://www.nuforc.org/webreports/ndxe201908.html\n",
       "2  07/2019    582  http://www.nuforc.org/webreports/ndxe201907.html\n",
       "3  06/2019    463  http://www.nuforc.org/webreports/ndxe201906.html\n",
       "4  05/2019    526  http://www.nuforc.org/webreports/ndxe201905.html"
      ]
     },
     "execution_count": 2,
     "metadata": {},
     "output_type": "execute_result"
    }
   ],
   "source": [
    "month_df = pd.read_csv('data/report_counts.csv', header=0, index_col=0)\n",
    "month_df.rename(columns={'Reports': 'Month'}, inplace=True)\n",
    "month_df.head()"
   ]
  },
  {
   "cell_type": "code",
   "execution_count": 3,
   "metadata": {},
   "outputs": [],
   "source": [
    "# remove unspecified reports\n",
    "month_df.drop(index=[944], inplace=True)"
   ]
  },
  {
   "cell_type": "code",
   "execution_count": 4,
   "metadata": {},
   "outputs": [],
   "source": [
    "# list records after 1945\n",
    "check_45 = month_df['Month'].apply(lambda x: int(x.split('/')[1]) > 1945)"
   ]
  },
  {
   "cell_type": "code",
   "execution_count": 5,
   "metadata": {},
   "outputs": [
    {
     "data": {
      "text/html": [
       "<div>\n",
       "<style scoped>\n",
       "    .dataframe tbody tr th:only-of-type {\n",
       "        vertical-align: middle;\n",
       "    }\n",
       "\n",
       "    .dataframe tbody tr th {\n",
       "        vertical-align: top;\n",
       "    }\n",
       "\n",
       "    .dataframe thead th {\n",
       "        text-align: right;\n",
       "    }\n",
       "</style>\n",
       "<table border=\"1\" class=\"dataframe\">\n",
       "  <thead>\n",
       "    <tr style=\"text-align: right;\">\n",
       "      <th></th>\n",
       "      <th>Month</th>\n",
       "      <th>Count</th>\n",
       "      <th>Link</th>\n",
       "    </tr>\n",
       "  </thead>\n",
       "  <tbody>\n",
       "    <tr>\n",
       "      <th>847</th>\n",
       "      <td>06/1946</td>\n",
       "      <td>4</td>\n",
       "      <td>http://www.nuforc.org/webreports/ndxe194606.html</td>\n",
       "    </tr>\n",
       "    <tr>\n",
       "      <th>848</th>\n",
       "      <td>05/1946</td>\n",
       "      <td>1</td>\n",
       "      <td>http://www.nuforc.org/webreports/ndxe194605.html</td>\n",
       "    </tr>\n",
       "    <tr>\n",
       "      <th>849</th>\n",
       "      <td>03/1946</td>\n",
       "      <td>1</td>\n",
       "      <td>http://www.nuforc.org/webreports/ndxe194603.html</td>\n",
       "    </tr>\n",
       "    <tr>\n",
       "      <th>850</th>\n",
       "      <td>02/1946</td>\n",
       "      <td>1</td>\n",
       "      <td>http://www.nuforc.org/webreports/ndxe194602.html</td>\n",
       "    </tr>\n",
       "    <tr>\n",
       "      <th>851</th>\n",
       "      <td>01/1946</td>\n",
       "      <td>1</td>\n",
       "      <td>http://www.nuforc.org/webreports/ndxe194601.html</td>\n",
       "    </tr>\n",
       "  </tbody>\n",
       "</table>\n",
       "</div>"
      ],
      "text/plain": [
       "       Month  Count                                              Link\n",
       "847  06/1946      4  http://www.nuforc.org/webreports/ndxe194606.html\n",
       "848  05/1946      1  http://www.nuforc.org/webreports/ndxe194605.html\n",
       "849  03/1946      1  http://www.nuforc.org/webreports/ndxe194603.html\n",
       "850  02/1946      1  http://www.nuforc.org/webreports/ndxe194602.html\n",
       "851  01/1946      1  http://www.nuforc.org/webreports/ndxe194601.html"
      ]
     },
     "execution_count": 5,
     "metadata": {},
     "output_type": "execute_result"
    }
   ],
   "source": [
    "# filter df\n",
    "month_df = month_df[check_45]\n",
    "month_df.tail()"
   ]
  },
  {
   "cell_type": "code",
   "execution_count": 6,
   "metadata": {},
   "outputs": [],
   "source": [
    "# save to csv file\n",
    "# month_df.to_csv('data/report_months.csv')"
   ]
  },
  {
   "cell_type": "code",
   "execution_count": 7,
   "metadata": {},
   "outputs": [
    {
     "data": {
      "text/html": [
       "<div>\n",
       "<style scoped>\n",
       "    .dataframe tbody tr th:only-of-type {\n",
       "        vertical-align: middle;\n",
       "    }\n",
       "\n",
       "    .dataframe tbody tr th {\n",
       "        vertical-align: top;\n",
       "    }\n",
       "\n",
       "    .dataframe thead th {\n",
       "        text-align: right;\n",
       "    }\n",
       "</style>\n",
       "<table border=\"1\" class=\"dataframe\">\n",
       "  <thead>\n",
       "    <tr style=\"text-align: right;\">\n",
       "      <th></th>\n",
       "      <th>Month</th>\n",
       "      <th>Count</th>\n",
       "      <th>Link</th>\n",
       "    </tr>\n",
       "  </thead>\n",
       "  <tbody>\n",
       "    <tr>\n",
       "      <th>0</th>\n",
       "      <td>09/2019</td>\n",
       "      <td>257</td>\n",
       "      <td>http://www.nuforc.org/webreports/ndxe201909.html</td>\n",
       "    </tr>\n",
       "    <tr>\n",
       "      <th>1</th>\n",
       "      <td>08/2019</td>\n",
       "      <td>442</td>\n",
       "      <td>http://www.nuforc.org/webreports/ndxe201908.html</td>\n",
       "    </tr>\n",
       "    <tr>\n",
       "      <th>2</th>\n",
       "      <td>07/2019</td>\n",
       "      <td>582</td>\n",
       "      <td>http://www.nuforc.org/webreports/ndxe201907.html</td>\n",
       "    </tr>\n",
       "    <tr>\n",
       "      <th>3</th>\n",
       "      <td>06/2019</td>\n",
       "      <td>463</td>\n",
       "      <td>http://www.nuforc.org/webreports/ndxe201906.html</td>\n",
       "    </tr>\n",
       "    <tr>\n",
       "      <th>4</th>\n",
       "      <td>05/2019</td>\n",
       "      <td>526</td>\n",
       "      <td>http://www.nuforc.org/webreports/ndxe201905.html</td>\n",
       "    </tr>\n",
       "  </tbody>\n",
       "</table>\n",
       "</div>"
      ],
      "text/plain": [
       "     Month  Count                                              Link\n",
       "0  09/2019    257  http://www.nuforc.org/webreports/ndxe201909.html\n",
       "1  08/2019    442  http://www.nuforc.org/webreports/ndxe201908.html\n",
       "2  07/2019    582  http://www.nuforc.org/webreports/ndxe201907.html\n",
       "3  06/2019    463  http://www.nuforc.org/webreports/ndxe201906.html\n",
       "4  05/2019    526  http://www.nuforc.org/webreports/ndxe201905.html"
      ]
     },
     "execution_count": 7,
     "metadata": {},
     "output_type": "execute_result"
    }
   ],
   "source": [
    "# read back csv file\n",
    "# pd.read_csv('data/report_months.csv', index_col=0).head()"
   ]
  },
  {
   "cell_type": "markdown",
   "metadata": {},
   "source": [
    "# Report Data"
   ]
  },
  {
   "cell_type": "code",
   "execution_count": 3,
   "metadata": {},
   "outputs": [],
   "source": [
    "report_df = pd.read_csv('data/report_scrape/report_text.csv')"
   ]
  },
  {
   "cell_type": "code",
   "execution_count": 19,
   "metadata": {},
   "outputs": [],
   "source": [
    "report_df.set_index('report_id', inplace=True)"
   ]
  },
  {
   "cell_type": "code",
   "execution_count": 22,
   "metadata": {},
   "outputs": [
    {
     "data": {
      "text/html": [
       "<div>\n",
       "<style scoped>\n",
       "    .dataframe tbody tr th:only-of-type {\n",
       "        vertical-align: middle;\n",
       "    }\n",
       "\n",
       "    .dataframe tbody tr th {\n",
       "        vertical-align: top;\n",
       "    }\n",
       "\n",
       "    .dataframe thead th {\n",
       "        text-align: right;\n",
       "    }\n",
       "</style>\n",
       "<table border=\"1\" class=\"dataframe\">\n",
       "  <thead>\n",
       "    <tr style=\"text-align: right;\">\n",
       "      <th></th>\n",
       "      <th>datetime</th>\n",
       "      <th>city</th>\n",
       "      <th>state</th>\n",
       "      <th>shape</th>\n",
       "      <th>duration</th>\n",
       "      <th>post_date</th>\n",
       "      <th>report_text</th>\n",
       "    </tr>\n",
       "    <tr>\n",
       "      <th>report_id</th>\n",
       "      <th></th>\n",
       "      <th></th>\n",
       "      <th></th>\n",
       "      <th></th>\n",
       "      <th></th>\n",
       "      <th></th>\n",
       "      <th></th>\n",
       "    </tr>\n",
       "  </thead>\n",
       "  <tbody>\n",
       "    <tr>\n",
       "      <th>144/S144369</th>\n",
       "      <td>12/31/18 23:30</td>\n",
       "      <td>San Antonio</td>\n",
       "      <td>TX</td>\n",
       "      <td>Sphere</td>\n",
       "      <td>15 minutes</td>\n",
       "      <td>1/11/19</td>\n",
       "      <td>I saw fiery orange lights no sound flying at l...</td>\n",
       "    </tr>\n",
       "    <tr>\n",
       "      <th>144/S144243</th>\n",
       "      <td>12/31/18 21:41</td>\n",
       "      <td>Ormond Beach</td>\n",
       "      <td>FL</td>\n",
       "      <td>Fireball</td>\n",
       "      <td>20 seconds</td>\n",
       "      <td>1/4/19</td>\n",
       "      <td>Orange glowing object racing though the sky.,A...</td>\n",
       "    </tr>\n",
       "    <tr>\n",
       "      <th>144/S144260</th>\n",
       "      <td>12/31/18 21:45</td>\n",
       "      <td>Kiawah Island</td>\n",
       "      <td>SC</td>\n",
       "      <td>Sphere</td>\n",
       "      <td>10 seconds</td>\n",
       "      <td>1/4/19</td>\n",
       "      <td>On New Year’s Eve night on Kiawah Island, I ca...</td>\n",
       "    </tr>\n",
       "    <tr>\n",
       "      <th>144/S144245</th>\n",
       "      <td>12/31/18 21:47</td>\n",
       "      <td>Brandon</td>\n",
       "      <td>MS</td>\n",
       "      <td>Unknown</td>\n",
       "      <td>5 minutes</td>\n",
       "      <td>1/4/19</td>\n",
       "      <td>2 strange formations of continuous red-orange,...</td>\n",
       "    </tr>\n",
       "    <tr>\n",
       "      <th>144/S144558</th>\n",
       "      <td>12/31/18 22:00</td>\n",
       "      <td>Spring</td>\n",
       "      <td>TX</td>\n",
       "      <td>NaN</td>\n",
       "      <td>~15 minutes</td>\n",
       "      <td>1/24/19</td>\n",
       "      <td>Red/ Orange lights - spherical shape,Location:...</td>\n",
       "    </tr>\n",
       "  </tbody>\n",
       "</table>\n",
       "</div>"
      ],
      "text/plain": [
       "                   datetime           city state     shape     duration  \\\n",
       "report_id                                                                 \n",
       "144/S144369  12/31/18 23:30    San Antonio    TX    Sphere   15 minutes   \n",
       "144/S144243  12/31/18 21:41   Ormond Beach    FL  Fireball   20 seconds   \n",
       "144/S144260  12/31/18 21:45  Kiawah Island    SC    Sphere   10 seconds   \n",
       "144/S144245  12/31/18 21:47        Brandon    MS   Unknown    5 minutes   \n",
       "144/S144558  12/31/18 22:00         Spring    TX       NaN  ~15 minutes   \n",
       "\n",
       "            post_date                                        report_text  \n",
       "report_id                                                                 \n",
       "144/S144369   1/11/19  I saw fiery orange lights no sound flying at l...  \n",
       "144/S144243    1/4/19  Orange glowing object racing though the sky.,A...  \n",
       "144/S144260    1/4/19  On New Year’s Eve night on Kiawah Island, I ca...  \n",
       "144/S144245    1/4/19  2 strange formations of continuous red-orange,...  \n",
       "144/S144558   1/24/19  Red/ Orange lights - spherical shape,Location:...  "
      ]
     },
     "execution_count": 22,
     "metadata": {},
     "output_type": "execute_result"
    }
   ],
   "source": [
    "report_df.head()"
   ]
  },
  {
   "cell_type": "code",
   "execution_count": 21,
   "metadata": {},
   "outputs": [
    {
     "data": {
      "text/plain": [
       "'Poipu beach, Kauai, Hawaii New Years sighting of two firelike objects in the sky.,My spouse and I were watching the Poipu fireworks and we both noticed that there were two \"sparks\" that were holding still in the sky.  Initially, we both assumed that it was possible firework debris but (1) they were not falling (2) continued to burn and (3) started to move after \"hovering\" for >30 seconds.  We ignored the fireworks as we continued to follow these two objects begin to move and then they quickly began to move into the distance.  I wondered if perhaps someone was in a helicopter watching the firework display from above, but the light was \"fire-like\" and flickering -- plus the way they moved was inconsistent with any obvious explanation.  I wonder if anyone was taping the firework display, we did not have our cameras and we are stumped on how to explain what we saw.  I know the Navy maintains the Pacific missile testing range here -- but I cannot think that what was seen is congruent with a missile or any other military aircraft.'"
      ]
     },
     "execution_count": 21,
     "metadata": {},
     "output_type": "execute_result"
    }
   ],
   "source": [
    "report_df.loc['079/S79455', 'report_text']"
   ]
  },
  {
   "cell_type": "code",
   "execution_count": 23,
   "metadata": {},
   "outputs": [
    {
     "data": {
      "text/plain": [
       "'Bright Stars thats looks like planet but moves quicky like drone,Hi, I do not know what I saw last feb 26 at night in our bedroom in second floor.  I went to my bedroom to get something and i visited my plant which is a just right beside by the window.  I looked by the window tried to check how much is the layer of ice in my neighbors roof  anyhow i looked up the sky I saw these bright object stagnant in the sky I was kinda shocked I was thinking it may be one of the planets its sparkling to much that I called my husband to ask if what planet might it be.  then i noticed its not 1 but 5 of them scatterred but not so much you can all of them in my window them 1 star moved horinzontally i was shocked i thought it was faked and thought i might have seen a drone instead my husband said yeah it may be a drone but we think it almost up in the sky for so long and we dont know if its really capable to stand for so long. anyhow I tried to look and search any sightings here in Ottawa through internet but it seems none.  until i stumbled to you tube video with these URL:,https://youtu.be/pijFz88PxL0   ,it was 2013 but looking at it its same experience i had.'"
      ]
     },
     "execution_count": 23,
     "metadata": {},
     "output_type": "execute_result"
    }
   ],
   "source": [
    "report_df.iloc[15, 6]"
   ]
  },
  {
   "cell_type": "code",
   "execution_count": 41,
   "metadata": {
    "scrolled": true
   },
   "outputs": [
    {
     "name": "stdout",
     "output_type": "stream",
     "text": [
      "0 :\n",
      "I saw fiery orange lights no sound flying at low altitude no noise they moved south then flanked back but they all flanked at the same area  as they flew higher I took pictures and video  I tried to close up to see if they were lanterns but there was no flickering I have seen them before, but can’t identify them.\n",
      "1000 :\n",
      "Two cylindrical golden objects moving slowly far above wind turbines IOWA,On the night of August 6, 2018, around 830 pm, I was driving on a remote highway of northwest Iowa .  I just happened to glance up into the twilight sky ( sun had just set) and was stunned to see a golden cylindrical object slowly flying far up in the sky right between two wind turbines  At first I dismissed it thinking it was an airplane, but it was distinctly different. A golden glow and moving very slowly.  I looked around the sky wondering if it’s a reflection of the setting sun, but it had completely set and there were no other clouds or anything at that level but clear sky.  There were low dark clouds but nothing at that level  Imagine my shock to see a second similar object hovering in the sky to the far left of the sky right.  It was very far away but distinctly the same size as the first one.,It’s interesting that a few minutes prior to my sighting, my internet and gps conked on my iPhone and reappeared almost immediately as I passed the two objects.   Please let me know if anyone else saw what I did.  Thank you\n",
      "2000 :\n",
      "I am inquiring if you have any information on a grayish tall being with geometric formations that looked part of the body human in form but slender body type around 6-7 ft tall female and male both had familiar characteristics.,An information on big diamond type craft they have anti gravitational magnetic energy that gives the craft power they travel by means of time lapse.  I know this a reporting center.  Which means maybe you could help me out with who I'm dealing with.,Extra notes, was taken on a craft when I was young and the memorys didn't reappear till years later at which time after that occurred my encounter with beings I inquired about.  They are none hostile but warned and showed me that another group of beings exists that are hostile.  They use balls of lights blinding ball of energy.  Unknown of how or what energy they was using.,Thank you for your time, Hope to hear from you soon   ,Time 2300hours.  Date 9/8/18\n",
      "3000 :\n",
      "Chrome object dancing over 217 around 3:00.,I was driving 217 towards Tigard.  As I was driving I was looking at all of the com trails in the sky, I noticed a chrome object moving almost in a figure eight.  ,It disappeared after about thirty seconds or less.\n",
      "4000 :\n",
      "Two unknown objects seen over Vernon, NY on 07/12/17.,Two objects(lights) were noticed after they had passed overhead.  These objects produced no sound and there was no beacon as with normal aircraft.  These objects were moving away from us and the intensity of the light didn't seem to change.  Therefore, I am discounting landing lights as the source of illumination.  ,I am unable to estimate height and speed due to darkness but it took less than one minute for these 2 objects to go from overhead to beyond the visible horizon.  Also, as they moved away, they seemed to change position in relation to each other  as if they were in a race.\n",
      "5000 :\n",
      "It was 11:30,  I was walking my dog and I looked up and there was a sphere slowly moving across the sky makeing it's way towards Windsor.  It zig zagged and zipped towards Windsor, VT, my dog reacted to this event with barking and shaking.  My dog doesn't scare easy it was his reaction tbat frightened me the most.,((NUFORC Note:  Source of the report elects to remain anonymous; provides no contact information.  PD))\n",
      "6000 :\n",
      "star-like object in western sky in near north Ontario,Two pinpoints of light discernible using binoculars. Stationary in the western sky. Yellow/copper in colour, with some blue and red circling the predominant colour.  Appear to be moving closer:  the distance between the lights has increased.  Extremely stable in the sky, not a plant nor a planet/star.  Not a light atop a transmission tower.\n",
      "7000 :\n",
      "Slow moving high altitude light moving west to east would blink at random intervals about 1 second apart, dim then dark, then bright.,About 2am, my dog got me up barking to go outside, which is rare.  He seemed very upset.  ,I stayed outside with him for about an hour, looking at the stars.  When we got outside, a monster truck was racing around the neighborhood, so that could have been what had him upset, but I kind of doubt it.  He also did eventually poop after about an hour, so could have been that.,He seemed very upset the whole time, like someone or something was out there.  I saw a randomly flashing light in the sky exactly like what is on the YouTube video below (not my video).,The moving light was very high altitude like a satellite.  I've never seen a blinking satellite before.  It would blink randomly, dim then dark, then bright, then dark, then maybe dim for a couple of times, then dark, then bright, repeatedly but randomly.  It was moving slower than a satellite from west to east.  The speed seemed to alter and even stop at times.  I watched it for maybe five minutes but it was still there when I went back inside.,https://www.youtube.com/watch?v=2xVF2sfxj8I  ,It was the same thing as described in this recent report by someone on your site: ,http://nuforc.org/webreports/135/S135177.html\n",
      "8000 :\n",
      "We were sitting out when my wife noticed a very bright star.  She informed me of it and we began watching it together.  I went inside and grabbed my camcorder.,I was able to locate it on my camera and while propping my elbows on my step ladder I managed to capture some great footage.  I was a sphere shape and it kept changing colors\n",
      "9000 :\n",
      "Nine Flying Disc  spotted in Taylorsville Utah 09/05/2016,Took photos of nine disc red and two white ones  together three red six white disc it was cloudy.,((NUFORC Note:  Witness elects to remain totally anonymous; provides no contact information.  PD))\n",
      "10000 :\n",
      "At approximately 5:58 AM on the morning of March 4, 2016, while looking out my window, facing East South East, at about 45 to 50 degrees in the sky, I saw a extremely bright light and it seemed to be rectangular in shape.  It was about the size of the last quarter of the moon or smaller.  ,As it came closer in my direction, it was clear to see that it had 3 giant round bright bright lights horizontally and above it and below the 3 lights was a very thin band of lights that over and had colors.  ,It stayed stationary for a short time, moved slowly to the right, then shortly after that, it just moved straight down, out of my sight into the south point of the island.\n",
      "11000 :\n",
      "Not trying to debunk a sighting, and I'm not a expert, but I believe the sighting over Elizabethtown, PA, was a single Chinese lantern.  ,I haven't determined who launched the lantern, but it was flying low, so I assume from Elizabethtown.  My guess is the college.,((NUFORC Note:  Witness elects to remain totally anonymous; provides no contact information.  PD))\n",
      "12000 :\n",
      "3 orange lights floating about 200 yards above N/B US10 near E. Lyon Rd.  The lights appeared to be seperate from each other by the way they shifted.  ,I was driving on the highway so couldn't get a great look but I can't explain what I saw. ,I snapped several pictures through the windshield with my phone but they are low quality.,((NUFORC Note:  Witness elects to remain totally anonymous; provides little contact information.  PD))\n",
      "13000 :\n",
      "Tight knit formation of 5 yellow lights that disappeared.,We were having a bonfire in the city of Sterling Heights. I happened to look up.  I saw 5 yellow lights flying in perfect formation.  Sort of a half diamond.  It flew straight and true, made no noise at all, then disappeared instantly.\n",
      "14000 :\n",
      "3 objects spotted separately, shaft of light aimed at one of them.,\tHaving never seen anything like this before, I feel like I may be a bit crazy.  I have been watching a lot of Ancient Aliens and listening to Coast To Coast nightly, but that fact has no bearing on what I actually saw this morning.,\tI am a truck driver, and I drive the same route every night, which takes me from Bloomington, Illinois, up Interstate 39 to Plover, Wisconsin, and back.  This gives an idea of approximately where I may have been in relation to towns or cities, as I wasn’t exactly sure what towns are around the objects I saw.  I do know that the first one was seen in southern Wisconsin, close to the border, probably around the 170-mile-marker or so, before getting on the toll way.,\tAs I have not seen anything like this, it’s difficult to describe, but I will admit that the first and third objects could have easily been airplanes seen from a distance, but I do not think they were.   All three objects were orange in color, all seen from a distance as I was driving, so I couldn’t keep my eyes fully trained on them.,\tThe first one, which was seen around 4:30 A.M. CST, at first did look like it was possibly an airplane coming in for a landing, as it was descending, but when it did a zigzag movement while in descent, I realized I may have seen something not operated by humans.   I know that some military airplanes could pull off a zigzag pattern, but the way it moved while also descending was a bit strange.  I spent 4 years in the Marine Corps, and being an air winger, I frequently witnessed maneuvers by Hornets, EA-6Bs, Harriers, Ospreys, and others.  I never saw any of those things, including helicopters, do anything like what I saw.  Eventually, it got too low and was hidden behind the tree line of the Interstate.  I tried to keep an eye out for it to pop up again, but it didn’t.,\tThe second object was much higher in the night sky, around 5:15 A.M. CST, and was much further away from me than the first was.  I was driving south, and I first saw it almost directly in front of me.  It seemed at first to be moving very slowly east, then sped up a bit.  Up until this point, I didn’t think the first object was enough to file a report, as I stated that it could have easily been an airplane, even with the odd zigzag move, but what happened while watching the second one actually astonished me quite a bit.  After it sped up a bit, I saw a quick shaft of light.  This light was not bright or flashy, and it only lasted a split second, maybe a quarter of a second at the most.  It was like a lightning bolt, but rather than going from the ground to the sky, this bolt came from the sky and was aimed directly at the craft.  Also, it wasn’t jagged like a bolt of lightning, but rather it was straight, like something was beamed from space to the craft.  I have never hear! d or read of anyone seeing anything like this before, so maybe I really am crazy.  Anyway, after this beam to the craft, it kept on moving in an easterly direction and I lost it as it kept going.,The third object was spotted around 5:45 A.M. CST, and this was the least eventful of the three.  I also saw this one coming from the south, or at least that’s where I spotted it since I was driving south.  This one traveled at a leisurely pace for the most part, speeding up one time, but slowing back down soon after.  This one didn’t do anything odd, but also went in an east direction, where I lost it in the twilight of the rising sun.,\tHonestly, of the three things I saw, I really don’t know if any of them was actually extra terrestrial, but they could be.  That’s why I wanted to report them.  I’m truly interested if anyone else saw the shaft of light to the second craft I saw, or if anyone has ever reported such a thing before.\n",
      "15000 :\n",
      "On 7/4/15 @10PM in Kansas 2 red/orange dots(fireball) side by side were moving then disappeared,My friend and I were watching fireworks on the 4th.  I was looking south and spotted 2 red/orange dots in the sky.  ,I was excited to share with my friend what I was looking at.  I asked him if he would look south at the red/orange dots, and he stated to me the dots are close together and moving towards the North, amount of time watching 1-2 minutes.  ,We were trying to take picture/video and then suddenly dots disappeared.  ,I was very excited to share with friends and family, our July 4, 2015, evening.\n",
      "16000 :\n",
      "About 8-10 lights hovering in a non specific formation.  One by one the lights began to fade away in the night sky.  Last remained visible for 3 minutes before it also faded away.,((NUFORC Note:  Witness elects to remain totally anonymous; provides no contact information.  PD))\n",
      "17000 :\n",
      "I was driving on I-70 west toward Kansas Cit,y around 730 pm on 9/19/15,  when i first saw them.  i just remember the sun was going down and i was driving toward this beautiful sunset, as i watched these lights appear and they faded as the horizon changed colors and turned dark.  i actually sped up because i wanted to see what they were and it looked like one of the lights was moving to the right toward the direction i was driving to which was into downtown.  there were two bright lights that appeared circular one brighter than the other which was the one the was moving right toward where i was going.  the other two lights are harder to explain because at first i thought they were those clouds that the airplanes make but as i drove closer and watched they didnt fade but seemed to get brighter. these 2 werent circular but kind of a swish shape, was very odd. these four lights hung in the sky sort of in a square formation as the brightest circle moved toward what se! emed to be over  downtown. i then saw a PLANE !!like one of those small ones, fly between me and these lights and then fly back and back again before it dissapeared. i have never seen a plane to that in my life! i was in shock, took my phone out which is very dangerous while driving but i wanted to record this but i couldnt do it while i was driving. i was looking at every person driving beside me to see if they were seeing this but the couple people i saw didnt seem to notice this!!? wtf.  it all was very bizzare.  then the lights began to fade and by the time i reached the westside it was pretty much dark and i could only see one of the lights which then faded or i lost view of it from behind buildings.\n",
      "18000 :\n",
      "Two black squares flying 100 feet.,While sitting on my elevated deck, looking South/South East, I noticed what at first looked like a Dark Spot in the sky.  I lost site of it due to a large tree.  ,Approximately 15 seconds later, I heard a very low \"Humming\" Sound, but could not associate it with anything.  Suddenly my Wife and I could clearly see two \"Black Squares\" about 15 by 15 feet flying over our house at an approximate altitude of 100 fee, Approximately 20 MPH, flying North North West, then slowly turning towards North North East in the direction of the Philadelphia Airport.  The \"Wingman\" swung from the right to left of the leader in a graceful and unusual motion, remaining somewhat level.  We saw No lights, until they past over us then strange Pure White Rectangular Lights in a row (Approx. 3 on each side flashing from outer to inner), at less then a second per flash.,We have a Boeing Plant South East of us.  At first I thought it may have been a Top Secret Drone, but the more I think about it, I don't think it was made here.  We are pretty close to the Airport for anything that size to be flying that low all blacked out with No Visible Navigation lighting.,((NUFORC Note:  Witness remains anonymous; provides no contact information.  Hoax??  PD))\n",
      "19000 :\n",
      "Unknown flashing light flying at high altitude in and out of passenger jet contrail.,Sitting in back yard  just past 2:00pm. Clear sunny day.  Happened to notice a flash of  light in sky maybe 12 miles or so north of Hudson, Fl.  Light was not a landing light or reflection.  ,A small dot of a craft was visible, much as a jet is visible in front of a contrail in high flight. Unable to determine shape.  Flight was erratic, in and out of a contrail, above and below it.  Also flew west to east along contrail.  Not a normal flight path for an aircraft at 30 to 36,000 ft. agl.  Object was dark in color.  ,I tried to video it with my cell phone to no avail, object was to far away.  Wife was with me but she is nearly blind, she couldn't see it.  I live in Tampa air traffic area and am familiar with flight patterns.  Object may have been in Hernando County.  ,I happened to see a B-17 last Wednesday in Brooksville air space from the golf course I work on in Hudson.  Told my boss about it.  He thought I was nuts till picture of it was in the local paper the next day.  ,I am a veteran of naval aviation.  The B-17 was at Brooksville Regional Airport for tours last week.  What I saw had nothing to do with that.\n",
      "20000 :\n",
      "Green light shooting straight down from the sky.,Was driving home from work and saw a green light sit in the sky a bit and then shoot down toward the ground.  Some other drivers had stopped their car to watch.\n",
      "21000 :\n",
      "A light brighter than any star, pulsating and changing colors, moved, parked, buzzing sound, orbs around.,Greetings,  Not sure who I'm talking to nor where to report, but you might want to check this video:  ,https://www.youtube.com/watch?v=uUnOVtVudN4  ,Description included in video caption.  Thanks for your interest and feedback...\n",
      "22000 :\n",
      "Long green tail alternating fireball and not lasting 2-3 seconds moving left to right facing south,Was walking south down Clinton street between Atlantic and  state streets.  My girlfriend pointed at the sky and we both saw an object moving left to right with a long bright green tail.  The object was intermittently switching between a fireball and not.  It was definitely lower than the moon in the sky.  If I was to reach out and point at it I would guess the tip of my finger to have been 6' off the ground or slightly less.\n",
      "23000 :\n",
      "Three of us saw a bright red light moving West and another less brilliant white light next to it, both making no sound.,Three of us saw a very bright red light with a smaller white light at Cedar Heights Condominiums.   ,The red object moved slowly West.  ,We lost sight of the white moving light. ,We heard no sound.,((NUFORC Note:  Source of report corrected the date to August 14.  PD))\n",
      "24000 :\n",
      "Some friends and I (5 people total) were chilling at my house, when two of my buddies decided to leave (they were in the same vehicle.) ,After they get out of the driveway I get a call from my buddy saying, \"Hurry up and get outside!\" ,I ran to the porch as fast as I could and as I get to the door there are 2 red/orange lights that look like flares..  ,But the thing is we sat there and watched the things circle around and even grow brighter. At one point they sat in one postition (still) for up to 45 secs, then completely faded away.\n",
      "25000 :\n",
      "6 orange lights flying evenly apart in a row!,My daughter and I got home at 10:05pm last night.  As we were getting out of the car, I saw 4 bright orange lights moving across the sky at an altitude of a plane.  They were evenly spaced and flew across the sky in a perfect row at the speed of a plane flying by.  ,Then a fifth one appeared into sight more of a distance behind the first four.  Then a sixth one.  ,They passed in a line one following the other until out of sight behind the trees.  I thought they looked like Chinese lanterns but seemed to big at the altitude they were flying at.  ,I never saw anything like that before!\n",
      "26000 :\n",
      "West Virginia man sees strange orange object in the night sky,As I walked outside my home, I looked in the sky to see a round shaped orange glowing object shooting across the sky at the speed of a shooting star.  The object was moving in a north west direction than quickly made a 45Pop degree turn at a rapid speed changing its direction to south west.  It was moving to fast to be any kind of man made plane or helicopter.  The object couldn't have been a shooting star or space junk falling to earth because of its rapid change in direction.  ,I will be the first to tell you that I don't believe in such things as aliens and ufo's.  However, their can be no other explaination for what I saw in the sky.,((NUFORC Note:  Witness elects to remain totally anonymous; provides no contact information.  PD))\n",
      "27000 :\n",
      "Light in the sky that I have never seen before.,Light was hovering in the sky right above my head....thought it was a satellite at first but it wasn't moving.  It was too bright to be a star.  I watched it for about 90 seconds before it just burned out.  Never saw anything like that before...very strange!\n",
      "28000 :\n",
      "Hebron, CT, September 27, 2014, 5:15 a.m., ball of bright red-orange light with tail, traveling northwest at a very low altitude for about 15 seconds, then just disappeared.  No sound\n",
      "29000 :\n",
      "Cigar shaped craft with pulsating red & green chevron lights hovering over treeline in Belleville, Indiana.,I had just left Greencastle, Indiana, when I had just entered the Hendricks County line. Approximately 3 minutes away from Belleville, Indiana, I was driving my car on U.S. Highway 40.  I looked up to see a bright star in the right of my windshield, and to the right, I saw a red/green light.  At first glance it looked like a radio tower, so I thought nothing of it.  As I tried to focus in on the object (while also trying to maintain position on the road), I realized that there was no radio tower in that area, nor would a radio tower reach a couple hundred feet above the treeline.  I began to slow down my car so I could focus in on the object more.  Considering I was the only one on the road for a little ways, I slowed down to around 20 mph.  When I looked into my upper left hand side, I saw what seemed to be a blackened cigar shaped craft, with pulsing chevron red & green lights.  It looked like the lights were on a conveyor belt, basically rotating around the cra! ft.  As I began to speed back up, the craft disappeared.  I tried to rule out, though I am not denying the fact that it is a possibility that this craft was in fact a helicopter, plane, or other perfectly normal object.  However, there were no \"blinking\" lights like a plan, nor would a plane hover in the same spot for a few minutes.  A helicopter could hover, however I would have assumed I would have heard some bit of noise.  Not here, it was silent.\n",
      "30000 :\n",
      "Orange glowing shere seen on 2 successive nights at almost the same time for 30-120 seconds,Sighting #1 8/3/13 about 9:15pm.  I was sitting on my living room couch and looked out of the bay window.  Through a large ash tree I saw a very bright orange glowing object that seemed to be getting closer. , I got up and opened my the front door and stepped out onto my front porch.  The object was still being partially blocked by the tree.  By the time I stepped out onto the sidewalk the object emerged from the tree cover and continued moving on a straight path, at a steady speed.  ,I called to my wife and son to come out to see.  The object had moved almost directly over myself and my home. It was emitting what seemed to be an orange glow or fire'  It did not appear to have any other shape as it moved west to east.   ,My son and I observed for about another 30 seconds as it moved father away, As it did it seemed to loose the intensity of it's glow.   A guess at its altitude would be 1,000 to 2,000 feet\n",
      "31000 :\n",
      "Hovering cigar shaped object that resembled a comet trail but there was no movement.,A cigar shaped object was hovering in place (no movement) for 20 mins.  We zoomed in with a camera and the object appeared to be enveloped in orange flames but at the right hand tip we saw a metallic  undercarriage.  ,The object was far away so it appeared to be of an enormous size (maybe the size of a large cargo ship.)  This resembled a comet trail but there was no movement.  ,Also, the sky was clear blue, no wind, and great visibility.\n",
      "32000 :\n",
      "2 stationary fireballs,I walked outside my house and instantly looked toward the southwestern sky.  Close to  the horizon were 2 stationary lights. They were red-orange in color.  They didn't move at all. The sky was overcast completely.  I couldn't even see the moon or any stars.  We had a severe thunderstorm about 2 hours prior.  The air was still and everything was quiet.  The lights were at a distance, but they were quite noticeable and bright.  After viewing them for about 30 seconds, I turned around to open the front door to yell for my husband.  When I turned back to the southwest, I saw that one of the lights were dimmed and then disappeared.  My husband came outside about 20 seconds later, and I showed him the remaining light.  We stared at it for about 2 minutes, then it dimmed and eventually disappeared., My opinions-The way they seemed to \"burn out\" made me think they were fireballs.  They were not in the normal flight paths for aircraft in this area.  The way they were absolutely still was quite strange.  I wonder if there were more of the fireballs prior to me going outside in the first place.  Tomorrow I will take a photo of how the area looks during the day, and where I remember the fireballs were.\n",
      "33000 :\n",
      "TRIANGLE OBJECTS HOVERING IN CORNFIELD.,I went out to start my truck to let it warm up around 4am when i heard a low humming sound coming from around back of the house.  ,As i walked around back i seen 2 triangle objects with solid orange colored lights in the south cornfield.  These objects were approximately 300yrds out & were hovering approximately 150ft. above a small grove of trees.  ,The objects looked  to be about the size of larger personal airplane.  One of these objects had a blue-ish beam of light coming down from the middle of it that seemed to be tracing the outer edge of the tree line.  ,After about two minutes the objects started to rise straight upward then headed east approximately a mile then making what looked like a perfect 90% turn, headed straight back west at high rate of speed then vanished.\n",
      "34000 :\n",
      "A large light that would continuously stop, hover, and change directions in flight.,On our way home from Logan, we encountered a strange light in the darkening sky.  It was by no means a star and was not blinking like an airplane.  The light it emitted was very bright and large.  At first the odd shape was heading Southwest, then it changed directions and started to go West.  The weird thing was though, was that it would stop in the middle of the sky and just suddenly hover there for a few minutes.  We stopped, jumped out of the truck and proceeded to record a quick video of it.  We were shocked as it flashed blue, white and red very quickly in the video.  We hopped back in the truck and started moving again, trying to get closer although it was dozens of miles away in the air.  When we stopped again to gaze at the orb of light, it hovered again over a mountain and begin to suddenly go out like a light switch had been flicked.  It eventually disappeared, but we were all pretty shaken. In many of the pictures the light seems to be a sphere of some sort, moving in small circles while still hovering in the same spot.\n",
      "35000 :\n",
      "very bright round object, witnesses descending and hovering in sky over the city.,While standing outside with my neighbors,I notice a bright light descending in the sky.  The object stop and hovered on the horizon for approximately 35 minutes then disappeared.  The object appeared to be round and very bright white light, could not see any structure while looking through binoculars.  Object just disappeared.  No sound or movement.\n",
      "36000 :\n",
      "2 Objects in the Eastern Sierras and a white beam flashing,We saw 2 distinct lights/objects moving together slowly towards the South in the Eastern sky paralle to the Sierra mountains.  As the two objects moved one flashed a bright light for just a few seconds towards our direction (West).  After a minute or two the two objects separated and one changed direction and headed at a 90o heading West as the other object continued South.\n",
      "37000 :\n",
      "White and orange and seems to evade the military jets that do there night training at the air base near here.,February 27:  Maybe a second or two on can.  A light around the size of a 16 inch rims,as big around as the tires on my truck, a travel northwest to southeast visible for about 10 to15 seconds with the naked eye, I caught a second or 2 of it on cam before just vanished.\n",
      "38000 :\n",
      "I unmistakingly saw two faint stars flying at the same speed flying eastward from my backyard while star gazing from my swimming pool !,\"They looked like stars. I was gazing at the stars as I was relaxing in my pool when I noticed two stars that appeared to be moving!!!  Yes, they were moving, flying side by side at the same exact speed.  I watched them until they flew out of my sight.  No fancy lights, just faint looking stars.  They were flying easterly because I was facing north.  I want to know if anybody else seen this.  I am a little scared because I know what I saw was real.\n",
      "39000 :\n",
      "V shaped flying wing with lights in the whole shape of the wing like apartment lights or living area lights,Saw a very large object that looked like a giant flock of birds a first that's what I thought it was was a flock of goose flying at night but then all of the v shaped object had lights on the whole object flying overhead about cloud level no sound just soaring south with lights in whole portions of the v shaped wing object.  I have heard of other people reporting these v shaped flying wings and was very excited that I got to see one.  I tracked it for about 5 seconds then it was gone, they make no noise so it's very hard to pick up on them you have to only look with your eyes, I believe that is how they go undetected as they are completely quiet and move very fast but graceful through the night sky's.,((NUFORC Note:  Witness elects to remain totally anonymous; provides no contact information.  PD))\n",
      "40000 :\n",
      "Blue light observed over RT 24 northbound in the early morning.,Heading northbound on route 24, me and my father witness in front of us up on the sky a bright blue light that happend to travel down the sky similar to a shooting star. Later in a short duration while traveling South-south west direction it changed course to a north east direction in a dime and disappear down the horizon.  I Assumed that it was a shooting star till it made a 45 degree angle turn.,Witnessed at around 4:30-4:35 while going to make a pickup at Wharton ,NJ.  My father was the driver while I was passenger and we both witness the same event.\n",
      "41000 :\n",
      "Four oval orange lights seen near Eau Claire Wi,I drive truck on a route everynight and get back to Eau Claire about 12:00 ti 12:30 Am.  ,I travel on highway 29 and was getting onto the off ramp when I notice two very orange oval shape lights approaching my postion.  ,I pulled over and turned my truck off. I got out and watched two of these oval objects pass over me and then they dissappered.  ,They made no sound, moved about as fast as a small plane and were very bright orange.  I am positive they were not a plane or helicopter.  I got a very good look at them.  ,As soon as the first two disappeared another group of two came from the same direction and did the same as the first.  ,I have never seen anything like this before .\n",
      "42000 :\n",
      "Four fireball orbs hover over Placer/Sacramento County Line near Folsom Lake,We were driving south on Auburn-Folsom Road toward Folsom Dam Road when we noticed in the sky, four orange or red orbs.  They were not helicopters.  They were suspended vertically at different angles, and they seemed to just sit there.  Other motorists saw them, and pulled over to look.  As we traveled south, they just disappeared, or extinguished themselves.  Could have been Chinese lanterns.  They all went dark at different times, not simultaneously.\n",
      "43000 :\n",
      "Same as the reporting from Montclair, Nj. &quot; Large bright circular light that got smaller and smaller until it disappeared.&quot; I,Same as the reporting from Montclair, Nj. \" Large bright circular light that got smaller and smaller until it disappeared.\"  I was on top of a building on the roof, and happened to catch something bright from the corner of my eye in the sky, when I looked up I saw a big flash of white light shaped like a big orb for about 1-2 seconds and then it dimmed down a bit, then the light started getting smaller and smaller while traveling slowly across the sky until it disappeared. It just vanished. It wasn't an airplane, it just vanished!   Then about 5 minutes later higher up in the sky I saw a little dot of white moving across (not a plane) then when it got directly over my head it flashed into a big circular white light again for about 2 seconds then it dimmed down and kept moving across the sky slowly until the light vanished.  By vanish I dont mean it kept going across the sky until I could no longer see it but it died like blowing out a fire on the spot! .\n",
      "44000 :\n",
      "Saw weirrd 3 lighted triangle craft aprox 7:00 pm over Brunswick Maryland last night..  Was driving!  Looked like it was compied by civilian aircraft due to one flashing red strobe.  If anyone knows of the event please share!!\n",
      "45000 :\n",
      "I was kayaking on Olallie Lake today, June 30, 2013 with my stepson.  ,After arriving home and loading photos on the computer, I saw what looked like a ufo in one of the photos.   The lens needs cleaning and the round smear in the upper right corner is from the lens.  ,To both of us, it looks like a ufo.  We saw nothing, but I’ve heard of ufo’s showing up in photos, so I thought I would submit a photo.  ,It was very quiet at the lake and we did not hear anything unusual.,Camera data:  F/4, 1/400 sec, 4.74 MB  I am emailing a photo.\n",
      "46000 :\n",
      "My buddy and I were in a deep conversation and both saw a turquoise light go in light speed threw the sky under the clouds at lighten speed that we have never seen in our lives. ,We stopped looked at each other and said did yu see what I just saw.  I said we just saw a UFO!!  And he shook his head yes as we both just stood in did belief.  There out there I knew it.\n",
      "47000 :\n",
      "I am a retiread plychologist age 64. I sit out every night till about 2pm facing the south.  I saw  a large round orange ball, like a pumpkin on fire (fuzzy edges) appearing in the western sky and proceeding to the east.  It was very large about the size of a distant full moon while coming towards me getting increasingly smaller as it moved away.  Flight was controlled and horizontal.  ,It finally disapeared over a house to the east, over narragansett bay.  No sound, no variation in flight pattern.  Quite amazing.  In August of '09 I saw a black triangle moving much faster under a cloud bank back lite by a full moon..  At the time I had never heard of such.  In December of that year I googled it and learned that many others has seen the same thing.  I reported to mufon.  ((name deleted))\n",
      "48000 :\n",
      "UFO Chasing commercial flight in southern maine!!,Last night (10-12-12), I witnessed a commercial flight traveling to PWM followed by a bright white object.  It quickly closed the gap and was right behind commercial flight then remained a distance from it.  It descended diagonally below it, changed from white to red then seemingly \"imploded\" on itself.\n",
      "49000 :\n",
      "Strange fireball.,I noticed what seemed like a fireball streak from right to left with a very slight downward angle, but did not continue to fall to earth and there was no trace of light thereafter.  Living near an Air Force Base and local airport I have observed many different variations of aircraft, close enough to Cape Canaveral to witness launches of all kinds and have not ever noticed such a strange occurrence before.  I was standing just inside my screened in porch and stepped outside immediately.  It was very bright - very reddish/orange and very large.  It disappeared within 30 seconds roughly.  Not a meteor and night sky was as it should be.  It ALMOST looked like a burning plane but just stopped!\n",
      "50000 :\n",
      "2 bright lights, not moving seem relatively close, wish someone would confirm,Two lights in the sky and aren't moving. I see stars and compared to the stars they are much closer and brighter.  Couldn't tell what it is with binoculars. My friend said he saw them last night also.  They can be seen facing the West from my point.  Anyone know what the hell are these they aren't planes or helicopters and they don't flash just steady light,((NUFORC Note:  Jupiter and Saturn.  PD))\n",
      "51000 :\n",
      "Circular object emitting strong bright light moves unlike any man-made aircraft we know of today.,On Christmas Eve 2012 I noticed circular object emitting a strong bright light. it appeared out of nowhere. It zigzagged moving very fast. It then took off and the size of the object was greatly reduced as well as the strength of the light it emitted. I was hoping someone else was outside at the time, but after it disappeared I noticed no one else was outside. As I approached my home I had saw my neighbors outside I looked up and the object appeared out of nowhere again, traveling at great speeds and it was a very strong light emitting from the object. Luckily, my neighbors were outside and they were waiting for family for Christmas Eve to arrive. My neighbor actually had a camera around his neck, I shouted to him look up look up.,My neighbor was outside with his two young daughters and we were all amazed at how this object traveled and how it disappeared and then reappeared. It had disappeared and reappeared three times in total that night up to about 12 AM.,My neighbor took several pictures of the object. This had no characteristics of a plane or helicopter, it moved at such speeds and such different directions that it could not have been anything we know of right now. It was able to hover, take off, and hover, disappear then reappear. The light it gave off was captivating.,My neighbor and I are waiting for the film to develop. I am very excited to see how this object looks on film. I can assure you, there is no way possible it was a plane or helicopter. Without a doubt it has to be defined as as a UFO.,One more note,the light this object was giving off was so bright that you couldn't really make out the shape of the object. But, when I had seen it appear out of nowhere as it went across the sky I could see somehow, the top of the object. The top was a circular shape, like I could make out the top half of the object. I don't know if because it accelerated out of nowhere that I could make out the top half of the object, but after that the light was too strong to see the physical shape of the object. The light that was a emitting from it was a circular shape, like a fire ball., Note- the film still has to be developed. If my neighbor was able to get the image in his shot, of which I am positive he did, it should be amazing proof as I have never seen a thing like it. Please inform me of the best way to send the images. Thanks.\n",
      "52000 :\n",
      "Two silent white spheres crossing the early morning sky.,I was at Lindsey Gardens by the Salt Lake Cemetery; looking for the last of the meteor shower. I saw a really bright white sphere moving smoothly across the sky.  It seemed to get brighter and brighter like it was approaching or getting closer and I started to get scared, because I did not know what I was seeing.  Then another one not as bright was going in the opposite direction heading right to it and the brighter sphere moved down at a 90 degree angle! And then just kept on going.  The fainter sphere kept going in the other direction and quickly faded away. And then I watched the brighter sphere move across the sky.  It only took about 2 minutes for it to fade completely out of view.  As it faded away it looked just like a star in the sky.  There were no colored or blinking red lights on it. Just a beautiful bright orb looking thing.  I tried to get video of it, but my camera didn't register it.  About 3 minutes later, a plane went over head and I knew the sphere! was definitely not a plane.  The plane made noise and had two bright white lights on each wing and a blinking red light.  I don't know what it was. But I'm going there again with friends to see if it comes back.  It was amazing.  There's a lot going on at Dugway recently....it could be a military experiment. \n",
      "53000 :\n",
      "flying above the tree tops,I was traveling to california and was around midnight.  I saw a flying object that was a bright light and i said to myself that looks like a UFO.  It then came down over the top of the trees and followed me for over an hour. It dropped a flare like lazer bluish-white down in front of my car to get my attention but they didnt know they already had it.  I was not scared because this happened to me going over the 84 bridge in Palo Alto, Ca.  That time they dropped a green laser light in front of my car on a sunday morning at 0745 am.  Anyway I stopped to get gas and to told the station guy what just happened with the laser light dropping in front of my car.  I tried to play it off as a falling a star but told him it dropped from the top of the trees.  He smiled at me and said the same thing happened earlier that evening with him at the station.  He told me they are around there on a daily basis.  So i got in my car and left and within a few hours I was so sleep! y i pulled over and fell asleep sitting stright up in a car for over an hour.  Thats it.  Dont remember anything else that night.\n",
      "54000 :\n",
      "Six persons witnessed six orange lights passing over Olmsted Falls, Ohio amid fireworks displays.,At 21:50 on 7/4/11 I was leaving my father's home in Olmsted Falls, Ohio.  After loading my car, we stood in his driveway and watched fireworks.,At 22:00 we were talking and turned to face northeast (two o' clock) in the direction of I-480 and North Olmsted Golf Club.  Both of us saw a formation of six orange-colored, oval-shaped lights moving in line (from two o' clock to nine o' clock) toward our location.,I commented: \"I don't think those are fireworks.\"  My father was in the miliary and has flown aircraft. He stated: \"They must be military transport choppers!\"  He added: \"But it's not exactly safe conditions to be flying tonight.\"  ,At 22:01 three neighbors from down the street had been watching fireworks (southwest) and approached, one woman asking my father (due to his knowledge of aircraft) \"What kind of planes are those?\"  He told her he was uncertain.,The six orange lights flew in two wide triangular formations that stretched and contracted, narrowing as they passed over us.  The lights were solid, exhibiting no blinking or pulsing.  The lights made no sound, and my father remarked that \"you can't hear the rotors.\"  The lights paused at times, ascended and descended.,He asked me to photograph them with my Droid.  I attempted to first record video and second snap pictures.  I got two of them, but only caught one light in the picture.,At 22:01, after they passed over my father's house, the lights receded into the distance for a few seconds and then vanished.  A fourth neighbor/witness remarked that these may have been \"balloons.\"  The lights did not return.\n",
      "55000 :\n",
      "Bright white light hovering high in sky over S. Tampa,Bright white light hovering in sky:  not a helicopter (too high); hovers in a graceful, dancing-like movement; with naked eye, ( looks like bright star, but moves).  ,With iPad, see one triangular-shaped object with possibly another disc-like object nearby (video captured).,((NUFORC Note:  Witness elects to remain totally anonymous; provides no contact information.  PD))\n",
      "56000 :\n",
      "oval stationary object over Yuma Proving Grounds on New Years Day 2011.,around 2 PM on the first day of 2011, driving on 8 towards Yuma from the East, looking North, a stationary, white, oval object was stationary over the area near Castle Dome Peak by Yuma Proving ground. It did not move for between 30 minutes and one hour while we drove and we could still see it looking back towards Yuma as we headed out of town after stopping for lunch.\n",
      "57000 :\n",
      "3rd Sighting of same craft,2011 January 14 Sighting  Regarding this craft I have heard 11-25-10 and seen on 01-04-11:  On 1-14-11, at approximately 6pm, I heard this same very loud craft again, the 3rd time, the same loud sky tearing open sound but, even softer this time, going outside,  I could just make out the same craft, at some distance behind the tree line to the west of the property, its a very very sparsely populated area.  This 3rd occasion, I heard it and going outside, I witnessed it travelled from south to north there, probably a mile to a couple miles off I would guess.,My feeling was, that when I flashed my little red laser at them, on 01-04-11, iit irritated or scared them off, and they were keeping their distance this time...I really feel bad about that.  I did not get any closer look and it proceeded northbound, behind the trees, I could just barely make it out but, am fairly certain by the sound, it was the same craft.\n",
      "58000 :\n",
      "Particually bright White light/s in the night sky,I had returned to my Home (Drovers Lodge) after a late night out and was looking out across and over are farmland (i.e South) when I noticed a strange set of white lights (which looked extremely close together) in the night sky the lights seemed EXCEPTIONALLY bright (more bright than Stars) and where at an altitude of 1,OOO FEET or so weather the lights where from one object or individual lights from two/three seperate objects   I don't know as although they where not that far away they where  far enough away and it was to dark to be able to determine one way or the other.  I watched the lights for a short period of 25-30 seconds and then went inside  I don't know what this object or objects where,but it did seem strange. These lights where in almost the same place where I saw a Pure White glowing Shape changing flying ball/Disc/Saucer Nine Years previously.\n",
      "59000 :\n",
      "rectangular pair of light above the trees in madison ohio,i was driving down route 84 traveling east towards ashtabula, in madison ohio between wood road and dayton and from a distance i saw 2 lights that looked very not normal in an area i kno are no radio towers around ive drove down that road a million times,  i saw hovering, not moving lights that were orange and green not blinking about 20ft above the trees…  i thought thats odd i asked the other witness what he thought that looked like to him he said \"  a radio tower\"  im from the area and kno there is no radio tower there  like i said. it was still light enough outside to see there were no poles traveling from the top of the light and there were also no other lights going down from the top 2 lights if it were a radio tower..  we got right underneath it and i could see it right above the trees but we just kept driving so i didnt get a perfect mental picture if it was rectangular shape or a formation of 2 lights..  but it was not moving,staying light and not making a! ny noise hovering above the trees.,((NUFORC Note:  We assume an evening sighting, and we have changed the time above.  PD)),((NUFORC Note:  Witness elects to remain totally anonymous; provides no contact information.  PD))\n",
      "60000 :\n",
      "Light that moved.,Saw what appeared to be a very bright star.,The light subtly flickered and began to move, increasing it's speed with distance.,It was then obvious that the light was a craft, a ufo, that traveled untill we lost sight of it.\n",
      "61000 :\n",
      "I just went outside to my carport for a cigarette.  I looked up to the sky because I saw the searchlight a local business uses.  After the light beam had passed, I saw an object traveling through the sky at a high rate of speed.  At first, I thought it was a satellite passing over, but then realized that it was moving to fast for that. I watched it for about five seconds, and then was shocked to see it make a hard turn to the right, a 90 degree turn and then a second 90 degree turn so that it was heading back towards me. It then started moving back in the original direction, with no noticeable turn made.  It was out of sight within a matter of seconds.  There were no other witnesses to this.\n",
      "62000 :\n",
      "A quick moving green glowing ball seen while driving.,My friend and I were driving home through a suburban area and we saw a glowing green ball move quickly across the sky.  The ball was moving very quickly and was in and out of your sight within 3 seconds.  We thought it might have been a reflection off of the windshield but the speed and direction of the ball lead us to rule out this possibility.,((NUFORC NOTE:  Witness indicates that date of the sighting is approximate.  PD))\n",
      "63000 :\n",
      "It was a large boombrang or chevron looking ufo with two big yellowish-reddish lights that made no sound.,It was one night when I was with one of my friends and i notice something in the sky. I look to the sky and saw a light that was not far away from me.  As i saw it, i notice it came closer.I immeditaly knew that this was not some star, but something more odd and mysterious. I told my freind to look up and the first thing he said was,'holy crap thats a ufo'!  The ufo look like it was like a boombrang or chevron with two big yellowish-reddish circle lights at the bottom.  It lasted about 24 seconds up in the air until it came way to much close to me and my freind.  For a moment i thought it was going to abduct us but instead flew over us. It made no sound when this happpen. After it passed i look to the sky to try to see it again but had quickly vanished .,((NUFORC Note:  Witness elects to remain totally anonymous; provides no contact information.  PD))\n"
     ]
    }
   ],
   "source": [
    "for i in range(0, len(report_df), 1000):\n",
    "    print(i, ':')\n",
    "    print(report_df.iloc[i, 6])"
   ]
  },
  {
   "cell_type": "markdown",
   "metadata": {},
   "source": [
    "# Data Processing\n",
    "- remove ((NUFORC Note: ... PD)) from text\n",
    "- format all datetime data"
   ]
  },
  {
   "cell_type": "code",
   "execution_count": null,
   "metadata": {},
   "outputs": [],
   "source": []
  }
 ],
 "metadata": {
  "kernelspec": {
   "display_name": "Python 3",
   "language": "python",
   "name": "python3"
  },
  "language_info": {
   "codemirror_mode": {
    "name": "ipython",
    "version": 3
   },
   "file_extension": ".py",
   "mimetype": "text/x-python",
   "name": "python",
   "nbconvert_exporter": "python",
   "pygments_lexer": "ipython3",
   "version": "3.6.5"
  }
 },
 "nbformat": 4,
 "nbformat_minor": 2
}
