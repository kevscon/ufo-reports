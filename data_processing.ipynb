{
 "cells": [
  {
   "cell_type": "code",
   "execution_count": 1,
   "metadata": {},
   "outputs": [],
   "source": [
    "import re\n",
    "import numpy as np\n",
    "import pandas as pd\n",
    "from pandas.plotting import register_matplotlib_converters\n",
    "import matplotlib.pyplot as plt"
   ]
  },
  {
   "cell_type": "markdown",
   "metadata": {},
   "source": [
    "# Report Text Data"
   ]
  },
  {
   "cell_type": "code",
   "execution_count": 2,
   "metadata": {},
   "outputs": [],
   "source": [
    "# list of two-character US state (and DC) codes\n",
    "states = [\"AL\", \"AK\", \"AZ\", \"AR\", \"CA\", \"CO\", \"CT\", \"DC\", \"DE\", \"FL\", \"GA\", \n",
    "          \"HI\", \"ID\", \"IL\", \"IN\", \"IA\", \"KS\", \"KY\", \"LA\", \"ME\", \"MD\", \n",
    "          \"MA\", \"MI\", \"MN\", \"MS\", \"MO\", \"MT\", \"NE\", \"NV\", \"NH\", \"NJ\", \n",
    "          \"NM\", \"NY\", \"NC\", \"ND\", \"OH\", \"OK\", \"OR\", \"PA\", \"RI\", \"SC\", \n",
    "          \"SD\", \"TN\", \"TX\", \"UT\", \"VT\", \"VA\", \"WA\", \"WV\", \"WI\", \"WY\"]"
   ]
  },
  {
   "cell_type": "code",
   "execution_count": 3,
   "metadata": {},
   "outputs": [
    {
     "data": {
      "text/html": [
       "<div>\n",
       "<style scoped>\n",
       "    .dataframe tbody tr th:only-of-type {\n",
       "        vertical-align: middle;\n",
       "    }\n",
       "\n",
       "    .dataframe tbody tr th {\n",
       "        vertical-align: top;\n",
       "    }\n",
       "\n",
       "    .dataframe thead th {\n",
       "        text-align: right;\n",
       "    }\n",
       "</style>\n",
       "<table border=\"1\" class=\"dataframe\">\n",
       "  <thead>\n",
       "    <tr style=\"text-align: right;\">\n",
       "      <th></th>\n",
       "      <th>datetime</th>\n",
       "      <th>city</th>\n",
       "      <th>state</th>\n",
       "      <th>shape</th>\n",
       "      <th>duration</th>\n",
       "      <th>post_date</th>\n",
       "      <th>report_text</th>\n",
       "    </tr>\n",
       "    <tr>\n",
       "      <th>report_id</th>\n",
       "      <th></th>\n",
       "      <th></th>\n",
       "      <th></th>\n",
       "      <th></th>\n",
       "      <th></th>\n",
       "      <th></th>\n",
       "      <th></th>\n",
       "    </tr>\n",
       "  </thead>\n",
       "  <tbody>\n",
       "    <tr>\n",
       "      <th>144/S144369</th>\n",
       "      <td>12/31/18 23:30</td>\n",
       "      <td>San Antonio</td>\n",
       "      <td>TX</td>\n",
       "      <td>Sphere</td>\n",
       "      <td>15 minutes</td>\n",
       "      <td>1/11/19</td>\n",
       "      <td>I saw fiery orange lights no sound flying at l...</td>\n",
       "    </tr>\n",
       "    <tr>\n",
       "      <th>144/S144243</th>\n",
       "      <td>12/31/18 21:41</td>\n",
       "      <td>Ormond Beach</td>\n",
       "      <td>FL</td>\n",
       "      <td>Fireball</td>\n",
       "      <td>20 seconds</td>\n",
       "      <td>1/4/19</td>\n",
       "      <td>Orange glowing object racing though the sky.,A...</td>\n",
       "    </tr>\n",
       "    <tr>\n",
       "      <th>144/S144260</th>\n",
       "      <td>12/31/18 21:45</td>\n",
       "      <td>Kiawah Island</td>\n",
       "      <td>SC</td>\n",
       "      <td>Sphere</td>\n",
       "      <td>10 seconds</td>\n",
       "      <td>1/4/19</td>\n",
       "      <td>On New Year’s Eve night on Kiawah Island, I ca...</td>\n",
       "    </tr>\n",
       "    <tr>\n",
       "      <th>144/S144245</th>\n",
       "      <td>12/31/18 21:47</td>\n",
       "      <td>Brandon</td>\n",
       "      <td>MS</td>\n",
       "      <td>Unknown</td>\n",
       "      <td>5 minutes</td>\n",
       "      <td>1/4/19</td>\n",
       "      <td>2 strange formations of continuous red-orange,...</td>\n",
       "    </tr>\n",
       "    <tr>\n",
       "      <th>144/S144558</th>\n",
       "      <td>12/31/18 22:00</td>\n",
       "      <td>Spring</td>\n",
       "      <td>TX</td>\n",
       "      <td>NaN</td>\n",
       "      <td>~15 minutes</td>\n",
       "      <td>1/24/19</td>\n",
       "      <td>Red/ Orange lights - spherical shape,Location:...</td>\n",
       "    </tr>\n",
       "  </tbody>\n",
       "</table>\n",
       "</div>"
      ],
      "text/plain": [
       "                   datetime           city state     shape     duration  \\\n",
       "report_id                                                                 \n",
       "144/S144369  12/31/18 23:30    San Antonio    TX    Sphere   15 minutes   \n",
       "144/S144243  12/31/18 21:41   Ormond Beach    FL  Fireball   20 seconds   \n",
       "144/S144260  12/31/18 21:45  Kiawah Island    SC    Sphere   10 seconds   \n",
       "144/S144245  12/31/18 21:47        Brandon    MS   Unknown    5 minutes   \n",
       "144/S144558  12/31/18 22:00         Spring    TX       NaN  ~15 minutes   \n",
       "\n",
       "            post_date                                        report_text  \n",
       "report_id                                                                 \n",
       "144/S144369   1/11/19  I saw fiery orange lights no sound flying at l...  \n",
       "144/S144243    1/4/19  Orange glowing object racing though the sky.,A...  \n",
       "144/S144260    1/4/19  On New Year’s Eve night on Kiawah Island, I ca...  \n",
       "144/S144245    1/4/19  2 strange formations of continuous red-orange,...  \n",
       "144/S144558   1/24/19  Red/ Orange lights - spherical shape,Location:...  "
      ]
     },
     "execution_count": 3,
     "metadata": {},
     "output_type": "execute_result"
    }
   ],
   "source": [
    "report_df = pd.read_csv('data/report_scrape/report_text.csv')\n",
    "report_df.set_index('report_id', inplace=True)\n",
    "# drop post_date column\n",
    "report_df.drop('post_date')\n",
    "report_df.head()"
   ]
  },
  {
   "cell_type": "code",
   "execution_count": 4,
   "metadata": {},
   "outputs": [
    {
     "data": {
      "text/plain": [
       "63850"
      ]
     },
     "execution_count": 4,
     "metadata": {},
     "output_type": "execute_result"
    }
   ],
   "source": [
    "len(report_df)"
   ]
  },
  {
   "cell_type": "code",
   "execution_count": 19,
   "metadata": {},
   "outputs": [],
   "source": [
    "ufo_df = report_df.copy()"
   ]
  },
  {
   "cell_type": "code",
   "execution_count": 38,
   "metadata": {},
   "outputs": [
    {
     "data": {
      "text/plain": [
       "48097"
      ]
     },
     "execution_count": 38,
     "metadata": {},
     "output_type": "execute_result"
    }
   ],
   "source": [
    "len(ufo_df)"
   ]
  },
  {
   "cell_type": "markdown",
   "metadata": {},
   "source": [
    "## location \n",
    "US locations only"
   ]
  },
  {
   "cell_type": "markdown",
   "metadata": {},
   "source": [
    "https://simplemaps.com/data/us-cities"
   ]
  },
  {
   "cell_type": "code",
   "execution_count": 21,
   "metadata": {},
   "outputs": [
    {
     "data": {
      "text/plain": [
       "100"
      ]
     },
     "execution_count": 21,
     "metadata": {},
     "output_type": "execute_result"
    }
   ],
   "source": [
    "# missing city locations\n",
    "ufo_df['city'].isna().sum()"
   ]
  },
  {
   "cell_type": "code",
   "execution_count": 22,
   "metadata": {},
   "outputs": [],
   "source": [
    "# drop records without city location\n",
    "ufo_df.dropna(subset=['city'], inplace=True)"
   ]
  },
  {
   "cell_type": "code",
   "execution_count": 23,
   "metadata": {},
   "outputs": [],
   "source": [
    "# add geolocation\n",
    "ufo_df['geolocation'] = ufo_df['city'] + ', ' + ufo_df['state']"
   ]
  },
  {
   "cell_type": "code",
   "execution_count": 24,
   "metadata": {},
   "outputs": [
    {
     "data": {
      "text/plain": [
       "4989"
      ]
     },
     "execution_count": 24,
     "metadata": {},
     "output_type": "execute_result"
    }
   ],
   "source": [
    "# total non-US locations\n",
    "(~ufo_df['state'].isin(states)).sum()"
   ]
  },
  {
   "cell_type": "code",
   "execution_count": 25,
   "metadata": {},
   "outputs": [],
   "source": [
    "# filter out non-US locaions\n",
    "ufo_df = ufo_df[ufo_df['state'].isin(states)]"
   ]
  },
  {
   "cell_type": "code",
   "execution_count": 26,
   "metadata": {},
   "outputs": [
    {
     "data": {
      "text/html": [
       "<div>\n",
       "<style scoped>\n",
       "    .dataframe tbody tr th:only-of-type {\n",
       "        vertical-align: middle;\n",
       "    }\n",
       "\n",
       "    .dataframe tbody tr th {\n",
       "        vertical-align: top;\n",
       "    }\n",
       "\n",
       "    .dataframe thead th {\n",
       "        text-align: right;\n",
       "    }\n",
       "</style>\n",
       "<table border=\"1\" class=\"dataframe\">\n",
       "  <thead>\n",
       "    <tr style=\"text-align: right;\">\n",
       "      <th></th>\n",
       "      <th>city</th>\n",
       "      <th>state_id</th>\n",
       "      <th>lat</th>\n",
       "      <th>lng</th>\n",
       "    </tr>\n",
       "  </thead>\n",
       "  <tbody>\n",
       "    <tr>\n",
       "      <th>0</th>\n",
       "      <td>South Creek</td>\n",
       "      <td>WA</td>\n",
       "      <td>46.9994</td>\n",
       "      <td>-122.3921</td>\n",
       "    </tr>\n",
       "    <tr>\n",
       "      <th>1</th>\n",
       "      <td>Roslyn</td>\n",
       "      <td>WA</td>\n",
       "      <td>47.2507</td>\n",
       "      <td>-121.0989</td>\n",
       "    </tr>\n",
       "    <tr>\n",
       "      <th>2</th>\n",
       "      <td>Sprague</td>\n",
       "      <td>WA</td>\n",
       "      <td>47.3048</td>\n",
       "      <td>-117.9713</td>\n",
       "    </tr>\n",
       "    <tr>\n",
       "      <th>3</th>\n",
       "      <td>Gig Harbor</td>\n",
       "      <td>WA</td>\n",
       "      <td>47.3352</td>\n",
       "      <td>-122.5968</td>\n",
       "    </tr>\n",
       "    <tr>\n",
       "      <th>4</th>\n",
       "      <td>Lake Cassidy</td>\n",
       "      <td>WA</td>\n",
       "      <td>48.0639</td>\n",
       "      <td>-122.0920</td>\n",
       "    </tr>\n",
       "  </tbody>\n",
       "</table>\n",
       "</div>"
      ],
      "text/plain": [
       "           city state_id      lat       lng\n",
       "0   South Creek       WA  46.9994 -122.3921\n",
       "1        Roslyn       WA  47.2507 -121.0989\n",
       "2       Sprague       WA  47.3048 -117.9713\n",
       "3    Gig Harbor       WA  47.3352 -122.5968\n",
       "4  Lake Cassidy       WA  48.0639 -122.0920"
      ]
     },
     "execution_count": 26,
     "metadata": {},
     "output_type": "execute_result"
    }
   ],
   "source": [
    "# read in city coordinates dataframe\n",
    "geo_cities = pd.read_csv('data/simplemaps_uscities_basicv1.6/uscities.csv', \n",
    "                         usecols=['city', 'state_id', 'lat', 'lng'])\n",
    "geo_cities.head()"
   ]
  },
  {
   "cell_type": "code",
   "execution_count": 33,
   "metadata": {},
   "outputs": [],
   "source": [
    "# list of cities\n",
    "geo_locs = geo_cities['city'] + ', ' + geo_cities['state_id']"
   ]
  },
  {
   "cell_type": "code",
   "execution_count": 37,
   "metadata": {},
   "outputs": [],
   "source": [
    "# filter cities\n",
    "ufo_df = ufo_df[ufo_df['geolocation'].isin(geo_locs)]"
   ]
  },
  {
   "cell_type": "code",
   "execution_count": 40,
   "metadata": {},
   "outputs": [
    {
     "data": {
      "text/html": [
       "<div>\n",
       "<style scoped>\n",
       "    .dataframe tbody tr th:only-of-type {\n",
       "        vertical-align: middle;\n",
       "    }\n",
       "\n",
       "    .dataframe tbody tr th {\n",
       "        vertical-align: top;\n",
       "    }\n",
       "\n",
       "    .dataframe thead th {\n",
       "        text-align: right;\n",
       "    }\n",
       "</style>\n",
       "<table border=\"1\" class=\"dataframe\">\n",
       "  <thead>\n",
       "    <tr style=\"text-align: right;\">\n",
       "      <th></th>\n",
       "      <th>datetime</th>\n",
       "      <th>city</th>\n",
       "      <th>state</th>\n",
       "      <th>shape</th>\n",
       "      <th>duration</th>\n",
       "      <th>post_date</th>\n",
       "      <th>report_text</th>\n",
       "      <th>geolocation</th>\n",
       "    </tr>\n",
       "    <tr>\n",
       "      <th>report_id</th>\n",
       "      <th></th>\n",
       "      <th></th>\n",
       "      <th></th>\n",
       "      <th></th>\n",
       "      <th></th>\n",
       "      <th></th>\n",
       "      <th></th>\n",
       "      <th></th>\n",
       "    </tr>\n",
       "  </thead>\n",
       "  <tbody>\n",
       "    <tr>\n",
       "      <th>144/S144369</th>\n",
       "      <td>12/31/18 23:30</td>\n",
       "      <td>San Antonio</td>\n",
       "      <td>TX</td>\n",
       "      <td>Sphere</td>\n",
       "      <td>15 minutes</td>\n",
       "      <td>1/11/19</td>\n",
       "      <td>I saw fiery orange lights no sound flying at l...</td>\n",
       "      <td>San Antonio, TX</td>\n",
       "    </tr>\n",
       "    <tr>\n",
       "      <th>144/S144243</th>\n",
       "      <td>12/31/18 21:41</td>\n",
       "      <td>Ormond Beach</td>\n",
       "      <td>FL</td>\n",
       "      <td>Fireball</td>\n",
       "      <td>20 seconds</td>\n",
       "      <td>1/4/19</td>\n",
       "      <td>Orange glowing object racing though the sky.,A...</td>\n",
       "      <td>Ormond Beach, FL</td>\n",
       "    </tr>\n",
       "    <tr>\n",
       "      <th>144/S144260</th>\n",
       "      <td>12/31/18 21:45</td>\n",
       "      <td>Kiawah Island</td>\n",
       "      <td>SC</td>\n",
       "      <td>Sphere</td>\n",
       "      <td>10 seconds</td>\n",
       "      <td>1/4/19</td>\n",
       "      <td>On New Year’s Eve night on Kiawah Island, I ca...</td>\n",
       "      <td>Kiawah Island, SC</td>\n",
       "    </tr>\n",
       "    <tr>\n",
       "      <th>144/S144245</th>\n",
       "      <td>12/31/18 21:47</td>\n",
       "      <td>Brandon</td>\n",
       "      <td>MS</td>\n",
       "      <td>Unknown</td>\n",
       "      <td>5 minutes</td>\n",
       "      <td>1/4/19</td>\n",
       "      <td>2 strange formations of continuous red-orange,...</td>\n",
       "      <td>Brandon, MS</td>\n",
       "    </tr>\n",
       "    <tr>\n",
       "      <th>144/S144558</th>\n",
       "      <td>12/31/18 22:00</td>\n",
       "      <td>Spring</td>\n",
       "      <td>TX</td>\n",
       "      <td>NaN</td>\n",
       "      <td>~15 minutes</td>\n",
       "      <td>1/24/19</td>\n",
       "      <td>Red/ Orange lights - spherical shape,Location:...</td>\n",
       "      <td>Spring, TX</td>\n",
       "    </tr>\n",
       "  </tbody>\n",
       "</table>\n",
       "</div>"
      ],
      "text/plain": [
       "                   datetime           city state     shape     duration  \\\n",
       "report_id                                                                 \n",
       "144/S144369  12/31/18 23:30    San Antonio    TX    Sphere   15 minutes   \n",
       "144/S144243  12/31/18 21:41   Ormond Beach    FL  Fireball   20 seconds   \n",
       "144/S144260  12/31/18 21:45  Kiawah Island    SC    Sphere   10 seconds   \n",
       "144/S144245  12/31/18 21:47        Brandon    MS   Unknown    5 minutes   \n",
       "144/S144558  12/31/18 22:00         Spring    TX       NaN  ~15 minutes   \n",
       "\n",
       "            post_date                                        report_text  \\\n",
       "report_id                                                                  \n",
       "144/S144369   1/11/19  I saw fiery orange lights no sound flying at l...   \n",
       "144/S144243    1/4/19  Orange glowing object racing though the sky.,A...   \n",
       "144/S144260    1/4/19  On New Year’s Eve night on Kiawah Island, I ca...   \n",
       "144/S144245    1/4/19  2 strange formations of continuous red-orange,...   \n",
       "144/S144558   1/24/19  Red/ Orange lights - spherical shape,Location:...   \n",
       "\n",
       "                   geolocation  \n",
       "report_id                       \n",
       "144/S144369    San Antonio, TX  \n",
       "144/S144243   Ormond Beach, FL  \n",
       "144/S144260  Kiawah Island, SC  \n",
       "144/S144245        Brandon, MS  \n",
       "144/S144558         Spring, TX  "
      ]
     },
     "execution_count": 40,
     "metadata": {},
     "output_type": "execute_result"
    }
   ],
   "source": [
    "ufo_df.head()"
   ]
  },
  {
   "cell_type": "code",
   "execution_count": 43,
   "metadata": {},
   "outputs": [
    {
     "data": {
      "text/html": [
       "<div>\n",
       "<style scoped>\n",
       "    .dataframe tbody tr th:only-of-type {\n",
       "        vertical-align: middle;\n",
       "    }\n",
       "\n",
       "    .dataframe tbody tr th {\n",
       "        vertical-align: top;\n",
       "    }\n",
       "\n",
       "    .dataframe thead th {\n",
       "        text-align: right;\n",
       "    }\n",
       "</style>\n",
       "<table border=\"1\" class=\"dataframe\">\n",
       "  <thead>\n",
       "    <tr style=\"text-align: right;\">\n",
       "      <th></th>\n",
       "      <th>datetime</th>\n",
       "      <th>city</th>\n",
       "      <th>state</th>\n",
       "      <th>shape</th>\n",
       "      <th>duration</th>\n",
       "      <th>post_date</th>\n",
       "      <th>report_text</th>\n",
       "      <th>geolocation</th>\n",
       "      <th>state_id</th>\n",
       "      <th>lat</th>\n",
       "      <th>lng</th>\n",
       "    </tr>\n",
       "  </thead>\n",
       "  <tbody>\n",
       "    <tr>\n",
       "      <th>0</th>\n",
       "      <td>12/31/18 23:30</td>\n",
       "      <td>San Antonio</td>\n",
       "      <td>TX</td>\n",
       "      <td>Sphere</td>\n",
       "      <td>15 minutes</td>\n",
       "      <td>1/11/19</td>\n",
       "      <td>I saw fiery orange lights no sound flying at l...</td>\n",
       "      <td>San Antonio, TX</td>\n",
       "      <td>TX</td>\n",
       "      <td>29.4658</td>\n",
       "      <td>-98.5254</td>\n",
       "    </tr>\n",
       "    <tr>\n",
       "      <th>1</th>\n",
       "      <td>2/14/18 20:00</td>\n",
       "      <td>San Antonio</td>\n",
       "      <td>TX</td>\n",
       "      <td>Oval</td>\n",
       "      <td>25 minutes</td>\n",
       "      <td>2/22/18</td>\n",
       "      <td>spacecraft seen by two people over power lines...</td>\n",
       "      <td>San Antonio, TX</td>\n",
       "      <td>TX</td>\n",
       "      <td>29.4658</td>\n",
       "      <td>-98.5254</td>\n",
       "    </tr>\n",
       "    <tr>\n",
       "      <th>2</th>\n",
       "      <td>3/10/18 23:15</td>\n",
       "      <td>San Antonio</td>\n",
       "      <td>TX</td>\n",
       "      <td>Sphere</td>\n",
       "      <td>45 seconds</td>\n",
       "      <td>3/23/18</td>\n",
       "      <td>Orange Sphere Travels From East to West,Bright...</td>\n",
       "      <td>San Antonio, TX</td>\n",
       "      <td>TX</td>\n",
       "      <td>29.4658</td>\n",
       "      <td>-98.5254</td>\n",
       "    </tr>\n",
       "    <tr>\n",
       "      <th>3</th>\n",
       "      <td>5/5/18 11:30</td>\n",
       "      <td>San Antonio</td>\n",
       "      <td>TX</td>\n",
       "      <td>Formation</td>\n",
       "      <td>2-5 minutes</td>\n",
       "      <td>5/10/18</td>\n",
       "      <td>20-25 metallic triangular objects spotted on C...</td>\n",
       "      <td>San Antonio, TX</td>\n",
       "      <td>TX</td>\n",
       "      <td>29.4658</td>\n",
       "      <td>-98.5254</td>\n",
       "    </tr>\n",
       "    <tr>\n",
       "      <th>4</th>\n",
       "      <td>11/2/18 10:00</td>\n",
       "      <td>San Antonio</td>\n",
       "      <td>TX</td>\n",
       "      <td>Rectangle</td>\n",
       "      <td>5 seconds</td>\n",
       "      <td>11/9/18</td>\n",
       "      <td>Strange Light Over San Antonio (Fresno St/Edis...</td>\n",
       "      <td>San Antonio, TX</td>\n",
       "      <td>TX</td>\n",
       "      <td>29.4658</td>\n",
       "      <td>-98.5254</td>\n",
       "    </tr>\n",
       "  </tbody>\n",
       "</table>\n",
       "</div>"
      ],
      "text/plain": [
       "         datetime         city state      shape     duration post_date  \\\n",
       "0  12/31/18 23:30  San Antonio    TX     Sphere   15 minutes   1/11/19   \n",
       "1   2/14/18 20:00  San Antonio    TX       Oval   25 minutes   2/22/18   \n",
       "2   3/10/18 23:15  San Antonio    TX     Sphere   45 seconds   3/23/18   \n",
       "3    5/5/18 11:30  San Antonio    TX  Formation  2-5 minutes   5/10/18   \n",
       "4   11/2/18 10:00  San Antonio    TX  Rectangle    5 seconds   11/9/18   \n",
       "\n",
       "                                         report_text      geolocation  \\\n",
       "0  I saw fiery orange lights no sound flying at l...  San Antonio, TX   \n",
       "1  spacecraft seen by two people over power lines...  San Antonio, TX   \n",
       "2  Orange Sphere Travels From East to West,Bright...  San Antonio, TX   \n",
       "3  20-25 metallic triangular objects spotted on C...  San Antonio, TX   \n",
       "4  Strange Light Over San Antonio (Fresno St/Edis...  San Antonio, TX   \n",
       "\n",
       "  state_id      lat      lng  \n",
       "0       TX  29.4658 -98.5254  \n",
       "1       TX  29.4658 -98.5254  \n",
       "2       TX  29.4658 -98.5254  \n",
       "3       TX  29.4658 -98.5254  \n",
       "4       TX  29.4658 -98.5254  "
      ]
     },
     "execution_count": 43,
     "metadata": {},
     "output_type": "execute_result"
    }
   ],
   "source": [
    "# combine data with location coordinates\n",
    "mrg_df = pd.merge(ufo_df, geo_cities, left_on=['city', 'state'], right_on=['city', 'state_id'])\n",
    "mrg_df.head()"
   ]
  },
  {
   "cell_type": "code",
   "execution_count": 44,
   "metadata": {
    "scrolled": true
   },
   "outputs": [
    {
     "data": {
      "text/html": [
       "<div>\n",
       "<style scoped>\n",
       "    .dataframe tbody tr th:only-of-type {\n",
       "        vertical-align: middle;\n",
       "    }\n",
       "\n",
       "    .dataframe tbody tr th {\n",
       "        vertical-align: top;\n",
       "    }\n",
       "\n",
       "    .dataframe thead th {\n",
       "        text-align: right;\n",
       "    }\n",
       "</style>\n",
       "<table border=\"1\" class=\"dataframe\">\n",
       "  <thead>\n",
       "    <tr style=\"text-align: right;\">\n",
       "      <th></th>\n",
       "      <th></th>\n",
       "      <th>datetime</th>\n",
       "      <th>city</th>\n",
       "      <th>state</th>\n",
       "      <th>shape</th>\n",
       "      <th>duration</th>\n",
       "      <th>post_date</th>\n",
       "      <th>report_text</th>\n",
       "      <th>geolocation</th>\n",
       "      <th>state_id</th>\n",
       "    </tr>\n",
       "    <tr>\n",
       "      <th>lat</th>\n",
       "      <th>lng</th>\n",
       "      <th></th>\n",
       "      <th></th>\n",
       "      <th></th>\n",
       "      <th></th>\n",
       "      <th></th>\n",
       "      <th></th>\n",
       "      <th></th>\n",
       "      <th></th>\n",
       "      <th></th>\n",
       "    </tr>\n",
       "  </thead>\n",
       "  <tbody>\n",
       "    <tr>\n",
       "      <th>19.0698</th>\n",
       "      <th>-155.5751</th>\n",
       "      <td>1</td>\n",
       "      <td>1</td>\n",
       "      <td>1</td>\n",
       "      <td>1</td>\n",
       "      <td>1</td>\n",
       "      <td>1</td>\n",
       "      <td>1</td>\n",
       "      <td>1</td>\n",
       "      <td>1</td>\n",
       "    </tr>\n",
       "    <tr>\n",
       "      <th>19.5286</th>\n",
       "      <th>-155.9033</th>\n",
       "      <td>1</td>\n",
       "      <td>1</td>\n",
       "      <td>1</td>\n",
       "      <td>1</td>\n",
       "      <td>1</td>\n",
       "      <td>1</td>\n",
       "      <td>1</td>\n",
       "      <td>1</td>\n",
       "      <td>1</td>\n",
       "    </tr>\n",
       "    <tr>\n",
       "      <th>19.5358</th>\n",
       "      <th>-155.1596</th>\n",
       "      <td>1</td>\n",
       "      <td>1</td>\n",
       "      <td>1</td>\n",
       "      <td>1</td>\n",
       "      <td>1</td>\n",
       "      <td>1</td>\n",
       "      <td>1</td>\n",
       "      <td>1</td>\n",
       "      <td>1</td>\n",
       "    </tr>\n",
       "    <tr>\n",
       "      <th>19.5833</th>\n",
       "      <th>-155.0721</th>\n",
       "      <td>1</td>\n",
       "      <td>1</td>\n",
       "      <td>1</td>\n",
       "      <td>1</td>\n",
       "      <td>1</td>\n",
       "      <td>1</td>\n",
       "      <td>1</td>\n",
       "      <td>1</td>\n",
       "      <td>1</td>\n",
       "    </tr>\n",
       "    <tr>\n",
       "      <th>19.6156</th>\n",
       "      <th>-155.0372</th>\n",
       "      <td>5</td>\n",
       "      <td>5</td>\n",
       "      <td>5</td>\n",
       "      <td>4</td>\n",
       "      <td>5</td>\n",
       "      <td>5</td>\n",
       "      <td>5</td>\n",
       "      <td>5</td>\n",
       "      <td>5</td>\n",
       "    </tr>\n",
       "  </tbody>\n",
       "</table>\n",
       "</div>"
      ],
      "text/plain": [
       "                   datetime  city  state  shape  duration  post_date  \\\n",
       "lat     lng                                                            \n",
       "19.0698 -155.5751         1     1      1      1         1          1   \n",
       "19.5286 -155.9033         1     1      1      1         1          1   \n",
       "19.5358 -155.1596         1     1      1      1         1          1   \n",
       "19.5833 -155.0721         1     1      1      1         1          1   \n",
       "19.6156 -155.0372         5     5      5      4         5          5   \n",
       "\n",
       "                   report_text  geolocation  state_id  \n",
       "lat     lng                                            \n",
       "19.0698 -155.5751            1            1         1  \n",
       "19.5286 -155.9033            1            1         1  \n",
       "19.5358 -155.1596            1            1         1  \n",
       "19.5833 -155.0721            1            1         1  \n",
       "19.6156 -155.0372            5            5         5  "
      ]
     },
     "execution_count": 44,
     "metadata": {},
     "output_type": "execute_result"
    }
   ],
   "source": [
    "# group by cities\n",
    "city_df = mrg_df.groupby(by=['lat', 'lng']).count()\n",
    "city_df.head()"
   ]
  },
  {
   "cell_type": "code",
   "execution_count": 58,
   "metadata": {},
   "outputs": [],
   "source": [
    "import folium\n",
    "from folium.plugins import HeatMap"
   ]
  },
  {
   "cell_type": "code",
   "execution_count": 56,
   "metadata": {},
   "outputs": [],
   "source": [
    "lats = city_df.index.get_level_values('lat')\n",
    "longs = city_df.index.get_level_values('lng')\n",
    "num_site = city_df['geolocation']\n",
    "max_num = city_df['geolocation'].max()"
   ]
  },
  {
   "cell_type": "code",
   "execution_count": 46,
   "metadata": {},
   "outputs": [],
   "source": [
    "hmap = folium.Map()"
   ]
  },
  {
   "cell_type": "code",
   "execution_count": 59,
   "metadata": {},
   "outputs": [],
   "source": [
    "hm_wide = HeatMap( list(zip(lats, longs, num_site)),\n",
    "                   min_opacity=0.2,\n",
    "                   max_val=max_num,\n",
    "                   radius=17, blur=15, \n",
    "                   max_zoom=1, \n",
    "                 )"
   ]
  },
  {
   "cell_type": "code",
   "execution_count": 60,
   "metadata": {},
   "outputs": [
    {
     "data": {
      "text/html": [
       "<div style=\"width:100%;\"><div style=\"position:relative;width:100%;height:0;padding-bottom:60%;\"><iframe src=\"data:text/html;charset=utf-8;base64,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\" style=\"position:absolute;width:100%;height:100%;left:0;top:0;border:none !important;\" allowfullscreen webkitallowfullscreen mozallowfullscreen></iframe></div></div>"
      ],
      "text/plain": [
       "<folium.folium.Map at 0x7fb401ec9dd8>"
      ]
     },
     "execution_count": 60,
     "metadata": {},
     "output_type": "execute_result"
    }
   ],
   "source": [
    "hmap.add_child(hm_wide)"
   ]
  },
  {
   "cell_type": "code",
   "execution_count": null,
   "metadata": {},
   "outputs": [],
   "source": []
  },
  {
   "cell_type": "code",
   "execution_count": null,
   "metadata": {},
   "outputs": [],
   "source": []
  },
  {
   "cell_type": "code",
   "execution_count": null,
   "metadata": {},
   "outputs": [],
   "source": []
  },
  {
   "cell_type": "code",
   "execution_count": null,
   "metadata": {},
   "outputs": [],
   "source": []
  },
  {
   "cell_type": "code",
   "execution_count": null,
   "metadata": {},
   "outputs": [],
   "source": []
  },
  {
   "cell_type": "code",
   "execution_count": null,
   "metadata": {},
   "outputs": [],
   "source": []
  },
  {
   "cell_type": "code",
   "execution_count": null,
   "metadata": {},
   "outputs": [],
   "source": []
  },
  {
   "cell_type": "markdown",
   "metadata": {},
   "source": [
    "## report text"
   ]
  },
  {
   "cell_type": "code",
   "execution_count": 7,
   "metadata": {},
   "outputs": [
    {
     "data": {
      "text/plain": [
       "34"
      ]
     },
     "execution_count": 7,
     "metadata": {},
     "output_type": "execute_result"
    }
   ],
   "source": [
    "# reports missing text\n",
    "ufo_df['report_text'].isna().sum()"
   ]
  },
  {
   "cell_type": "code",
   "execution_count": 8,
   "metadata": {},
   "outputs": [],
   "source": [
    "# drop reports missing text\n",
    "ufo_df.dropna(subset=['report_text'], inplace=True)"
   ]
  },
  {
   "cell_type": "code",
   "execution_count": 9,
   "metadata": {},
   "outputs": [],
   "source": [
    "# remove ((NUFORC Note: ... PD))\n"
   ]
  },
  {
   "cell_type": "markdown",
   "metadata": {},
   "source": [
    "## shape\n",
    "fill NaNs with \"Unknown\""
   ]
  },
  {
   "cell_type": "code",
   "execution_count": 16,
   "metadata": {},
   "outputs": [
    {
     "data": {
      "text/plain": [
       "1140"
      ]
     },
     "execution_count": 16,
     "metadata": {},
     "output_type": "execute_result"
    }
   ],
   "source": [
    "# missing shape\n",
    "ufo_df['shape'].isna().sum()"
   ]
  },
  {
   "cell_type": "code",
   "execution_count": 17,
   "metadata": {},
   "outputs": [
    {
     "data": {
      "text/plain": [
       "array(['Sphere', 'Fireball', 'Unknown', nan, 'Light', 'Egg', 'Flash',\n",
       "       'Cigar', 'Circle', 'Diamond', 'Triangle', 'Oval', 'Cylinder',\n",
       "       'Changing', 'Formation', 'Other', 'Disk', 'Cross', 'Cone',\n",
       "       'Rectangle', 'Chevron', 'Teardrop'], dtype=object)"
      ]
     },
     "execution_count": 17,
     "metadata": {},
     "output_type": "execute_result"
    }
   ],
   "source": [
    "# shape types\n",
    "ufo_df['shape'].unique()"
   ]
  },
  {
   "cell_type": "code",
   "execution_count": 18,
   "metadata": {},
   "outputs": [],
   "source": [
    "# replace nans with uknown\n",
    "ufo_df['shape'] = ufo_df['shape'].replace(float('NaN'), 'Unknown')"
   ]
  },
  {
   "cell_type": "markdown",
   "metadata": {},
   "source": [
    "## datetime format\n",
    "reformat datetime data to single standard"
   ]
  },
  {
   "cell_type": "code",
   "execution_count": 19,
   "metadata": {},
   "outputs": [
    {
     "data": {
      "text/plain": [
       "0"
      ]
     },
     "execution_count": 19,
     "metadata": {},
     "output_type": "execute_result"
    }
   ],
   "source": [
    "ufo_df['datetime'].isna().sum()"
   ]
  },
  {
   "cell_type": "code",
   "execution_count": 20,
   "metadata": {},
   "outputs": [
    {
     "data": {
      "text/plain": [
       "array(['XX/XX/XX XX:XX', 'XX/X/XX XX:XX', 'X/XX/XX XX:XX', 'X/X/XX XX:XX',\n",
       "       'X/X/XX', 'X/XX/XX', 'XX/XX/XX', 'XX/X/XX'], dtype=object)"
      ]
     },
     "execution_count": 20,
     "metadata": {},
     "output_type": "execute_result"
    }
   ],
   "source": [
    "# datetime formats\n",
    "ufo_df['datetime'].apply(lambda x: re.sub('\\d', 'X', x)).unique()"
   ]
  },
  {
   "cell_type": "code",
   "execution_count": 21,
   "metadata": {},
   "outputs": [],
   "source": [
    "# datetime split functions\n",
    "def return_time(date_time):\n",
    "    try:\n",
    "        return(date_time.split(' ')[1])\n",
    "    except:\n",
    "        return(None)\n",
    "    \n",
    "def return_date(date_time):\n",
    "    try:\n",
    "        return(date_time.split(' ')[0])\n",
    "    except:\n",
    "        return(None)"
   ]
  },
  {
   "cell_type": "code",
   "execution_count": 22,
   "metadata": {},
   "outputs": [],
   "source": [
    "ufo_df['date'] = ufo_df['datetime'].apply(lambda x: return_date(x))\n",
    "ufo_df['time'] = ufo_df['datetime'].apply(lambda x: return_time(x))"
   ]
  },
  {
   "cell_type": "code",
   "execution_count": 23,
   "metadata": {},
   "outputs": [
    {
     "data": {
      "text/html": [
       "<div>\n",
       "<style scoped>\n",
       "    .dataframe tbody tr th:only-of-type {\n",
       "        vertical-align: middle;\n",
       "    }\n",
       "\n",
       "    .dataframe tbody tr th {\n",
       "        vertical-align: top;\n",
       "    }\n",
       "\n",
       "    .dataframe thead th {\n",
       "        text-align: right;\n",
       "    }\n",
       "</style>\n",
       "<table border=\"1\" class=\"dataframe\">\n",
       "  <thead>\n",
       "    <tr style=\"text-align: right;\">\n",
       "      <th></th>\n",
       "      <th>datetime</th>\n",
       "      <th>city</th>\n",
       "      <th>state</th>\n",
       "      <th>shape</th>\n",
       "      <th>duration</th>\n",
       "      <th>post_date</th>\n",
       "      <th>report_text</th>\n",
       "      <th>geolocation</th>\n",
       "      <th>date</th>\n",
       "      <th>time</th>\n",
       "    </tr>\n",
       "    <tr>\n",
       "      <th>report_id</th>\n",
       "      <th></th>\n",
       "      <th></th>\n",
       "      <th></th>\n",
       "      <th></th>\n",
       "      <th></th>\n",
       "      <th></th>\n",
       "      <th></th>\n",
       "      <th></th>\n",
       "      <th></th>\n",
       "      <th></th>\n",
       "    </tr>\n",
       "  </thead>\n",
       "  <tbody>\n",
       "    <tr>\n",
       "      <th>144/S144369</th>\n",
       "      <td>12/31/18 23:30</td>\n",
       "      <td>San Antonio</td>\n",
       "      <td>TX</td>\n",
       "      <td>Sphere</td>\n",
       "      <td>15 minutes</td>\n",
       "      <td>1/11/19</td>\n",
       "      <td>I saw fiery orange lights no sound flying at l...</td>\n",
       "      <td>San Antonio, TX</td>\n",
       "      <td>12/31/18</td>\n",
       "      <td>23:30</td>\n",
       "    </tr>\n",
       "    <tr>\n",
       "      <th>144/S144243</th>\n",
       "      <td>12/31/18 21:41</td>\n",
       "      <td>Ormond Beach</td>\n",
       "      <td>FL</td>\n",
       "      <td>Fireball</td>\n",
       "      <td>20 seconds</td>\n",
       "      <td>1/4/19</td>\n",
       "      <td>Orange glowing object racing though the sky.,A...</td>\n",
       "      <td>Ormond Beach, FL</td>\n",
       "      <td>12/31/18</td>\n",
       "      <td>21:41</td>\n",
       "    </tr>\n",
       "    <tr>\n",
       "      <th>144/S144260</th>\n",
       "      <td>12/31/18 21:45</td>\n",
       "      <td>Kiawah Island</td>\n",
       "      <td>SC</td>\n",
       "      <td>Sphere</td>\n",
       "      <td>10 seconds</td>\n",
       "      <td>1/4/19</td>\n",
       "      <td>On New Year’s Eve night on Kiawah Island, I ca...</td>\n",
       "      <td>Kiawah Island, SC</td>\n",
       "      <td>12/31/18</td>\n",
       "      <td>21:45</td>\n",
       "    </tr>\n",
       "    <tr>\n",
       "      <th>144/S144245</th>\n",
       "      <td>12/31/18 21:47</td>\n",
       "      <td>Brandon</td>\n",
       "      <td>MS</td>\n",
       "      <td>Unknown</td>\n",
       "      <td>5 minutes</td>\n",
       "      <td>1/4/19</td>\n",
       "      <td>2 strange formations of continuous red-orange,...</td>\n",
       "      <td>Brandon, MS</td>\n",
       "      <td>12/31/18</td>\n",
       "      <td>21:47</td>\n",
       "    </tr>\n",
       "    <tr>\n",
       "      <th>144/S144558</th>\n",
       "      <td>12/31/18 22:00</td>\n",
       "      <td>Spring</td>\n",
       "      <td>TX</td>\n",
       "      <td>Unknown</td>\n",
       "      <td>~15 minutes</td>\n",
       "      <td>1/24/19</td>\n",
       "      <td>Red/ Orange lights - spherical shape,Location:...</td>\n",
       "      <td>Spring, TX</td>\n",
       "      <td>12/31/18</td>\n",
       "      <td>22:00</td>\n",
       "    </tr>\n",
       "  </tbody>\n",
       "</table>\n",
       "</div>"
      ],
      "text/plain": [
       "                   datetime           city state     shape     duration  \\\n",
       "report_id                                                                 \n",
       "144/S144369  12/31/18 23:30    San Antonio    TX    Sphere   15 minutes   \n",
       "144/S144243  12/31/18 21:41   Ormond Beach    FL  Fireball   20 seconds   \n",
       "144/S144260  12/31/18 21:45  Kiawah Island    SC    Sphere   10 seconds   \n",
       "144/S144245  12/31/18 21:47        Brandon    MS   Unknown    5 minutes   \n",
       "144/S144558  12/31/18 22:00         Spring    TX   Unknown  ~15 minutes   \n",
       "\n",
       "            post_date                                        report_text  \\\n",
       "report_id                                                                  \n",
       "144/S144369   1/11/19  I saw fiery orange lights no sound flying at l...   \n",
       "144/S144243    1/4/19  Orange glowing object racing though the sky.,A...   \n",
       "144/S144260    1/4/19  On New Year’s Eve night on Kiawah Island, I ca...   \n",
       "144/S144245    1/4/19  2 strange formations of continuous red-orange,...   \n",
       "144/S144558   1/24/19  Red/ Orange lights - spherical shape,Location:...   \n",
       "\n",
       "                   geolocation      date   time  \n",
       "report_id                                        \n",
       "144/S144369    San Antonio, TX  12/31/18  23:30  \n",
       "144/S144243   Ormond Beach, FL  12/31/18  21:41  \n",
       "144/S144260  Kiawah Island, SC  12/31/18  21:45  \n",
       "144/S144245        Brandon, MS  12/31/18  21:47  \n",
       "144/S144558         Spring, TX  12/31/18  22:00  "
      ]
     },
     "execution_count": 23,
     "metadata": {},
     "output_type": "execute_result"
    }
   ],
   "source": [
    "ufo_df.head()"
   ]
  },
  {
   "cell_type": "code",
   "execution_count": null,
   "metadata": {},
   "outputs": [],
   "source": []
  },
  {
   "cell_type": "markdown",
   "metadata": {},
   "source": [
    "## duration format\n",
    "convert all duration to seconds"
   ]
  },
  {
   "cell_type": "code",
   "execution_count": 24,
   "metadata": {},
   "outputs": [
    {
     "data": {
      "text/plain": [
       "1546"
      ]
     },
     "execution_count": 24,
     "metadata": {},
     "output_type": "execute_result"
    }
   ],
   "source": [
    "# missing duration\n",
    "ufo_df['duration'].isna().sum()"
   ]
  },
  {
   "cell_type": "code",
   "execution_count": 25,
   "metadata": {},
   "outputs": [],
   "source": [
    "durs = ufo_df['duration'].dropna()"
   ]
  },
  {
   "cell_type": "code",
   "execution_count": 26,
   "metadata": {},
   "outputs": [
    {
     "data": {
      "text/plain": [
       "2594"
      ]
     },
     "execution_count": 26,
     "metadata": {},
     "output_type": "execute_result"
    }
   ],
   "source": [
    "# duration formats\n",
    "durs.apply(lambda x: re.sub('\\d', 'X', x)).nunique()"
   ]
  },
  {
   "cell_type": "code",
   "execution_count": null,
   "metadata": {},
   "outputs": [],
   "source": [
    "# fill nans with average duration"
   ]
  },
  {
   "cell_type": "code",
   "execution_count": null,
   "metadata": {},
   "outputs": [],
   "source": []
  },
  {
   "cell_type": "code",
   "execution_count": null,
   "metadata": {},
   "outputs": [],
   "source": []
  },
  {
   "cell_type": "code",
   "execution_count": null,
   "metadata": {},
   "outputs": [],
   "source": []
  },
  {
   "cell_type": "code",
   "execution_count": null,
   "metadata": {},
   "outputs": [],
   "source": []
  },
  {
   "cell_type": "code",
   "execution_count": null,
   "metadata": {},
   "outputs": [],
   "source": []
  },
  {
   "cell_type": "markdown",
   "metadata": {},
   "source": [
    "## drop columns"
   ]
  },
  {
   "cell_type": "code",
   "execution_count": null,
   "metadata": {},
   "outputs": [],
   "source": [
    "ufo_df.drop(columns=['datetime', 'city', 'state', 'post_date'], inplace=True)"
   ]
  },
  {
   "cell_type": "code",
   "execution_count": null,
   "metadata": {},
   "outputs": [],
   "source": []
  },
  {
   "cell_type": "code",
   "execution_count": null,
   "metadata": {},
   "outputs": [],
   "source": []
  },
  {
   "cell_type": "code",
   "execution_count": null,
   "metadata": {},
   "outputs": [],
   "source": []
  },
  {
   "cell_type": "markdown",
   "metadata": {},
   "source": [
    "# Scrape List\n",
    "Select report month records to be scraped"
   ]
  },
  {
   "cell_type": "code",
   "execution_count": 2,
   "metadata": {},
   "outputs": [
    {
     "data": {
      "text/html": [
       "<div>\n",
       "<style scoped>\n",
       "    .dataframe tbody tr th:only-of-type {\n",
       "        vertical-align: middle;\n",
       "    }\n",
       "\n",
       "    .dataframe tbody tr th {\n",
       "        vertical-align: top;\n",
       "    }\n",
       "\n",
       "    .dataframe thead th {\n",
       "        text-align: right;\n",
       "    }\n",
       "</style>\n",
       "<table border=\"1\" class=\"dataframe\">\n",
       "  <thead>\n",
       "    <tr style=\"text-align: right;\">\n",
       "      <th></th>\n",
       "      <th>Month</th>\n",
       "      <th>Count</th>\n",
       "      <th>Link</th>\n",
       "    </tr>\n",
       "  </thead>\n",
       "  <tbody>\n",
       "    <tr>\n",
       "      <th>0</th>\n",
       "      <td>09/2019</td>\n",
       "      <td>257</td>\n",
       "      <td>http://www.nuforc.org/webreports/ndxe201909.html</td>\n",
       "    </tr>\n",
       "    <tr>\n",
       "      <th>1</th>\n",
       "      <td>08/2019</td>\n",
       "      <td>442</td>\n",
       "      <td>http://www.nuforc.org/webreports/ndxe201908.html</td>\n",
       "    </tr>\n",
       "    <tr>\n",
       "      <th>2</th>\n",
       "      <td>07/2019</td>\n",
       "      <td>582</td>\n",
       "      <td>http://www.nuforc.org/webreports/ndxe201907.html</td>\n",
       "    </tr>\n",
       "    <tr>\n",
       "      <th>3</th>\n",
       "      <td>06/2019</td>\n",
       "      <td>463</td>\n",
       "      <td>http://www.nuforc.org/webreports/ndxe201906.html</td>\n",
       "    </tr>\n",
       "    <tr>\n",
       "      <th>4</th>\n",
       "      <td>05/2019</td>\n",
       "      <td>526</td>\n",
       "      <td>http://www.nuforc.org/webreports/ndxe201905.html</td>\n",
       "    </tr>\n",
       "  </tbody>\n",
       "</table>\n",
       "</div>"
      ],
      "text/plain": [
       "     Month  Count                                              Link\n",
       "0  09/2019    257  http://www.nuforc.org/webreports/ndxe201909.html\n",
       "1  08/2019    442  http://www.nuforc.org/webreports/ndxe201908.html\n",
       "2  07/2019    582  http://www.nuforc.org/webreports/ndxe201907.html\n",
       "3  06/2019    463  http://www.nuforc.org/webreports/ndxe201906.html\n",
       "4  05/2019    526  http://www.nuforc.org/webreports/ndxe201905.html"
      ]
     },
     "execution_count": 2,
     "metadata": {},
     "output_type": "execute_result"
    }
   ],
   "source": [
    "month_df = pd.read_csv('data/report_counts.csv', header=0, index_col=0)\n",
    "month_df.rename(columns={'Reports': 'Month'}, inplace=True)\n",
    "month_df.head()"
   ]
  },
  {
   "cell_type": "code",
   "execution_count": 3,
   "metadata": {},
   "outputs": [],
   "source": [
    "# remove unspecified reports\n",
    "month_df.drop(index=[944], inplace=True)"
   ]
  },
  {
   "cell_type": "code",
   "execution_count": 4,
   "metadata": {},
   "outputs": [],
   "source": [
    "# list records after 1945\n",
    "check_45 = month_df['Month'].apply(lambda x: int(x.split('/')[1]) > 1945)"
   ]
  },
  {
   "cell_type": "code",
   "execution_count": 5,
   "metadata": {},
   "outputs": [
    {
     "data": {
      "text/html": [
       "<div>\n",
       "<style scoped>\n",
       "    .dataframe tbody tr th:only-of-type {\n",
       "        vertical-align: middle;\n",
       "    }\n",
       "\n",
       "    .dataframe tbody tr th {\n",
       "        vertical-align: top;\n",
       "    }\n",
       "\n",
       "    .dataframe thead th {\n",
       "        text-align: right;\n",
       "    }\n",
       "</style>\n",
       "<table border=\"1\" class=\"dataframe\">\n",
       "  <thead>\n",
       "    <tr style=\"text-align: right;\">\n",
       "      <th></th>\n",
       "      <th>Month</th>\n",
       "      <th>Count</th>\n",
       "      <th>Link</th>\n",
       "    </tr>\n",
       "  </thead>\n",
       "  <tbody>\n",
       "    <tr>\n",
       "      <th>847</th>\n",
       "      <td>06/1946</td>\n",
       "      <td>4</td>\n",
       "      <td>http://www.nuforc.org/webreports/ndxe194606.html</td>\n",
       "    </tr>\n",
       "    <tr>\n",
       "      <th>848</th>\n",
       "      <td>05/1946</td>\n",
       "      <td>1</td>\n",
       "      <td>http://www.nuforc.org/webreports/ndxe194605.html</td>\n",
       "    </tr>\n",
       "    <tr>\n",
       "      <th>849</th>\n",
       "      <td>03/1946</td>\n",
       "      <td>1</td>\n",
       "      <td>http://www.nuforc.org/webreports/ndxe194603.html</td>\n",
       "    </tr>\n",
       "    <tr>\n",
       "      <th>850</th>\n",
       "      <td>02/1946</td>\n",
       "      <td>1</td>\n",
       "      <td>http://www.nuforc.org/webreports/ndxe194602.html</td>\n",
       "    </tr>\n",
       "    <tr>\n",
       "      <th>851</th>\n",
       "      <td>01/1946</td>\n",
       "      <td>1</td>\n",
       "      <td>http://www.nuforc.org/webreports/ndxe194601.html</td>\n",
       "    </tr>\n",
       "  </tbody>\n",
       "</table>\n",
       "</div>"
      ],
      "text/plain": [
       "       Month  Count                                              Link\n",
       "847  06/1946      4  http://www.nuforc.org/webreports/ndxe194606.html\n",
       "848  05/1946      1  http://www.nuforc.org/webreports/ndxe194605.html\n",
       "849  03/1946      1  http://www.nuforc.org/webreports/ndxe194603.html\n",
       "850  02/1946      1  http://www.nuforc.org/webreports/ndxe194602.html\n",
       "851  01/1946      1  http://www.nuforc.org/webreports/ndxe194601.html"
      ]
     },
     "execution_count": 5,
     "metadata": {},
     "output_type": "execute_result"
    }
   ],
   "source": [
    "# filter df\n",
    "month_df = month_df[check_45]\n",
    "month_df.tail()"
   ]
  },
  {
   "cell_type": "code",
   "execution_count": 6,
   "metadata": {},
   "outputs": [],
   "source": [
    "# save to csv file\n",
    "# month_df.to_csv('data/report_months.csv')"
   ]
  },
  {
   "cell_type": "code",
   "execution_count": 7,
   "metadata": {},
   "outputs": [
    {
     "data": {
      "text/html": [
       "<div>\n",
       "<style scoped>\n",
       "    .dataframe tbody tr th:only-of-type {\n",
       "        vertical-align: middle;\n",
       "    }\n",
       "\n",
       "    .dataframe tbody tr th {\n",
       "        vertical-align: top;\n",
       "    }\n",
       "\n",
       "    .dataframe thead th {\n",
       "        text-align: right;\n",
       "    }\n",
       "</style>\n",
       "<table border=\"1\" class=\"dataframe\">\n",
       "  <thead>\n",
       "    <tr style=\"text-align: right;\">\n",
       "      <th></th>\n",
       "      <th>Month</th>\n",
       "      <th>Count</th>\n",
       "      <th>Link</th>\n",
       "    </tr>\n",
       "  </thead>\n",
       "  <tbody>\n",
       "    <tr>\n",
       "      <th>0</th>\n",
       "      <td>09/2019</td>\n",
       "      <td>257</td>\n",
       "      <td>http://www.nuforc.org/webreports/ndxe201909.html</td>\n",
       "    </tr>\n",
       "    <tr>\n",
       "      <th>1</th>\n",
       "      <td>08/2019</td>\n",
       "      <td>442</td>\n",
       "      <td>http://www.nuforc.org/webreports/ndxe201908.html</td>\n",
       "    </tr>\n",
       "    <tr>\n",
       "      <th>2</th>\n",
       "      <td>07/2019</td>\n",
       "      <td>582</td>\n",
       "      <td>http://www.nuforc.org/webreports/ndxe201907.html</td>\n",
       "    </tr>\n",
       "    <tr>\n",
       "      <th>3</th>\n",
       "      <td>06/2019</td>\n",
       "      <td>463</td>\n",
       "      <td>http://www.nuforc.org/webreports/ndxe201906.html</td>\n",
       "    </tr>\n",
       "    <tr>\n",
       "      <th>4</th>\n",
       "      <td>05/2019</td>\n",
       "      <td>526</td>\n",
       "      <td>http://www.nuforc.org/webreports/ndxe201905.html</td>\n",
       "    </tr>\n",
       "  </tbody>\n",
       "</table>\n",
       "</div>"
      ],
      "text/plain": [
       "     Month  Count                                              Link\n",
       "0  09/2019    257  http://www.nuforc.org/webreports/ndxe201909.html\n",
       "1  08/2019    442  http://www.nuforc.org/webreports/ndxe201908.html\n",
       "2  07/2019    582  http://www.nuforc.org/webreports/ndxe201907.html\n",
       "3  06/2019    463  http://www.nuforc.org/webreports/ndxe201906.html\n",
       "4  05/2019    526  http://www.nuforc.org/webreports/ndxe201905.html"
      ]
     },
     "execution_count": 7,
     "metadata": {},
     "output_type": "execute_result"
    }
   ],
   "source": [
    "# read back csv file\n",
    "# pd.read_csv('data/report_months.csv', index_col=0).head()"
   ]
  },
  {
   "cell_type": "markdown",
   "metadata": {},
   "source": [
    "# Report Overview Data"
   ]
  },
  {
   "cell_type": "code",
   "execution_count": 51,
   "metadata": {},
   "outputs": [
    {
     "data": {
      "text/html": [
       "<div>\n",
       "<style scoped>\n",
       "    .dataframe tbody tr th:only-of-type {\n",
       "        vertical-align: middle;\n",
       "    }\n",
       "\n",
       "    .dataframe tbody tr th {\n",
       "        vertical-align: top;\n",
       "    }\n",
       "\n",
       "    .dataframe thead th {\n",
       "        text-align: right;\n",
       "    }\n",
       "</style>\n",
       "<table border=\"1\" class=\"dataframe\">\n",
       "  <thead>\n",
       "    <tr style=\"text-align: right;\">\n",
       "      <th></th>\n",
       "      <th>Reports</th>\n",
       "      <th>Count</th>\n",
       "      <th>Link</th>\n",
       "    </tr>\n",
       "  </thead>\n",
       "  <tbody>\n",
       "    <tr>\n",
       "      <th>0</th>\n",
       "      <td>09/2019</td>\n",
       "      <td>257</td>\n",
       "      <td>http://www.nuforc.org/webreports/ndxe201909.html</td>\n",
       "    </tr>\n",
       "    <tr>\n",
       "      <th>1</th>\n",
       "      <td>08/2019</td>\n",
       "      <td>442</td>\n",
       "      <td>http://www.nuforc.org/webreports/ndxe201908.html</td>\n",
       "    </tr>\n",
       "    <tr>\n",
       "      <th>2</th>\n",
       "      <td>07/2019</td>\n",
       "      <td>582</td>\n",
       "      <td>http://www.nuforc.org/webreports/ndxe201907.html</td>\n",
       "    </tr>\n",
       "    <tr>\n",
       "      <th>3</th>\n",
       "      <td>06/2019</td>\n",
       "      <td>463</td>\n",
       "      <td>http://www.nuforc.org/webreports/ndxe201906.html</td>\n",
       "    </tr>\n",
       "    <tr>\n",
       "      <th>4</th>\n",
       "      <td>05/2019</td>\n",
       "      <td>526</td>\n",
       "      <td>http://www.nuforc.org/webreports/ndxe201905.html</td>\n",
       "    </tr>\n",
       "  </tbody>\n",
       "</table>\n",
       "</div>"
      ],
      "text/plain": [
       "   Reports  Count                                              Link\n",
       "0  09/2019    257  http://www.nuforc.org/webreports/ndxe201909.html\n",
       "1  08/2019    442  http://www.nuforc.org/webreports/ndxe201908.html\n",
       "2  07/2019    582  http://www.nuforc.org/webreports/ndxe201907.html\n",
       "3  06/2019    463  http://www.nuforc.org/webreports/ndxe201906.html\n",
       "4  05/2019    526  http://www.nuforc.org/webreports/ndxe201905.html"
      ]
     },
     "execution_count": 51,
     "metadata": {},
     "output_type": "execute_result"
    }
   ],
   "source": [
    "counts_df = pd.read_csv('data/report_counts.csv', index_col=0)\n",
    "# drop last row\n",
    "counts_df.drop(counts_df.tail(1).index,inplace=True)\n",
    "counts_df.head()"
   ]
  },
  {
   "cell_type": "code",
   "execution_count": 56,
   "metadata": {},
   "outputs": [],
   "source": [
    "# only records from 1900 onward\n",
    "counts_df = counts_df[counts_df['Reports'].str[-4:].astype('int') >= 1900]"
   ]
  },
  {
   "cell_type": "code",
   "execution_count": 58,
   "metadata": {},
   "outputs": [
    {
     "data": {
      "text/html": [
       "<div>\n",
       "<style scoped>\n",
       "    .dataframe tbody tr th:only-of-type {\n",
       "        vertical-align: middle;\n",
       "    }\n",
       "\n",
       "    .dataframe tbody tr th {\n",
       "        vertical-align: top;\n",
       "    }\n",
       "\n",
       "    .dataframe thead th {\n",
       "        text-align: right;\n",
       "    }\n",
       "</style>\n",
       "<table border=\"1\" class=\"dataframe\">\n",
       "  <thead>\n",
       "    <tr style=\"text-align: right;\">\n",
       "      <th></th>\n",
       "      <th>Reports</th>\n",
       "      <th>Count</th>\n",
       "      <th>Link</th>\n",
       "    </tr>\n",
       "  </thead>\n",
       "  <tbody>\n",
       "    <tr>\n",
       "      <th>0</th>\n",
       "      <td>2019-09-01</td>\n",
       "      <td>257</td>\n",
       "      <td>http://www.nuforc.org/webreports/ndxe201909.html</td>\n",
       "    </tr>\n",
       "    <tr>\n",
       "      <th>1</th>\n",
       "      <td>2019-08-01</td>\n",
       "      <td>442</td>\n",
       "      <td>http://www.nuforc.org/webreports/ndxe201908.html</td>\n",
       "    </tr>\n",
       "    <tr>\n",
       "      <th>2</th>\n",
       "      <td>2019-07-01</td>\n",
       "      <td>582</td>\n",
       "      <td>http://www.nuforc.org/webreports/ndxe201907.html</td>\n",
       "    </tr>\n",
       "    <tr>\n",
       "      <th>3</th>\n",
       "      <td>2019-06-01</td>\n",
       "      <td>463</td>\n",
       "      <td>http://www.nuforc.org/webreports/ndxe201906.html</td>\n",
       "    </tr>\n",
       "    <tr>\n",
       "      <th>4</th>\n",
       "      <td>2019-05-01</td>\n",
       "      <td>526</td>\n",
       "      <td>http://www.nuforc.org/webreports/ndxe201905.html</td>\n",
       "    </tr>\n",
       "  </tbody>\n",
       "</table>\n",
       "</div>"
      ],
      "text/plain": [
       "     Reports  Count                                              Link\n",
       "0 2019-09-01    257  http://www.nuforc.org/webreports/ndxe201909.html\n",
       "1 2019-08-01    442  http://www.nuforc.org/webreports/ndxe201908.html\n",
       "2 2019-07-01    582  http://www.nuforc.org/webreports/ndxe201907.html\n",
       "3 2019-06-01    463  http://www.nuforc.org/webreports/ndxe201906.html\n",
       "4 2019-05-01    526  http://www.nuforc.org/webreports/ndxe201905.html"
      ]
     },
     "execution_count": 58,
     "metadata": {},
     "output_type": "execute_result"
    }
   ],
   "source": [
    "# convert to datetime\n",
    "counts_df['Reports'] = pd.to_datetime(counts_df['Reports'])\n",
    "counts_df.head()"
   ]
  },
  {
   "cell_type": "code",
   "execution_count": 64,
   "metadata": {},
   "outputs": [
    {
     "data": {
      "text/plain": [
       "<matplotlib.collections.PathCollection at 0x7fa586c0cef0>"
      ]
     },
     "execution_count": 64,
     "metadata": {},
     "output_type": "execute_result"
    },
    {
     "data": {
      "image/png": "[encoded data removed]",
      "text/plain": [
       "<Figure size 432x288 with 1 Axes>"
      ]
     },
     "metadata": {},
     "output_type": "display_data"
    }
   ],
   "source": [
    "register_matplotlib_converters()\n",
    "plt.scatter(counts_df['Reports'], counts_df['Count'])"
   ]
  },
  {
   "cell_type": "code",
   "execution_count": 82,
   "metadata": {},
   "outputs": [
    {
     "data": {
      "text/html": [
       "<div>\n",
       "<style scoped>\n",
       "    .dataframe tbody tr th:only-of-type {\n",
       "        vertical-align: middle;\n",
       "    }\n",
       "\n",
       "    .dataframe tbody tr th {\n",
       "        vertical-align: top;\n",
       "    }\n",
       "\n",
       "    .dataframe thead th {\n",
       "        text-align: right;\n",
       "    }\n",
       "</style>\n",
       "<table border=\"1\" class=\"dataframe\">\n",
       "  <thead>\n",
       "    <tr style=\"text-align: right;\">\n",
       "      <th></th>\n",
       "      <th>Count</th>\n",
       "    </tr>\n",
       "    <tr>\n",
       "      <th>Reports</th>\n",
       "      <th></th>\n",
       "    </tr>\n",
       "  </thead>\n",
       "  <tbody>\n",
       "    <tr>\n",
       "      <th>1</th>\n",
       "      <td>8430</td>\n",
       "    </tr>\n",
       "    <tr>\n",
       "      <th>2</th>\n",
       "      <td>6943</td>\n",
       "    </tr>\n",
       "    <tr>\n",
       "      <th>3</th>\n",
       "      <td>7962</td>\n",
       "    </tr>\n",
       "    <tr>\n",
       "      <th>4</th>\n",
       "      <td>8115</td>\n",
       "    </tr>\n",
       "    <tr>\n",
       "      <th>5</th>\n",
       "      <td>8549</td>\n",
       "    </tr>\n",
       "    <tr>\n",
       "      <th>6</th>\n",
       "      <td>12526</td>\n",
       "    </tr>\n",
       "    <tr>\n",
       "      <th>7</th>\n",
       "      <td>14797</td>\n",
       "    </tr>\n",
       "    <tr>\n",
       "      <th>8</th>\n",
       "      <td>13015</td>\n",
       "    </tr>\n",
       "    <tr>\n",
       "      <th>9</th>\n",
       "      <td>11736</td>\n",
       "    </tr>\n",
       "    <tr>\n",
       "      <th>10</th>\n",
       "      <td>11100</td>\n",
       "    </tr>\n",
       "    <tr>\n",
       "      <th>11</th>\n",
       "      <td>10126</td>\n",
       "    </tr>\n",
       "    <tr>\n",
       "      <th>12</th>\n",
       "      <td>8466</td>\n",
       "    </tr>\n",
       "  </tbody>\n",
       "</table>\n",
       "</div>"
      ],
      "text/plain": [
       "         Count\n",
       "Reports       \n",
       "1         8430\n",
       "2         6943\n",
       "3         7962\n",
       "4         8115\n",
       "5         8549\n",
       "6        12526\n",
       "7        14797\n",
       "8        13015\n",
       "9        11736\n",
       "10       11100\n",
       "11       10126\n",
       "12        8466"
      ]
     },
     "execution_count": 82,
     "metadata": {},
     "output_type": "execute_result"
    }
   ],
   "source": [
    "# groupby month\n",
    "month_counts = counts_df.groupby(by=counts_df['Reports'].dt.month).sum()\n",
    "month_counts"
   ]
  },
  {
   "cell_type": "code",
   "execution_count": 84,
   "metadata": {},
   "outputs": [
    {
     "data": {
      "text/html": [
       "<div>\n",
       "<style scoped>\n",
       "    .dataframe tbody tr th:only-of-type {\n",
       "        vertical-align: middle;\n",
       "    }\n",
       "\n",
       "    .dataframe tbody tr th {\n",
       "        vertical-align: top;\n",
       "    }\n",
       "\n",
       "    .dataframe thead th {\n",
       "        text-align: right;\n",
       "    }\n",
       "</style>\n",
       "<table border=\"1\" class=\"dataframe\">\n",
       "  <thead>\n",
       "    <tr style=\"text-align: right;\">\n",
       "      <th></th>\n",
       "      <th>Count</th>\n",
       "    </tr>\n",
       "    <tr>\n",
       "      <th>Reports</th>\n",
       "      <th></th>\n",
       "    </tr>\n",
       "  </thead>\n",
       "  <tbody>\n",
       "    <tr>\n",
       "      <th>1</th>\n",
       "      <td>6.923172</td>\n",
       "    </tr>\n",
       "    <tr>\n",
       "      <th>2</th>\n",
       "      <td>5.701967</td>\n",
       "    </tr>\n",
       "    <tr>\n",
       "      <th>3</th>\n",
       "      <td>6.538825</td>\n",
       "    </tr>\n",
       "    <tr>\n",
       "      <th>4</th>\n",
       "      <td>6.664477</td>\n",
       "    </tr>\n",
       "    <tr>\n",
       "      <th>5</th>\n",
       "      <td>7.020901</td>\n",
       "    </tr>\n",
       "    <tr>\n",
       "      <th>6</th>\n",
       "      <td>10.287028</td>\n",
       "    </tr>\n",
       "    <tr>\n",
       "      <th>7</th>\n",
       "      <td>12.152096</td>\n",
       "    </tr>\n",
       "    <tr>\n",
       "      <th>8</th>\n",
       "      <td>10.688622</td>\n",
       "    </tr>\n",
       "    <tr>\n",
       "      <th>9</th>\n",
       "      <td>9.638238</td>\n",
       "    </tr>\n",
       "    <tr>\n",
       "      <th>10</th>\n",
       "      <td>9.115920</td>\n",
       "    </tr>\n",
       "    <tr>\n",
       "      <th>11</th>\n",
       "      <td>8.316019</td>\n",
       "    </tr>\n",
       "    <tr>\n",
       "      <th>12</th>\n",
       "      <td>6.952737</td>\n",
       "    </tr>\n",
       "  </tbody>\n",
       "</table>\n",
       "</div>"
      ],
      "text/plain": [
       "             Count\n",
       "Reports           \n",
       "1         6.923172\n",
       "2         5.701967\n",
       "3         6.538825\n",
       "4         6.664477\n",
       "5         7.020901\n",
       "6        10.287028\n",
       "7        12.152096\n",
       "8        10.688622\n",
       "9         9.638238\n",
       "10        9.115920\n",
       "11        8.316019\n",
       "12        6.952737"
      ]
     },
     "execution_count": 84,
     "metadata": {},
     "output_type": "execute_result"
    }
   ],
   "source": [
    "month_counts/month_counts.sum()*100"
   ]
  },
  {
   "cell_type": "code",
   "execution_count": 74,
   "metadata": {},
   "outputs": [],
   "source": [
    "season_dict = {\n",
    "    1: 'winter',\n",
    "    2: 'winter',\n",
    "    3: 'winter',\n",
    "    4: 'spring',\n",
    "    5: 'spring',\n",
    "    6: 'spring',\n",
    "    7: 'summer',\n",
    "    8: 'summer',\n",
    "    9: 'summer',\n",
    "    10: 'fall',\n",
    "    11: 'fall',\n",
    "    12: 'fall'\n",
    "}"
   ]
  },
  {
   "cell_type": "code",
   "execution_count": 85,
   "metadata": {},
   "outputs": [],
   "source": [
    "month_counts.set_index(month_counts.index.map(season_dict), inplace=True)"
   ]
  },
  {
   "cell_type": "code",
   "execution_count": 89,
   "metadata": {},
   "outputs": [
    {
     "data": {
      "text/html": [
       "<div>\n",
       "<style scoped>\n",
       "    .dataframe tbody tr th:only-of-type {\n",
       "        vertical-align: middle;\n",
       "    }\n",
       "\n",
       "    .dataframe tbody tr th {\n",
       "        vertical-align: top;\n",
       "    }\n",
       "\n",
       "    .dataframe thead th {\n",
       "        text-align: right;\n",
       "    }\n",
       "</style>\n",
       "<table border=\"1\" class=\"dataframe\">\n",
       "  <thead>\n",
       "    <tr style=\"text-align: right;\">\n",
       "      <th></th>\n",
       "      <th>Count</th>\n",
       "    </tr>\n",
       "    <tr>\n",
       "      <th>Reports</th>\n",
       "      <th></th>\n",
       "    </tr>\n",
       "  </thead>\n",
       "  <tbody>\n",
       "    <tr>\n",
       "      <th>fall</th>\n",
       "      <td>29692</td>\n",
       "    </tr>\n",
       "    <tr>\n",
       "      <th>spring</th>\n",
       "      <td>29190</td>\n",
       "    </tr>\n",
       "    <tr>\n",
       "      <th>summer</th>\n",
       "      <td>39548</td>\n",
       "    </tr>\n",
       "    <tr>\n",
       "      <th>winter</th>\n",
       "      <td>23335</td>\n",
       "    </tr>\n",
       "  </tbody>\n",
       "</table>\n",
       "</div>"
      ],
      "text/plain": [
       "         Count\n",
       "Reports       \n",
       "fall     29692\n",
       "spring   29190\n",
       "summer   39548\n",
       "winter   23335"
      ]
     },
     "execution_count": 89,
     "metadata": {},
     "output_type": "execute_result"
    }
   ],
   "source": [
    "season_counts = month_counts.groupby(by=month_counts.index).sum()\n",
    "season_counts"
   ]
  },
  {
   "cell_type": "code",
   "execution_count": 90,
   "metadata": {},
   "outputs": [
    {
     "data": {
      "text/html": [
       "<div>\n",
       "<style scoped>\n",
       "    .dataframe tbody tr th:only-of-type {\n",
       "        vertical-align: middle;\n",
       "    }\n",
       "\n",
       "    .dataframe tbody tr th {\n",
       "        vertical-align: top;\n",
       "    }\n",
       "\n",
       "    .dataframe thead th {\n",
       "        text-align: right;\n",
       "    }\n",
       "</style>\n",
       "<table border=\"1\" class=\"dataframe\">\n",
       "  <thead>\n",
       "    <tr style=\"text-align: right;\">\n",
       "      <th></th>\n",
       "      <th>Count</th>\n",
       "    </tr>\n",
       "    <tr>\n",
       "      <th>Reports</th>\n",
       "      <th></th>\n",
       "    </tr>\n",
       "  </thead>\n",
       "  <tbody>\n",
       "    <tr>\n",
       "      <th>fall</th>\n",
       "      <td>24.384675</td>\n",
       "    </tr>\n",
       "    <tr>\n",
       "      <th>spring</th>\n",
       "      <td>23.972406</td>\n",
       "    </tr>\n",
       "    <tr>\n",
       "      <th>summer</th>\n",
       "      <td>32.478955</td>\n",
       "    </tr>\n",
       "    <tr>\n",
       "      <th>winter</th>\n",
       "      <td>19.163963</td>\n",
       "    </tr>\n",
       "  </tbody>\n",
       "</table>\n",
       "</div>"
      ],
      "text/plain": [
       "             Count\n",
       "Reports           \n",
       "fall     24.384675\n",
       "spring   23.972406\n",
       "summer   32.478955\n",
       "winter   19.163963"
      ]
     },
     "execution_count": 90,
     "metadata": {},
     "output_type": "execute_result"
    }
   ],
   "source": [
    "season_counts/season_counts.sum()*100"
   ]
  },
  {
   "cell_type": "code",
   "execution_count": null,
   "metadata": {},
   "outputs": [],
   "source": []
  },
  {
   "cell_type": "code",
   "execution_count": null,
   "metadata": {},
   "outputs": [],
   "source": []
  },
  {
   "cell_type": "code",
   "execution_count": null,
   "metadata": {},
   "outputs": [],
   "source": []
  },
  {
   "cell_type": "markdown",
   "metadata": {},
   "source": [
    "# Report Text Data"
   ]
  },
  {
   "cell_type": "code",
   "execution_count": 3,
   "metadata": {},
   "outputs": [],
   "source": [
    "# list of two-character state codes (and DC)\n",
    "states = [\"AL\", \"AK\", \"AZ\", \"AR\", \"CA\", \"CO\", \"CT\", \"DC\", \"DE\", \"FL\", \"GA\", \n",
    "          \"HI\", \"ID\", \"IL\", \"IN\", \"IA\", \"KS\", \"KY\", \"LA\", \"ME\", \"MD\", \n",
    "          \"MA\", \"MI\", \"MN\", \"MS\", \"MO\", \"MT\", \"NE\", \"NV\", \"NH\", \"NJ\", \n",
    "          \"NM\", \"NY\", \"NC\", \"ND\", \"OH\", \"OK\", \"OR\", \"PA\", \"RI\", \"SC\", \n",
    "          \"SD\", \"TN\", \"TX\", \"UT\", \"VT\", \"VA\", \"WA\", \"WV\", \"WI\", \"WY\"]"
   ]
  },
  {
   "cell_type": "code",
   "execution_count": 2,
   "metadata": {},
   "outputs": [
    {
     "data": {
      "text/html": [
       "<div>\n",
       "<style scoped>\n",
       "    .dataframe tbody tr th:only-of-type {\n",
       "        vertical-align: middle;\n",
       "    }\n",
       "\n",
       "    .dataframe tbody tr th {\n",
       "        vertical-align: top;\n",
       "    }\n",
       "\n",
       "    .dataframe thead th {\n",
       "        text-align: right;\n",
       "    }\n",
       "</style>\n",
       "<table border=\"1\" class=\"dataframe\">\n",
       "  <thead>\n",
       "    <tr style=\"text-align: right;\">\n",
       "      <th></th>\n",
       "      <th>datetime</th>\n",
       "      <th>city</th>\n",
       "      <th>state</th>\n",
       "      <th>shape</th>\n",
       "      <th>duration</th>\n",
       "      <th>post_date</th>\n",
       "      <th>report_text</th>\n",
       "    </tr>\n",
       "    <tr>\n",
       "      <th>report_id</th>\n",
       "      <th></th>\n",
       "      <th></th>\n",
       "      <th></th>\n",
       "      <th></th>\n",
       "      <th></th>\n",
       "      <th></th>\n",
       "      <th></th>\n",
       "    </tr>\n",
       "  </thead>\n",
       "  <tbody>\n",
       "    <tr>\n",
       "      <th>144/S144369</th>\n",
       "      <td>12/31/18 23:30</td>\n",
       "      <td>San Antonio</td>\n",
       "      <td>TX</td>\n",
       "      <td>Sphere</td>\n",
       "      <td>15 minutes</td>\n",
       "      <td>1/11/19</td>\n",
       "      <td>I saw fiery orange lights no sound flying at l...</td>\n",
       "    </tr>\n",
       "    <tr>\n",
       "      <th>144/S144243</th>\n",
       "      <td>12/31/18 21:41</td>\n",
       "      <td>Ormond Beach</td>\n",
       "      <td>FL</td>\n",
       "      <td>Fireball</td>\n",
       "      <td>20 seconds</td>\n",
       "      <td>1/4/19</td>\n",
       "      <td>Orange glowing object racing though the sky.,A...</td>\n",
       "    </tr>\n",
       "    <tr>\n",
       "      <th>144/S144260</th>\n",
       "      <td>12/31/18 21:45</td>\n",
       "      <td>Kiawah Island</td>\n",
       "      <td>SC</td>\n",
       "      <td>Sphere</td>\n",
       "      <td>10 seconds</td>\n",
       "      <td>1/4/19</td>\n",
       "      <td>On New Year’s Eve night on Kiawah Island, I ca...</td>\n",
       "    </tr>\n",
       "    <tr>\n",
       "      <th>144/S144245</th>\n",
       "      <td>12/31/18 21:47</td>\n",
       "      <td>Brandon</td>\n",
       "      <td>MS</td>\n",
       "      <td>Unknown</td>\n",
       "      <td>5 minutes</td>\n",
       "      <td>1/4/19</td>\n",
       "      <td>2 strange formations of continuous red-orange,...</td>\n",
       "    </tr>\n",
       "    <tr>\n",
       "      <th>144/S144558</th>\n",
       "      <td>12/31/18 22:00</td>\n",
       "      <td>Spring</td>\n",
       "      <td>TX</td>\n",
       "      <td>NaN</td>\n",
       "      <td>~15 minutes</td>\n",
       "      <td>1/24/19</td>\n",
       "      <td>Red/ Orange lights - spherical shape,Location:...</td>\n",
       "    </tr>\n",
       "  </tbody>\n",
       "</table>\n",
       "</div>"
      ],
      "text/plain": [
       "                   datetime           city state     shape     duration  \\\n",
       "report_id                                                                 \n",
       "144/S144369  12/31/18 23:30    San Antonio    TX    Sphere   15 minutes   \n",
       "144/S144243  12/31/18 21:41   Ormond Beach    FL  Fireball   20 seconds   \n",
       "144/S144260  12/31/18 21:45  Kiawah Island    SC    Sphere   10 seconds   \n",
       "144/S144245  12/31/18 21:47        Brandon    MS   Unknown    5 minutes   \n",
       "144/S144558  12/31/18 22:00         Spring    TX       NaN  ~15 minutes   \n",
       "\n",
       "            post_date                                        report_text  \n",
       "report_id                                                                 \n",
       "144/S144369   1/11/19  I saw fiery orange lights no sound flying at l...  \n",
       "144/S144243    1/4/19  Orange glowing object racing though the sky.,A...  \n",
       "144/S144260    1/4/19  On New Year’s Eve night on Kiawah Island, I ca...  \n",
       "144/S144245    1/4/19  2 strange formations of continuous red-orange,...  \n",
       "144/S144558   1/24/19  Red/ Orange lights - spherical shape,Location:...  "
      ]
     },
     "execution_count": 2,
     "metadata": {},
     "output_type": "execute_result"
    }
   ],
   "source": [
    "report_df = pd.read_csv('data/report_scrape/report_text.csv')\n",
    "report_df.set_index('report_id', inplace=True)\n",
    "report_df.head()"
   ]
  },
  {
   "cell_type": "code",
   "execution_count": null,
   "metadata": {},
   "outputs": [],
   "source": []
  },
  {
   "cell_type": "code",
   "execution_count": null,
   "metadata": {},
   "outputs": [],
   "source": []
  },
  {
   "cell_type": "code",
   "execution_count": null,
   "metadata": {},
   "outputs": [],
   "source": []
  },
  {
   "cell_type": "code",
   "execution_count": null,
   "metadata": {},
   "outputs": [],
   "source": []
  },
  {
   "cell_type": "code",
   "execution_count": null,
   "metadata": {},
   "outputs": [],
   "source": []
  },
  {
   "cell_type": "code",
   "execution_count": null,
   "metadata": {},
   "outputs": [],
   "source": []
  },
  {
   "cell_type": "code",
   "execution_count": null,
   "metadata": {},
   "outputs": [],
   "source": []
  },
  {
   "cell_type": "code",
   "execution_count": 21,
   "metadata": {},
   "outputs": [
    {
     "data": {
      "text/plain": [
       "'Poipu beach, Kauai, Hawaii New Years sighting of two firelike objects in the sky.,My spouse and I were watching the Poipu fireworks and we both noticed that there were two \"sparks\" that were holding still in the sky.  Initially, we both assumed that it was possible firework debris but (1) they were not falling (2) continued to burn and (3) started to move after \"hovering\" for >30 seconds.  We ignored the fireworks as we continued to follow these two objects begin to move and then they quickly began to move into the distance.  I wondered if perhaps someone was in a helicopter watching the firework display from above, but the light was \"fire-like\" and flickering -- plus the way they moved was inconsistent with any obvious explanation.  I wonder if anyone was taping the firework display, we did not have our cameras and we are stumped on how to explain what we saw.  I know the Navy maintains the Pacific missile testing range here -- but I cannot think that what was seen is congruent with a missile or any other military aircraft.'"
      ]
     },
     "execution_count": 21,
     "metadata": {},
     "output_type": "execute_result"
    }
   ],
   "source": [
    "report_df.loc['079/S79455', 'report_text']"
   ]
  },
  {
   "cell_type": "code",
   "execution_count": 23,
   "metadata": {},
   "outputs": [
    {
     "data": {
      "text/plain": [
       "'Bright Stars thats looks like planet but moves quicky like drone,Hi, I do not know what I saw last feb 26 at night in our bedroom in second floor.  I went to my bedroom to get something and i visited my plant which is a just right beside by the window.  I looked by the window tried to check how much is the layer of ice in my neighbors roof  anyhow i looked up the sky I saw these bright object stagnant in the sky I was kinda shocked I was thinking it may be one of the planets its sparkling to much that I called my husband to ask if what planet might it be.  then i noticed its not 1 but 5 of them scatterred but not so much you can all of them in my window them 1 star moved horinzontally i was shocked i thought it was faked and thought i might have seen a drone instead my husband said yeah it may be a drone but we think it almost up in the sky for so long and we dont know if its really capable to stand for so long. anyhow I tried to look and search any sightings here in Ottawa through internet but it seems none.  until i stumbled to you tube video with these URL:,https://youtu.be/pijFz88PxL0   ,it was 2013 but looking at it its same experience i had.'"
      ]
     },
     "execution_count": 23,
     "metadata": {},
     "output_type": "execute_result"
    }
   ],
   "source": [
    "report_df.iloc[15, 6]"
   ]
  },
  {
   "cell_type": "code",
   "execution_count": 41,
   "metadata": {
    "scrolled": true
   },
   "outputs": [
    {
     "name": "stdout",
     "output_type": "stream",
     "text": [
      "0 :\n",
      "I saw fiery orange lights no sound flying at low altitude no noise they moved south then flanked back but they all flanked at the same area  as they flew higher I took pictures and video  I tried to close up to see if they were lanterns but there was no flickering I have seen them before, but can’t identify them.\n",
      "1000 :\n",
      "Two cylindrical golden objects moving slowly far above wind turbines IOWA,On the night of August 6, 2018, around 830 pm, I was driving on a remote highway of northwest Iowa .  I just happened to glance up into the twilight sky ( sun had just set) and was stunned to see a golden cylindrical object slowly flying far up in the sky right between two wind turbines  At first I dismissed it thinking it was an airplane, but it was distinctly different. A golden glow and moving very slowly.  I looked around the sky wondering if it’s a reflection of the setting sun, but it had completely set and there were no other clouds or anything at that level but clear sky.  There were low dark clouds but nothing at that level  Imagine my shock to see a second similar object hovering in the sky to the far left of the sky right.  It was very far away but distinctly the same size as the first one.,It’s interesting that a few minutes prior to my sighting, my internet and gps conked on my iPhone and reappeared almost immediately as I passed the two objects.   Please let me know if anyone else saw what I did.  Thank you\n",
      "2000 :\n",
      "I am inquiring if you have any information on a grayish tall being with geometric formations that looked part of the body human in form but slender body type around 6-7 ft tall female and male both had familiar characteristics.,An information on big diamond type craft they have anti gravitational magnetic energy that gives the craft power they travel by means of time lapse.  I know this a reporting center.  Which means maybe you could help me out with who I'm dealing with.,Extra notes, was taken on a craft when I was young and the memorys didn't reappear till years later at which time after that occurred my encounter with beings I inquired about.  They are none hostile but warned and showed me that another group of beings exists that are hostile.  They use balls of lights blinding ball of energy.  Unknown of how or what energy they was using.,Thank you for your time, Hope to hear from you soon   ,Time 2300hours.  Date 9/8/18\n",
      "3000 :\n",
      "Chrome object dancing over 217 around 3:00.,I was driving 217 towards Tigard.  As I was driving I was looking at all of the com trails in the sky, I noticed a chrome object moving almost in a figure eight.  ,It disappeared after about thirty seconds or less.\n",
      "4000 :\n",
      "Two unknown objects seen over Vernon, NY on 07/12/17.,Two objects(lights) were noticed after they had passed overhead.  These objects produced no sound and there was no beacon as with normal aircraft.  These objects were moving away from us and the intensity of the light didn't seem to change.  Therefore, I am discounting landing lights as the source of illumination.  ,I am unable to estimate height and speed due to darkness but it took less than one minute for these 2 objects to go from overhead to beyond the visible horizon.  Also, as they moved away, they seemed to change position in relation to each other  as if they were in a race.\n",
      "5000 :\n",
      "It was 11:30,  I was walking my dog and I looked up and there was a sphere slowly moving across the sky makeing it's way towards Windsor.  It zig zagged and zipped towards Windsor, VT, my dog reacted to this event with barking and shaking.  My dog doesn't scare easy it was his reaction tbat frightened me the most.,((NUFORC Note:  Source of the report elects to remain anonymous; provides no contact information.  PD))\n",
      "6000 :\n",
      "star-like object in western sky in near north Ontario,Two pinpoints of light discernible using binoculars. Stationary in the western sky. Yellow/copper in colour, with some blue and red circling the predominant colour.  Appear to be moving closer:  the distance between the lights has increased.  Extremely stable in the sky, not a plant nor a planet/star.  Not a light atop a transmission tower.\n",
      "7000 :\n",
      "Slow moving high altitude light moving west to east would blink at random intervals about 1 second apart, dim then dark, then bright.,About 2am, my dog got me up barking to go outside, which is rare.  He seemed very upset.  ,I stayed outside with him for about an hour, looking at the stars.  When we got outside, a monster truck was racing around the neighborhood, so that could have been what had him upset, but I kind of doubt it.  He also did eventually poop after about an hour, so could have been that.,He seemed very upset the whole time, like someone or something was out there.  I saw a randomly flashing light in the sky exactly like what is on the YouTube video below (not my video).,The moving light was very high altitude like a satellite.  I've never seen a blinking satellite before.  It would blink randomly, dim then dark, then bright, then dark, then maybe dim for a couple of times, then dark, then bright, repeatedly but randomly.  It was moving slower than a satellite from west to east.  The speed seemed to alter and even stop at times.  I watched it for maybe five minutes but it was still there when I went back inside.,https://www.youtube.com/watch?v=2xVF2sfxj8I  ,It was the same thing as described in this recent report by someone on your site: ,http://nuforc.org/webreports/135/S135177.html\n",
      "8000 :\n",
      "We were sitting out when my wife noticed a very bright star.  She informed me of it and we began watching it together.  I went inside and grabbed my camcorder.,I was able to locate it on my camera and while propping my elbows on my step ladder I managed to capture some great footage.  I was a sphere shape and it kept changing colors\n",
      "9000 :\n",
      "Nine Flying Disc  spotted in Taylorsville Utah 09/05/2016,Took photos of nine disc red and two white ones  together three red six white disc it was cloudy.,((NUFORC Note:  Witness elects to remain totally anonymous; provides no contact information.  PD))\n",
      "10000 :\n",
      "At approximately 5:58 AM on the morning of March 4, 2016, while looking out my window, facing East South East, at about 45 to 50 degrees in the sky, I saw a extremely bright light and it seemed to be rectangular in shape.  It was about the size of the last quarter of the moon or smaller.  ,As it came closer in my direction, it was clear to see that it had 3 giant round bright bright lights horizontally and above it and below the 3 lights was a very thin band of lights that over and had colors.  ,It stayed stationary for a short time, moved slowly to the right, then shortly after that, it just moved straight down, out of my sight into the south point of the island.\n",
      "11000 :\n",
      "Not trying to debunk a sighting, and I'm not a expert, but I believe the sighting over Elizabethtown, PA, was a single Chinese lantern.  ,I haven't determined who launched the lantern, but it was flying low, so I assume from Elizabethtown.  My guess is the college.,((NUFORC Note:  Witness elects to remain totally anonymous; provides no contact information.  PD))\n",
      "12000 :\n",
      "3 orange lights floating about 200 yards above N/B US10 near E. Lyon Rd.  The lights appeared to be seperate from each other by the way they shifted.  ,I was driving on the highway so couldn't get a great look but I can't explain what I saw. ,I snapped several pictures through the windshield with my phone but they are low quality.,((NUFORC Note:  Witness elects to remain totally anonymous; provides little contact information.  PD))\n",
      "13000 :\n",
      "Tight knit formation of 5 yellow lights that disappeared.,We were having a bonfire in the city of Sterling Heights. I happened to look up.  I saw 5 yellow lights flying in perfect formation.  Sort of a half diamond.  It flew straight and true, made no noise at all, then disappeared instantly.\n",
      "14000 :\n",
      "3 objects spotted separately, shaft of light aimed at one of them.,\tHaving never seen anything like this before, I feel like I may be a bit crazy.  I have been watching a lot of Ancient Aliens and listening to Coast To Coast nightly, but that fact has no bearing on what I actually saw this morning.,\tI am a truck driver, and I drive the same route every night, which takes me from Bloomington, Illinois, up Interstate 39 to Plover, Wisconsin, and back.  This gives an idea of approximately where I may have been in relation to towns or cities, as I wasn’t exactly sure what towns are around the objects I saw.  I do know that the first one was seen in southern Wisconsin, close to the border, probably around the 170-mile-marker or so, before getting on the toll way.,\tAs I have not seen anything like this, it’s difficult to describe, but I will admit that the first and third objects could have easily been airplanes seen from a distance, but I do not think they were.   All three objects were orange in color, all seen from a distance as I was driving, so I couldn’t keep my eyes fully trained on them.,\tThe first one, which was seen around 4:30 A.M. CST, at first did look like it was possibly an airplane coming in for a landing, as it was descending, but when it did a zigzag movement while in descent, I realized I may have seen something not operated by humans.   I know that some military airplanes could pull off a zigzag pattern, but the way it moved while also descending was a bit strange.  I spent 4 years in the Marine Corps, and being an air winger, I frequently witnessed maneuvers by Hornets, EA-6Bs, Harriers, Ospreys, and others.  I never saw any of those things, including helicopters, do anything like what I saw.  Eventually, it got too low and was hidden behind the tree line of the Interstate.  I tried to keep an eye out for it to pop up again, but it didn’t.,\tThe second object was much higher in the night sky, around 5:15 A.M. CST, and was much further away from me than the first was.  I was driving south, and I first saw it almost directly in front of me.  It seemed at first to be moving very slowly east, then sped up a bit.  Up until this point, I didn’t think the first object was enough to file a report, as I stated that it could have easily been an airplane, even with the odd zigzag move, but what happened while watching the second one actually astonished me quite a bit.  After it sped up a bit, I saw a quick shaft of light.  This light was not bright or flashy, and it only lasted a split second, maybe a quarter of a second at the most.  It was like a lightning bolt, but rather than going from the ground to the sky, this bolt came from the sky and was aimed directly at the craft.  Also, it wasn’t jagged like a bolt of lightning, but rather it was straight, like something was beamed from space to the craft.  I have never hear! d or read of anyone seeing anything like this before, so maybe I really am crazy.  Anyway, after this beam to the craft, it kept on moving in an easterly direction and I lost it as it kept going.,The third object was spotted around 5:45 A.M. CST, and this was the least eventful of the three.  I also saw this one coming from the south, or at least that’s where I spotted it since I was driving south.  This one traveled at a leisurely pace for the most part, speeding up one time, but slowing back down soon after.  This one didn’t do anything odd, but also went in an east direction, where I lost it in the twilight of the rising sun.,\tHonestly, of the three things I saw, I really don’t know if any of them was actually extra terrestrial, but they could be.  That’s why I wanted to report them.  I’m truly interested if anyone else saw the shaft of light to the second craft I saw, or if anyone has ever reported such a thing before.\n",
      "15000 :\n",
      "On 7/4/15 @10PM in Kansas 2 red/orange dots(fireball) side by side were moving then disappeared,My friend and I were watching fireworks on the 4th.  I was looking south and spotted 2 red/orange dots in the sky.  ,I was excited to share with my friend what I was looking at.  I asked him if he would look south at the red/orange dots, and he stated to me the dots are close together and moving towards the North, amount of time watching 1-2 minutes.  ,We were trying to take picture/video and then suddenly dots disappeared.  ,I was very excited to share with friends and family, our July 4, 2015, evening.\n",
      "16000 :\n",
      "About 8-10 lights hovering in a non specific formation.  One by one the lights began to fade away in the night sky.  Last remained visible for 3 minutes before it also faded away.,((NUFORC Note:  Witness elects to remain totally anonymous; provides no contact information.  PD))\n",
      "17000 :\n",
      "I was driving on I-70 west toward Kansas Cit,y around 730 pm on 9/19/15,  when i first saw them.  i just remember the sun was going down and i was driving toward this beautiful sunset, as i watched these lights appear and they faded as the horizon changed colors and turned dark.  i actually sped up because i wanted to see what they were and it looked like one of the lights was moving to the right toward the direction i was driving to which was into downtown.  there were two bright lights that appeared circular one brighter than the other which was the one the was moving right toward where i was going.  the other two lights are harder to explain because at first i thought they were those clouds that the airplanes make but as i drove closer and watched they didnt fade but seemed to get brighter. these 2 werent circular but kind of a swish shape, was very odd. these four lights hung in the sky sort of in a square formation as the brightest circle moved toward what se! emed to be over  downtown. i then saw a PLANE !!like one of those small ones, fly between me and these lights and then fly back and back again before it dissapeared. i have never seen a plane to that in my life! i was in shock, took my phone out which is very dangerous while driving but i wanted to record this but i couldnt do it while i was driving. i was looking at every person driving beside me to see if they were seeing this but the couple people i saw didnt seem to notice this!!? wtf.  it all was very bizzare.  then the lights began to fade and by the time i reached the westside it was pretty much dark and i could only see one of the lights which then faded or i lost view of it from behind buildings.\n",
      "18000 :\n",
      "Two black squares flying 100 feet.,While sitting on my elevated deck, looking South/South East, I noticed what at first looked like a Dark Spot in the sky.  I lost site of it due to a large tree.  ,Approximately 15 seconds later, I heard a very low \"Humming\" Sound, but could not associate it with anything.  Suddenly my Wife and I could clearly see two \"Black Squares\" about 15 by 15 feet flying over our house at an approximate altitude of 100 fee, Approximately 20 MPH, flying North North West, then slowly turning towards North North East in the direction of the Philadelphia Airport.  The \"Wingman\" swung from the right to left of the leader in a graceful and unusual motion, remaining somewhat level.  We saw No lights, until they past over us then strange Pure White Rectangular Lights in a row (Approx. 3 on each side flashing from outer to inner), at less then a second per flash.,We have a Boeing Plant South East of us.  At first I thought it may have been a Top Secret Drone, but the more I think about it, I don't think it was made here.  We are pretty close to the Airport for anything that size to be flying that low all blacked out with No Visible Navigation lighting.,((NUFORC Note:  Witness remains anonymous; provides no contact information.  Hoax??  PD))\n",
      "19000 :\n",
      "Unknown flashing light flying at high altitude in and out of passenger jet contrail.,Sitting in back yard  just past 2:00pm. Clear sunny day.  Happened to notice a flash of  light in sky maybe 12 miles or so north of Hudson, Fl.  Light was not a landing light or reflection.  ,A small dot of a craft was visible, much as a jet is visible in front of a contrail in high flight. Unable to determine shape.  Flight was erratic, in and out of a contrail, above and below it.  Also flew west to east along contrail.  Not a normal flight path for an aircraft at 30 to 36,000 ft. agl.  Object was dark in color.  ,I tried to video it with my cell phone to no avail, object was to far away.  Wife was with me but she is nearly blind, she couldn't see it.  I live in Tampa air traffic area and am familiar with flight patterns.  Object may have been in Hernando County.  ,I happened to see a B-17 last Wednesday in Brooksville air space from the golf course I work on in Hudson.  Told my boss about it.  He thought I was nuts till picture of it was in the local paper the next day.  ,I am a veteran of naval aviation.  The B-17 was at Brooksville Regional Airport for tours last week.  What I saw had nothing to do with that.\n",
      "20000 :\n",
      "Green light shooting straight down from the sky.,Was driving home from work and saw a green light sit in the sky a bit and then shoot down toward the ground.  Some other drivers had stopped their car to watch.\n",
      "21000 :\n",
      "A light brighter than any star, pulsating and changing colors, moved, parked, buzzing sound, orbs around.,Greetings,  Not sure who I'm talking to nor where to report, but you might want to check this video:  ,https://www.youtube.com/watch?v=uUnOVtVudN4  ,Description included in video caption.  Thanks for your interest and feedback...\n",
      "22000 :\n",
      "Long green tail alternating fireball and not lasting 2-3 seconds moving left to right facing south,Was walking south down Clinton street between Atlantic and  state streets.  My girlfriend pointed at the sky and we both saw an object moving left to right with a long bright green tail.  The object was intermittently switching between a fireball and not.  It was definitely lower than the moon in the sky.  If I was to reach out and point at it I would guess the tip of my finger to have been 6' off the ground or slightly less.\n",
      "23000 :\n",
      "Three of us saw a bright red light moving West and another less brilliant white light next to it, both making no sound.,Three of us saw a very bright red light with a smaller white light at Cedar Heights Condominiums.   ,The red object moved slowly West.  ,We lost sight of the white moving light. ,We heard no sound.,((NUFORC Note:  Source of report corrected the date to August 14.  PD))\n",
      "24000 :\n",
      "Some friends and I (5 people total) were chilling at my house, when two of my buddies decided to leave (they were in the same vehicle.) ,After they get out of the driveway I get a call from my buddy saying, \"Hurry up and get outside!\" ,I ran to the porch as fast as I could and as I get to the door there are 2 red/orange lights that look like flares..  ,But the thing is we sat there and watched the things circle around and even grow brighter. At one point they sat in one postition (still) for up to 45 secs, then completely faded away.\n",
      "25000 :\n",
      "6 orange lights flying evenly apart in a row!,My daughter and I got home at 10:05pm last night.  As we were getting out of the car, I saw 4 bright orange lights moving across the sky at an altitude of a plane.  They were evenly spaced and flew across the sky in a perfect row at the speed of a plane flying by.  ,Then a fifth one appeared into sight more of a distance behind the first four.  Then a sixth one.  ,They passed in a line one following the other until out of sight behind the trees.  I thought they looked like Chinese lanterns but seemed to big at the altitude they were flying at.  ,I never saw anything like that before!\n",
      "26000 :\n",
      "West Virginia man sees strange orange object in the night sky,As I walked outside my home, I looked in the sky to see a round shaped orange glowing object shooting across the sky at the speed of a shooting star.  The object was moving in a north west direction than quickly made a 45Pop degree turn at a rapid speed changing its direction to south west.  It was moving to fast to be any kind of man made plane or helicopter.  The object couldn't have been a shooting star or space junk falling to earth because of its rapid change in direction.  ,I will be the first to tell you that I don't believe in such things as aliens and ufo's.  However, their can be no other explaination for what I saw in the sky.,((NUFORC Note:  Witness elects to remain totally anonymous; provides no contact information.  PD))\n",
      "27000 :\n",
      "Light in the sky that I have never seen before.,Light was hovering in the sky right above my head....thought it was a satellite at first but it wasn't moving.  It was too bright to be a star.  I watched it for about 90 seconds before it just burned out.  Never saw anything like that before...very strange!\n",
      "28000 :\n",
      "Hebron, CT, September 27, 2014, 5:15 a.m., ball of bright red-orange light with tail, traveling northwest at a very low altitude for about 15 seconds, then just disappeared.  No sound\n",
      "29000 :\n",
      "Cigar shaped craft with pulsating red & green chevron lights hovering over treeline in Belleville, Indiana.,I had just left Greencastle, Indiana, when I had just entered the Hendricks County line. Approximately 3 minutes away from Belleville, Indiana, I was driving my car on U.S. Highway 40.  I looked up to see a bright star in the right of my windshield, and to the right, I saw a red/green light.  At first glance it looked like a radio tower, so I thought nothing of it.  As I tried to focus in on the object (while also trying to maintain position on the road), I realized that there was no radio tower in that area, nor would a radio tower reach a couple hundred feet above the treeline.  I began to slow down my car so I could focus in on the object more.  Considering I was the only one on the road for a little ways, I slowed down to around 20 mph.  When I looked into my upper left hand side, I saw what seemed to be a blackened cigar shaped craft, with pulsing chevron red & green lights.  It looked like the lights were on a conveyor belt, basically rotating around the cra! ft.  As I began to speed back up, the craft disappeared.  I tried to rule out, though I am not denying the fact that it is a possibility that this craft was in fact a helicopter, plane, or other perfectly normal object.  However, there were no \"blinking\" lights like a plan, nor would a plane hover in the same spot for a few minutes.  A helicopter could hover, however I would have assumed I would have heard some bit of noise.  Not here, it was silent.\n",
      "30000 :\n",
      "Orange glowing shere seen on 2 successive nights at almost the same time for 30-120 seconds,Sighting #1 8/3/13 about 9:15pm.  I was sitting on my living room couch and looked out of the bay window.  Through a large ash tree I saw a very bright orange glowing object that seemed to be getting closer. , I got up and opened my the front door and stepped out onto my front porch.  The object was still being partially blocked by the tree.  By the time I stepped out onto the sidewalk the object emerged from the tree cover and continued moving on a straight path, at a steady speed.  ,I called to my wife and son to come out to see.  The object had moved almost directly over myself and my home. It was emitting what seemed to be an orange glow or fire'  It did not appear to have any other shape as it moved west to east.   ,My son and I observed for about another 30 seconds as it moved father away, As it did it seemed to loose the intensity of it's glow.   A guess at its altitude would be 1,000 to 2,000 feet\n",
      "31000 :\n",
      "Hovering cigar shaped object that resembled a comet trail but there was no movement.,A cigar shaped object was hovering in place (no movement) for 20 mins.  We zoomed in with a camera and the object appeared to be enveloped in orange flames but at the right hand tip we saw a metallic  undercarriage.  ,The object was far away so it appeared to be of an enormous size (maybe the size of a large cargo ship.)  This resembled a comet trail but there was no movement.  ,Also, the sky was clear blue, no wind, and great visibility.\n",
      "32000 :\n",
      "2 stationary fireballs,I walked outside my house and instantly looked toward the southwestern sky.  Close to  the horizon were 2 stationary lights. They were red-orange in color.  They didn't move at all. The sky was overcast completely.  I couldn't even see the moon or any stars.  We had a severe thunderstorm about 2 hours prior.  The air was still and everything was quiet.  The lights were at a distance, but they were quite noticeable and bright.  After viewing them for about 30 seconds, I turned around to open the front door to yell for my husband.  When I turned back to the southwest, I saw that one of the lights were dimmed and then disappeared.  My husband came outside about 20 seconds later, and I showed him the remaining light.  We stared at it for about 2 minutes, then it dimmed and eventually disappeared., My opinions-The way they seemed to \"burn out\" made me think they were fireballs.  They were not in the normal flight paths for aircraft in this area.  The way they were absolutely still was quite strange.  I wonder if there were more of the fireballs prior to me going outside in the first place.  Tomorrow I will take a photo of how the area looks during the day, and where I remember the fireballs were.\n",
      "33000 :\n",
      "TRIANGLE OBJECTS HOVERING IN CORNFIELD.,I went out to start my truck to let it warm up around 4am when i heard a low humming sound coming from around back of the house.  ,As i walked around back i seen 2 triangle objects with solid orange colored lights in the south cornfield.  These objects were approximately 300yrds out & were hovering approximately 150ft. above a small grove of trees.  ,The objects looked  to be about the size of larger personal airplane.  One of these objects had a blue-ish beam of light coming down from the middle of it that seemed to be tracing the outer edge of the tree line.  ,After about two minutes the objects started to rise straight upward then headed east approximately a mile then making what looked like a perfect 90% turn, headed straight back west at high rate of speed then vanished.\n",
      "34000 :\n",
      "A large light that would continuously stop, hover, and change directions in flight.,On our way home from Logan, we encountered a strange light in the darkening sky.  It was by no means a star and was not blinking like an airplane.  The light it emitted was very bright and large.  At first the odd shape was heading Southwest, then it changed directions and started to go West.  The weird thing was though, was that it would stop in the middle of the sky and just suddenly hover there for a few minutes.  We stopped, jumped out of the truck and proceeded to record a quick video of it.  We were shocked as it flashed blue, white and red very quickly in the video.  We hopped back in the truck and started moving again, trying to get closer although it was dozens of miles away in the air.  When we stopped again to gaze at the orb of light, it hovered again over a mountain and begin to suddenly go out like a light switch had been flicked.  It eventually disappeared, but we were all pretty shaken. In many of the pictures the light seems to be a sphere of some sort, moving in small circles while still hovering in the same spot.\n",
      "35000 :\n",
      "very bright round object, witnesses descending and hovering in sky over the city.,While standing outside with my neighbors,I notice a bright light descending in the sky.  The object stop and hovered on the horizon for approximately 35 minutes then disappeared.  The object appeared to be round and very bright white light, could not see any structure while looking through binoculars.  Object just disappeared.  No sound or movement.\n",
      "36000 :\n",
      "2 Objects in the Eastern Sierras and a white beam flashing,We saw 2 distinct lights/objects moving together slowly towards the South in the Eastern sky paralle to the Sierra mountains.  As the two objects moved one flashed a bright light for just a few seconds towards our direction (West).  After a minute or two the two objects separated and one changed direction and headed at a 90o heading West as the other object continued South.\n",
      "37000 :\n",
      "White and orange and seems to evade the military jets that do there night training at the air base near here.,February 27:  Maybe a second or two on can.  A light around the size of a 16 inch rims,as big around as the tires on my truck, a travel northwest to southeast visible for about 10 to15 seconds with the naked eye, I caught a second or 2 of it on cam before just vanished.\n",
      "38000 :\n",
      "I unmistakingly saw two faint stars flying at the same speed flying eastward from my backyard while star gazing from my swimming pool !,\"They looked like stars. I was gazing at the stars as I was relaxing in my pool when I noticed two stars that appeared to be moving!!!  Yes, they were moving, flying side by side at the same exact speed.  I watched them until they flew out of my sight.  No fancy lights, just faint looking stars.  They were flying easterly because I was facing north.  I want to know if anybody else seen this.  I am a little scared because I know what I saw was real.\n",
      "39000 :\n",
      "V shaped flying wing with lights in the whole shape of the wing like apartment lights or living area lights,Saw a very large object that looked like a giant flock of birds a first that's what I thought it was was a flock of goose flying at night but then all of the v shaped object had lights on the whole object flying overhead about cloud level no sound just soaring south with lights in whole portions of the v shaped wing object.  I have heard of other people reporting these v shaped flying wings and was very excited that I got to see one.  I tracked it for about 5 seconds then it was gone, they make no noise so it's very hard to pick up on them you have to only look with your eyes, I believe that is how they go undetected as they are completely quiet and move very fast but graceful through the night sky's.,((NUFORC Note:  Witness elects to remain totally anonymous; provides no contact information.  PD))\n",
      "40000 :\n",
      "Blue light observed over RT 24 northbound in the early morning.,Heading northbound on route 24, me and my father witness in front of us up on the sky a bright blue light that happend to travel down the sky similar to a shooting star. Later in a short duration while traveling South-south west direction it changed course to a north east direction in a dime and disappear down the horizon.  I Assumed that it was a shooting star till it made a 45 degree angle turn.,Witnessed at around 4:30-4:35 while going to make a pickup at Wharton ,NJ.  My father was the driver while I was passenger and we both witness the same event.\n",
      "41000 :\n",
      "Four oval orange lights seen near Eau Claire Wi,I drive truck on a route everynight and get back to Eau Claire about 12:00 ti 12:30 Am.  ,I travel on highway 29 and was getting onto the off ramp when I notice two very orange oval shape lights approaching my postion.  ,I pulled over and turned my truck off. I got out and watched two of these oval objects pass over me and then they dissappered.  ,They made no sound, moved about as fast as a small plane and were very bright orange.  I am positive they were not a plane or helicopter.  I got a very good look at them.  ,As soon as the first two disappeared another group of two came from the same direction and did the same as the first.  ,I have never seen anything like this before .\n",
      "42000 :\n",
      "Four fireball orbs hover over Placer/Sacramento County Line near Folsom Lake,We were driving south on Auburn-Folsom Road toward Folsom Dam Road when we noticed in the sky, four orange or red orbs.  They were not helicopters.  They were suspended vertically at different angles, and they seemed to just sit there.  Other motorists saw them, and pulled over to look.  As we traveled south, they just disappeared, or extinguished themselves.  Could have been Chinese lanterns.  They all went dark at different times, not simultaneously.\n",
      "43000 :\n",
      "Same as the reporting from Montclair, Nj. &quot; Large bright circular light that got smaller and smaller until it disappeared.&quot; I,Same as the reporting from Montclair, Nj. \" Large bright circular light that got smaller and smaller until it disappeared.\"  I was on top of a building on the roof, and happened to catch something bright from the corner of my eye in the sky, when I looked up I saw a big flash of white light shaped like a big orb for about 1-2 seconds and then it dimmed down a bit, then the light started getting smaller and smaller while traveling slowly across the sky until it disappeared. It just vanished. It wasn't an airplane, it just vanished!   Then about 5 minutes later higher up in the sky I saw a little dot of white moving across (not a plane) then when it got directly over my head it flashed into a big circular white light again for about 2 seconds then it dimmed down and kept moving across the sky slowly until the light vanished.  By vanish I dont mean it kept going across the sky until I could no longer see it but it died like blowing out a fire on the spot! .\n",
      "44000 :\n",
      "Saw weirrd 3 lighted triangle craft aprox 7:00 pm over Brunswick Maryland last night..  Was driving!  Looked like it was compied by civilian aircraft due to one flashing red strobe.  If anyone knows of the event please share!!\n",
      "45000 :\n",
      "I was kayaking on Olallie Lake today, June 30, 2013 with my stepson.  ,After arriving home and loading photos on the computer, I saw what looked like a ufo in one of the photos.   The lens needs cleaning and the round smear in the upper right corner is from the lens.  ,To both of us, it looks like a ufo.  We saw nothing, but I’ve heard of ufo’s showing up in photos, so I thought I would submit a photo.  ,It was very quiet at the lake and we did not hear anything unusual.,Camera data:  F/4, 1/400 sec, 4.74 MB  I am emailing a photo.\n",
      "46000 :\n",
      "My buddy and I were in a deep conversation and both saw a turquoise light go in light speed threw the sky under the clouds at lighten speed that we have never seen in our lives. ,We stopped looked at each other and said did yu see what I just saw.  I said we just saw a UFO!!  And he shook his head yes as we both just stood in did belief.  There out there I knew it.\n",
      "47000 :\n",
      "I am a retiread plychologist age 64. I sit out every night till about 2pm facing the south.  I saw  a large round orange ball, like a pumpkin on fire (fuzzy edges) appearing in the western sky and proceeding to the east.  It was very large about the size of a distant full moon while coming towards me getting increasingly smaller as it moved away.  Flight was controlled and horizontal.  ,It finally disapeared over a house to the east, over narragansett bay.  No sound, no variation in flight pattern.  Quite amazing.  In August of '09 I saw a black triangle moving much faster under a cloud bank back lite by a full moon..  At the time I had never heard of such.  In December of that year I googled it and learned that many others has seen the same thing.  I reported to mufon.  ((name deleted))\n",
      "48000 :\n",
      "UFO Chasing commercial flight in southern maine!!,Last night (10-12-12), I witnessed a commercial flight traveling to PWM followed by a bright white object.  It quickly closed the gap and was right behind commercial flight then remained a distance from it.  It descended diagonally below it, changed from white to red then seemingly \"imploded\" on itself.\n",
      "49000 :\n",
      "Strange fireball.,I noticed what seemed like a fireball streak from right to left with a very slight downward angle, but did not continue to fall to earth and there was no trace of light thereafter.  Living near an Air Force Base and local airport I have observed many different variations of aircraft, close enough to Cape Canaveral to witness launches of all kinds and have not ever noticed such a strange occurrence before.  I was standing just inside my screened in porch and stepped outside immediately.  It was very bright - very reddish/orange and very large.  It disappeared within 30 seconds roughly.  Not a meteor and night sky was as it should be.  It ALMOST looked like a burning plane but just stopped!\n",
      "50000 :\n",
      "2 bright lights, not moving seem relatively close, wish someone would confirm,Two lights in the sky and aren't moving. I see stars and compared to the stars they are much closer and brighter.  Couldn't tell what it is with binoculars. My friend said he saw them last night also.  They can be seen facing the West from my point.  Anyone know what the hell are these they aren't planes or helicopters and they don't flash just steady light,((NUFORC Note:  Jupiter and Saturn.  PD))\n",
      "51000 :\n",
      "Circular object emitting strong bright light moves unlike any man-made aircraft we know of today.,On Christmas Eve 2012 I noticed circular object emitting a strong bright light. it appeared out of nowhere. It zigzagged moving very fast. It then took off and the size of the object was greatly reduced as well as the strength of the light it emitted. I was hoping someone else was outside at the time, but after it disappeared I noticed no one else was outside. As I approached my home I had saw my neighbors outside I looked up and the object appeared out of nowhere again, traveling at great speeds and it was a very strong light emitting from the object. Luckily, my neighbors were outside and they were waiting for family for Christmas Eve to arrive. My neighbor actually had a camera around his neck, I shouted to him look up look up.,My neighbor was outside with his two young daughters and we were all amazed at how this object traveled and how it disappeared and then reappeared. It had disappeared and reappeared three times in total that night up to about 12 AM.,My neighbor took several pictures of the object. This had no characteristics of a plane or helicopter, it moved at such speeds and such different directions that it could not have been anything we know of right now. It was able to hover, take off, and hover, disappear then reappear. The light it gave off was captivating.,My neighbor and I are waiting for the film to develop. I am very excited to see how this object looks on film. I can assure you, there is no way possible it was a plane or helicopter. Without a doubt it has to be defined as as a UFO.,One more note,the light this object was giving off was so bright that you couldn't really make out the shape of the object. But, when I had seen it appear out of nowhere as it went across the sky I could see somehow, the top of the object. The top was a circular shape, like I could make out the top half of the object. I don't know if because it accelerated out of nowhere that I could make out the top half of the object, but after that the light was too strong to see the physical shape of the object. The light that was a emitting from it was a circular shape, like a fire ball., Note- the film still has to be developed. If my neighbor was able to get the image in his shot, of which I am positive he did, it should be amazing proof as I have never seen a thing like it. Please inform me of the best way to send the images. Thanks.\n",
      "52000 :\n",
      "Two silent white spheres crossing the early morning sky.,I was at Lindsey Gardens by the Salt Lake Cemetery; looking for the last of the meteor shower. I saw a really bright white sphere moving smoothly across the sky.  It seemed to get brighter and brighter like it was approaching or getting closer and I started to get scared, because I did not know what I was seeing.  Then another one not as bright was going in the opposite direction heading right to it and the brighter sphere moved down at a 90 degree angle! And then just kept on going.  The fainter sphere kept going in the other direction and quickly faded away. And then I watched the brighter sphere move across the sky.  It only took about 2 minutes for it to fade completely out of view.  As it faded away it looked just like a star in the sky.  There were no colored or blinking red lights on it. Just a beautiful bright orb looking thing.  I tried to get video of it, but my camera didn't register it.  About 3 minutes later, a plane went over head and I knew the sphere! was definitely not a plane.  The plane made noise and had two bright white lights on each wing and a blinking red light.  I don't know what it was. But I'm going there again with friends to see if it comes back.  It was amazing.  There's a lot going on at Dugway recently....it could be a military experiment. \n",
      "53000 :\n",
      "flying above the tree tops,I was traveling to california and was around midnight.  I saw a flying object that was a bright light and i said to myself that looks like a UFO.  It then came down over the top of the trees and followed me for over an hour. It dropped a flare like lazer bluish-white down in front of my car to get my attention but they didnt know they already had it.  I was not scared because this happened to me going over the 84 bridge in Palo Alto, Ca.  That time they dropped a green laser light in front of my car on a sunday morning at 0745 am.  Anyway I stopped to get gas and to told the station guy what just happened with the laser light dropping in front of my car.  I tried to play it off as a falling a star but told him it dropped from the top of the trees.  He smiled at me and said the same thing happened earlier that evening with him at the station.  He told me they are around there on a daily basis.  So i got in my car and left and within a few hours I was so sleep! y i pulled over and fell asleep sitting stright up in a car for over an hour.  Thats it.  Dont remember anything else that night.\n",
      "54000 :\n",
      "Six persons witnessed six orange lights passing over Olmsted Falls, Ohio amid fireworks displays.,At 21:50 on 7/4/11 I was leaving my father's home in Olmsted Falls, Ohio.  After loading my car, we stood in his driveway and watched fireworks.,At 22:00 we were talking and turned to face northeast (two o' clock) in the direction of I-480 and North Olmsted Golf Club.  Both of us saw a formation of six orange-colored, oval-shaped lights moving in line (from two o' clock to nine o' clock) toward our location.,I commented: \"I don't think those are fireworks.\"  My father was in the miliary and has flown aircraft. He stated: \"They must be military transport choppers!\"  He added: \"But it's not exactly safe conditions to be flying tonight.\"  ,At 22:01 three neighbors from down the street had been watching fireworks (southwest) and approached, one woman asking my father (due to his knowledge of aircraft) \"What kind of planes are those?\"  He told her he was uncertain.,The six orange lights flew in two wide triangular formations that stretched and contracted, narrowing as they passed over us.  The lights were solid, exhibiting no blinking or pulsing.  The lights made no sound, and my father remarked that \"you can't hear the rotors.\"  The lights paused at times, ascended and descended.,He asked me to photograph them with my Droid.  I attempted to first record video and second snap pictures.  I got two of them, but only caught one light in the picture.,At 22:01, after they passed over my father's house, the lights receded into the distance for a few seconds and then vanished.  A fourth neighbor/witness remarked that these may have been \"balloons.\"  The lights did not return.\n",
      "55000 :\n",
      "Bright white light hovering high in sky over S. Tampa,Bright white light hovering in sky:  not a helicopter (too high); hovers in a graceful, dancing-like movement; with naked eye, ( looks like bright star, but moves).  ,With iPad, see one triangular-shaped object with possibly another disc-like object nearby (video captured).,((NUFORC Note:  Witness elects to remain totally anonymous; provides no contact information.  PD))\n",
      "56000 :\n",
      "oval stationary object over Yuma Proving Grounds on New Years Day 2011.,around 2 PM on the first day of 2011, driving on 8 towards Yuma from the East, looking North, a stationary, white, oval object was stationary over the area near Castle Dome Peak by Yuma Proving ground. It did not move for between 30 minutes and one hour while we drove and we could still see it looking back towards Yuma as we headed out of town after stopping for lunch.\n",
      "57000 :\n",
      "3rd Sighting of same craft,2011 January 14 Sighting  Regarding this craft I have heard 11-25-10 and seen on 01-04-11:  On 1-14-11, at approximately 6pm, I heard this same very loud craft again, the 3rd time, the same loud sky tearing open sound but, even softer this time, going outside,  I could just make out the same craft, at some distance behind the tree line to the west of the property, its a very very sparsely populated area.  This 3rd occasion, I heard it and going outside, I witnessed it travelled from south to north there, probably a mile to a couple miles off I would guess.,My feeling was, that when I flashed my little red laser at them, on 01-04-11, iit irritated or scared them off, and they were keeping their distance this time...I really feel bad about that.  I did not get any closer look and it proceeded northbound, behind the trees, I could just barely make it out but, am fairly certain by the sound, it was the same craft.\n",
      "58000 :\n",
      "Particually bright White light/s in the night sky,I had returned to my Home (Drovers Lodge) after a late night out and was looking out across and over are farmland (i.e South) when I noticed a strange set of white lights (which looked extremely close together) in the night sky the lights seemed EXCEPTIONALLY bright (more bright than Stars) and where at an altitude of 1,OOO FEET or so weather the lights where from one object or individual lights from two/three seperate objects   I don't know as although they where not that far away they where  far enough away and it was to dark to be able to determine one way or the other.  I watched the lights for a short period of 25-30 seconds and then went inside  I don't know what this object or objects where,but it did seem strange. These lights where in almost the same place where I saw a Pure White glowing Shape changing flying ball/Disc/Saucer Nine Years previously.\n",
      "59000 :\n",
      "rectangular pair of light above the trees in madison ohio,i was driving down route 84 traveling east towards ashtabula, in madison ohio between wood road and dayton and from a distance i saw 2 lights that looked very not normal in an area i kno are no radio towers around ive drove down that road a million times,  i saw hovering, not moving lights that were orange and green not blinking about 20ft above the trees…  i thought thats odd i asked the other witness what he thought that looked like to him he said \"  a radio tower\"  im from the area and kno there is no radio tower there  like i said. it was still light enough outside to see there were no poles traveling from the top of the light and there were also no other lights going down from the top 2 lights if it were a radio tower..  we got right underneath it and i could see it right above the trees but we just kept driving so i didnt get a perfect mental picture if it was rectangular shape or a formation of 2 lights..  but it was not moving,staying light and not making a! ny noise hovering above the trees.,((NUFORC Note:  We assume an evening sighting, and we have changed the time above.  PD)),((NUFORC Note:  Witness elects to remain totally anonymous; provides no contact information.  PD))\n",
      "60000 :\n",
      "Light that moved.,Saw what appeared to be a very bright star.,The light subtly flickered and began to move, increasing it's speed with distance.,It was then obvious that the light was a craft, a ufo, that traveled untill we lost sight of it.\n",
      "61000 :\n",
      "I just went outside to my carport for a cigarette.  I looked up to the sky because I saw the searchlight a local business uses.  After the light beam had passed, I saw an object traveling through the sky at a high rate of speed.  At first, I thought it was a satellite passing over, but then realized that it was moving to fast for that. I watched it for about five seconds, and then was shocked to see it make a hard turn to the right, a 90 degree turn and then a second 90 degree turn so that it was heading back towards me. It then started moving back in the original direction, with no noticeable turn made.  It was out of sight within a matter of seconds.  There were no other witnesses to this.\n",
      "62000 :\n",
      "A quick moving green glowing ball seen while driving.,My friend and I were driving home through a suburban area and we saw a glowing green ball move quickly across the sky.  The ball was moving very quickly and was in and out of your sight within 3 seconds.  We thought it might have been a reflection off of the windshield but the speed and direction of the ball lead us to rule out this possibility.,((NUFORC NOTE:  Witness indicates that date of the sighting is approximate.  PD))\n",
      "63000 :\n",
      "It was a large boombrang or chevron looking ufo with two big yellowish-reddish lights that made no sound.,It was one night when I was with one of my friends and i notice something in the sky. I look to the sky and saw a light that was not far away from me.  As i saw it, i notice it came closer.I immeditaly knew that this was not some star, but something more odd and mysterious. I told my freind to look up and the first thing he said was,'holy crap thats a ufo'!  The ufo look like it was like a boombrang or chevron with two big yellowish-reddish circle lights at the bottom.  It lasted about 24 seconds up in the air until it came way to much close to me and my freind.  For a moment i thought it was going to abduct us but instead flew over us. It made no sound when this happpen. After it passed i look to the sky to try to see it again but had quickly vanished .,((NUFORC Note:  Witness elects to remain totally anonymous; provides no contact information.  PD))\n"
     ]
    }
   ],
   "source": [
    "for i in range(0, len(report_df), 1000):\n",
    "    print(i, ':')\n",
    "    print(report_df.iloc[i, 6])"
   ]
  },
  {
   "cell_type": "code",
   "execution_count": null,
   "metadata": {},
   "outputs": [],
   "source": []
  }
 ],
 "metadata": {
  "kernelspec": {
   "display_name": "Python 3",
   "language": "python",
   "name": "python3"
  },
  "language_info": {
   "codemirror_mode": {
    "name": "ipython",
    "version": 3
   },
   "file_extension": ".py",
   "mimetype": "text/x-python",
   "name": "python",
   "nbconvert_exporter": "python",
   "pygments_lexer": "ipython3",
   "version": "3.6.5"
  }
 },
 "nbformat": 4,
 "nbformat_minor": 2
}
